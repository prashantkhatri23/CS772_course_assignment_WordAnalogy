{
  "cells": [
    {
      "cell_type": "markdown",
      "source": [
        "#Testing"
      ],
      "metadata": {
        "id": "Y_VLEsW28XE0"
      }
    },
    {
      "cell_type": "markdown",
      "source": [
        "## Model Loading"
      ],
      "metadata": {
        "id": "tM2f-PNc8F7r"
      }
    },
    {
      "cell_type": "code",
      "execution_count": null,
      "metadata": {
        "id": "sFj078rYYKyr"
      },
      "outputs": [],
      "source": [
        "import numpy as np\n",
        "from pickle import load\n",
        "import os\n",
        "from tqdm import tqdm\n",
        "from operator import itemgetter"
      ]
    },
    {
      "cell_type": "code",
      "source": [
        "from google.colab import drive\n",
        "drive.mount('/content/drive')"
      ],
      "metadata": {
        "colab": {
          "base_uri": "https://localhost:8080/"
        },
        "id": "z5QWBug1X4UD",
        "outputId": "ee18ca6e-1992-4ce4-fcbd-919a28fc716e"
      },
      "execution_count": null,
      "outputs": [
        {
          "output_type": "stream",
          "name": "stdout",
          "text": [
            "Drive already mounted at /content/drive; to attempt to forcibly remount, call drive.mount(\"/content/drive\", force_remount=True).\n"
          ]
        }
      ]
    },
    {
      "cell_type": "code",
      "execution_count": null,
      "metadata": {
        "id": "aHWck_uxYSUh"
      },
      "outputs": [],
      "source": [
        "#load the dictionaries\n",
        "with open(r'/content/drive/MyDrive/CS 772/Asg1/new_w2id.pkl', 'rb') as f:\n",
        "  word2id = load(f)"
      ]
    },
    {
      "cell_type": "code",
      "execution_count": null,
      "metadata": {
        "id": "cvQO3WuGaP_3"
      },
      "outputs": [],
      "source": [
        "# with open(r'/content/drive/MyDrive/CS772-DL for NLP/Dictionaries/new_id2w.pkl', 'rb') as f:\n",
        "with open(r'/content/drive/MyDrive/CS 772/Asg1/new_id2w.pkl', 'rb') as f:\n",
        "  id2word = load(f)"
      ]
    },
    {
      "cell_type": "code",
      "execution_count": null,
      "metadata": {
        "id": "EnAybtBFcayg",
        "colab": {
          "base_uri": "https://localhost:8080/"
        },
        "outputId": "8f361307-2e8f-4592-c84b-0122204e32cd"
      },
      "outputs": [
        {
          "output_type": "execute_result",
          "data": {
            "text/plain": [
              "(51608, 50)"
            ]
          },
          "metadata": {},
          "execution_count": 24
        }
      ],
      "source": [
        "#load SkipGram and CBoW weights\n",
        "with open(r'/content/drive/MyDrive/CS 772/Asg1/SkipGram.pkl', 'rb') as f:\n",
        "  SGram = load(f)\n",
        "\n",
        "SGram_embeddings = SGram['w1']\n",
        "SGram_embeddings.shape"
      ]
    },
    {
      "cell_type": "code",
      "execution_count": null,
      "metadata": {
        "id": "fIvLSx8wdMjP",
        "colab": {
          "base_uri": "https://localhost:8080/"
        },
        "outputId": "b1e6abf5-b8e5-4796-c9ef-02ae4347a178"
      },
      "outputs": [
        {
          "output_type": "execute_result",
          "data": {
            "text/plain": [
              "(51608, 50)"
            ]
          },
          "metadata": {},
          "execution_count": 25
        }
      ],
      "source": [
        "with open(r'/content/drive/MyDrive/CS 772/Asg1/SkipGram.pkl', 'rb') as f:\n",
        "  CBoW = load(f)\n",
        "\n",
        "CBoW_embeddings = CBoW['w1']\n",
        "CBoW_embeddings.shape"
      ]
    },
    {
      "cell_type": "code",
      "execution_count": null,
      "metadata": {
        "id": "DW-MG_OWaTI_",
        "colab": {
          "base_uri": "https://localhost:8080/"
        },
        "outputId": "a8935bcb-843f-4758-d044-70d54769e654"
      },
      "outputs": [
        {
          "output_type": "stream",
          "name": "stdout",
          "text": [
            "991\n",
            "51608\n"
          ]
        }
      ],
      "source": [
        "#load validation data\n",
        "with open('//content/drive/MyDrive/CS 772/Asg1/Validation.txt', 'r') as f:\n",
        "  instances = f.readlines()\n",
        "\n",
        "instances = [data.strip('\\n') for data in instances]        #remove '\\n' from end of each line\n",
        "print(len(instances))\n",
        "\n",
        "vocab = list(word2id.keys())\n",
        "V = len(vocab)\n",
        "print(V)"
      ]
    },
    {
      "cell_type": "code",
      "execution_count": null,
      "metadata": {
        "id": "8NyVrmGbPPo3"
      },
      "outputs": [],
      "source": [
        "#used for one dimensional vectors i.e. with shape (d, )\n",
        "def softmax(x):\n",
        "  assert len(x.shape)==1, f\"one dimensional ndarray expected. got {len(x.shape)} dim array\"\n",
        "  exp = np.exp(x - np.max(x))\n",
        "  return exp/exp.sum()"
      ]
    },
    {
      "cell_type": "markdown",
      "source": [
        "## Validation Set"
      ],
      "metadata": {
        "id": "AspIqr_h8QeE"
      }
    },
    {
      "cell_type": "code",
      "execution_count": null,
      "metadata": {
        "id": "RpSSlBWL7tBS"
      },
      "outputs": [],
      "source": [
        "top_k = [1, 5, 50, 100, 150, 200, 250, 300, 350, 400, 450, 500]"
      ]
    },
    {
      "cell_type": "code",
      "execution_count": null,
      "metadata": {
        "colab": {
          "base_uri": "https://localhost:8080/"
        },
        "id": "ImoRN7Uvg4Au",
        "outputId": "387fa621-baf4-47da-cd63-5feea490a958"
      },
      "outputs": [
        {
          "output_type": "stream",
          "name": "stderr",
          "text": [
            "100%|██████████| 991/991 [02:52<00:00,  5.75it/s]\n"
          ]
        }
      ],
      "source": [
        "#validation instances are checked here\n",
        "#list of predictions and true values in the validation dataset for SGram\n",
        "\n",
        "SGram_preds = []\n",
        "SGram_true = []\n",
        "\n",
        "skipped_instance = []\n",
        "for instance in tqdm(instances):\n",
        "  words = [i.lower() for i in instance.split(' ')]\n",
        "\n",
        "  if words[0] not in vocab:\n",
        "    a = None\n",
        "  else:\n",
        "    a = SGram_embeddings[word2id[words[0]]]\n",
        "\n",
        "  if words[1] not in vocab:\n",
        "    b = None\n",
        "  else:\n",
        "    b = SGram_embeddings[word2id[words[1]]]\n",
        "\n",
        "  if words[2] not in vocab:\n",
        "    c = None\n",
        "  else:\n",
        "    c = SGram_embeddings[word2id[words[2]]]\n",
        "\n",
        "\n",
        "  if a is not None and b is not None and c is not None:\n",
        "    SGram_true.append(words[-1])\n",
        "    exp_vec = b - a + c\n",
        "    dot_prod_args = []\n",
        "    for i in range(V):\n",
        "      dot_prod_args.append(np.dot(SGram_embeddings[i], exp_vec))\n",
        "\n",
        "    prob_dist = softmax(np.array(dot_prod_args))\n",
        "    prob_dist_indexed = list(enumerate(prob_dist))\n",
        "    prob_dist_sorted = sorted(prob_dist_indexed, key=itemgetter(1), reverse=True)\n",
        "\n",
        "    SGram_k = []\n",
        "    for k in top_k:\n",
        "      similar_word_id = [tup[0] for tup in prob_dist_sorted[:k]]\n",
        "      pred_word = []\n",
        "      for id in similar_word_id:\n",
        "        pred_word.append(id2word[id])\n",
        "\n",
        "      SGram_k.append(pred_word)\n",
        "\n",
        "    SGram_preds.append(SGram_k)\n",
        "  else:\n",
        "    skipped_instance.append(instance)\n",
        ""
      ]
    },
    {
      "cell_type": "code",
      "execution_count": null,
      "metadata": {
        "id": "9hUrkdQzWATr"
      },
      "outputs": [],
      "source": [
        "%%capture\n",
        "print(f\"The following {len(skipped_instance)} instances have been ignored due to one or more words not present in vocab\")\n",
        "for si in skipped_instance:\n",
        "    print(si)"
      ]
    },
    {
      "cell_type": "code",
      "execution_count": null,
      "metadata": {
        "colab": {
          "base_uri": "https://localhost:8080/"
        },
        "id": "oJONl1LfUiwL",
        "outputId": "02142f54-d851-44bb-ed47-708a3badde85"
      },
      "outputs": [
        {
          "output_type": "stream",
          "name": "stdout",
          "text": [
            "916 916 11\n"
          ]
        }
      ],
      "source": [
        "print(len(SGram_true), len(SGram_preds), len(SGram_preds[0]))"
      ]
    },
    {
      "cell_type": "code",
      "execution_count": null,
      "metadata": {
        "colab": {
          "base_uri": "https://localhost:8080/"
        },
        "id": "jU87rsYek2Gc",
        "outputId": "0c73cadf-d971-4faf-f3d0-0559e0d8d8ba"
      },
      "outputs": [
        {
          "output_type": "stream",
          "name": "stdout",
          "text": [
            "SKIPGRAM\n",
            "Top-5 -  Correct: 7 out of 916 ; Accuracy: 0.007641921397379912\n",
            "Top-50 -  Correct: 39 out of 916 ; Accuracy: 0.0425764192139738\n",
            "Top-100 -  Correct: 62 out of 916 ; Accuracy: 0.06768558951965066\n",
            "Top-150 -  Correct: 74 out of 916 ; Accuracy: 0.08078602620087336\n",
            "Top-200 -  Correct: 93 out of 916 ; Accuracy: 0.10152838427947598\n",
            "Top-250 -  Correct: 106 out of 916 ; Accuracy: 0.11572052401746726\n",
            "Top-300 -  Correct: 122 out of 916 ; Accuracy: 0.1331877729257642\n",
            "Top-350 -  Correct: 139 out of 916 ; Accuracy: 0.1517467248908297\n",
            "Top-400 -  Correct: 149 out of 916 ; Accuracy: 0.16266375545851527\n",
            "Top-450 -  Correct: 161 out of 916 ; Accuracy: 0.17576419213973798\n",
            "Top-500 -  Correct: 171 out of 916 ; Accuracy: 0.18668122270742357\n"
          ]
        }
      ],
      "source": [
        "#calculate SkipGram accuracy in the validation set\n",
        "print(\"SKIPGRAM\")\n",
        "val_num = len(SGram_true)\n",
        "accuracy_k = []\n",
        "\n",
        "for i in range(len(top_k)):\n",
        "  correct = 0\n",
        "  for j in range(val_num):\n",
        "    if SGram_true[j] in SGram_preds[j][i]:\n",
        "      correct += 1\n",
        "\n",
        "  accuracy = correct/val_num\n",
        "  print(f'Top-{top_k[i]} -  Correct: {correct} out of {val_num} ; Accuracy: {accuracy}')\n"
      ]
    },
    {
      "cell_type": "code",
      "execution_count": null,
      "metadata": {
        "colab": {
          "base_uri": "https://localhost:8080/"
        },
        "id": "zxW-5iJXWATv",
        "outputId": "86814e14-309e-4ad5-b165-17419577b977"
      },
      "outputs": [
        {
          "output_type": "stream",
          "name": "stderr",
          "text": [
            "100%|██████████| 991/991 [02:45<00:00,  5.98it/s]\n"
          ]
        }
      ],
      "source": [
        "#validation instances are checked here\n",
        "#list of predictions and true values in the validation dataset for SGram\n",
        "\n",
        "CBoW_preds = []\n",
        "CBoW_true = []\n",
        "\n",
        "skipped_instance = []\n",
        "for instance in tqdm(instances):\n",
        "  words = [i.lower() for i in instance.split(' ')]\n",
        "\n",
        "  if words[0] not in vocab:\n",
        "    a = None\n",
        "  else:\n",
        "    a = CBoW_embeddings[word2id[words[0]]]\n",
        "\n",
        "  if words[1] not in vocab:\n",
        "    b = None\n",
        "  else:\n",
        "    b = CBoW_embeddings[word2id[words[1]]]\n",
        "\n",
        "  if words[2] not in vocab:\n",
        "    c = None\n",
        "  else:\n",
        "    c = CBoW_embeddings[word2id[words[2]]]\n",
        "\n",
        "\n",
        "  if a is not None and b is not None and c is not None:\n",
        "    CBoW_true.append(words[-1])\n",
        "    exp_vec = b - a + c\n",
        "    dot_prod_args = []\n",
        "    for i in range(V):\n",
        "      dot_prod_args.append(np.dot(CBoW_embeddings[i], exp_vec))\n",
        "\n",
        "    prob_dist = softmax(np.array(dot_prod_args))\n",
        "    prob_dist_indexed = list(enumerate(prob_dist))\n",
        "    prob_dist_sorted = sorted(prob_dist_indexed, key=itemgetter(1), reverse=True)\n",
        "\n",
        "    CBoW_k = []\n",
        "    for k in top_k:\n",
        "      similar_word_id = [tup[0] for tup in prob_dist_sorted[:k]]\n",
        "      pred_word = []\n",
        "      for id in similar_word_id:\n",
        "        pred_word.append(id2word[id])\n",
        "\n",
        "      CBoW_k.append(pred_word)\n",
        "\n",
        "    CBoW_preds.append(CBoW_k)\n",
        "  else:\n",
        "    skipped_instance.append(instance)"
      ]
    },
    {
      "cell_type": "code",
      "execution_count": null,
      "metadata": {
        "colab": {
          "base_uri": "https://localhost:8080/"
        },
        "id": "T7JRacJoWATx",
        "outputId": "1d116c40-5922-4bce-98f2-e1815f2fad8a"
      },
      "outputs": [
        {
          "output_type": "stream",
          "name": "stdout",
          "text": [
            "CBoW\n",
            "Top-5 -  Correct: 7 out of 916 ; Accuracy: 0.007641921397379912\n",
            "Top-50 -  Correct: 39 out of 916 ; Accuracy: 0.0425764192139738\n",
            "Top-100 -  Correct: 62 out of 916 ; Accuracy: 0.06768558951965066\n",
            "Top-150 -  Correct: 74 out of 916 ; Accuracy: 0.08078602620087336\n",
            "Top-200 -  Correct: 93 out of 916 ; Accuracy: 0.10152838427947598\n",
            "Top-250 -  Correct: 106 out of 916 ; Accuracy: 0.11572052401746726\n",
            "Top-300 -  Correct: 122 out of 916 ; Accuracy: 0.1331877729257642\n",
            "Top-350 -  Correct: 139 out of 916 ; Accuracy: 0.1517467248908297\n",
            "Top-400 -  Correct: 149 out of 916 ; Accuracy: 0.16266375545851527\n",
            "Top-450 -  Correct: 161 out of 916 ; Accuracy: 0.17576419213973798\n",
            "Top-500 -  Correct: 171 out of 916 ; Accuracy: 0.18668122270742357\n"
          ]
        }
      ],
      "source": [
        "#calculate SkipGram accuracy in the validation set\n",
        "print(\"CBoW\")\n",
        "val_num = len(CBoW_true)\n",
        "accuracy_k = []\n",
        "\n",
        "for i in range(len(top_k)):\n",
        "  correct = 0\n",
        "  for j in range(val_num):\n",
        "    if CBoW_true[j] in CBoW_preds[j][i]:\n",
        "      correct += 1\n",
        "\n",
        "  accuracy = correct/val_num\n",
        "  print(f'Top-{top_k[i]} -  Correct: {correct} out of {val_num} ; Accuracy: {accuracy}')"
      ]
    },
    {
      "cell_type": "markdown",
      "source": [
        "## Demo"
      ],
      "metadata": {
        "id": "2fRfwL447_RZ"
      }
    },
    {
      "cell_type": "code",
      "execution_count": null,
      "metadata": {
        "id": "3NpOCRKzS9Ik"
      },
      "outputs": [],
      "source": [
        "#code to for test(unseen data)\n",
        "test_instance = \"writer writes reader\"\n",
        "words = test_instance.split(' ')"
      ]
    },
    {
      "cell_type": "code",
      "execution_count": null,
      "metadata": {
        "id": "1tCR7LiPoiU4"
      },
      "outputs": [],
      "source": [
        "Svec1 = SGram_embeddings[word2id[words[0]]]\n",
        "Svec2 = SGram_embeddings[word2id[words[1]]]\n",
        "Svec3 = SGram_embeddings[word2id[words[2]]]\n",
        "\n",
        "S_exp = Svec3 + Svec2 - Svec1"
      ]
    },
    {
      "cell_type": "code",
      "execution_count": null,
      "metadata": {
        "id": "v14oPu6cTRuI"
      },
      "outputs": [],
      "source": [
        "Cvec1 = CBoW_embeddings[word2id[words[0]]]\n",
        "Cvec2 = CBoW_embeddings[word2id[words[1]]]\n",
        "Cvec3 = CBoW_embeddings[word2id[words[2]]]\n",
        "\n",
        "C_exp = Cvec3 + Cvec2 - Cvec1"
      ]
    },
    {
      "cell_type": "code",
      "execution_count": null,
      "metadata": {
        "colab": {
          "base_uri": "https://localhost:8080/"
        },
        "id": "vcYUpv7LThq5",
        "outputId": "50308650-3049-4a9a-bc34-90f101431ea1"
      },
      "outputs": [
        {
          "output_type": "stream",
          "name": "stdout",
          "text": [
            "SkipGram : [['counties'], ['counties', 'schengen', 'prakrit', 'lanark', 'myanmar'], ['counties', 'schengen', 'prakrit', 'lanark', 'myanmar', 'communicate', 'townships', 'renfrew', 'weekday', 'characterised', 'russell', 'promoted', 'sisi', 'corresponds', 'coe', 'facto', 'republic', 'eur', 'dhili', 'writes', 'hindi', 'zhou', 'persians', 'guadarrama', 'combe', 'repopulating', 'liveth', 'domestic', 'oecd', 'visaya', 'chuse', 'governorate', 'hominin', 'december', 'verb', 'eurozone', 'el', 'walking', 'questions', 'contribution', 'amorites', 'parliamentary', 'vatican', 'code', 'les', 'china', 'nato', 'thos', 'properly', 'identification'], ['counties', 'schengen', 'prakrit', 'lanark', 'myanmar', 'communicate', 'townships', 'renfrew', 'weekday', 'characterised', 'russell', 'promoted', 'sisi', 'corresponds', 'coe', 'facto', 'republic', 'eur', 'dhili', 'writes', 'hindi', 'zhou', 'persians', 'guadarrama', 'combe', 'repopulating', 'liveth', 'domestic', 'oecd', 'visaya', 'chuse', 'governorate', 'hominin', 'december', 'verb', 'eurozone', 'el', 'walking', 'questions', 'contribution', 'amorites', 'parliamentary', 'vatican', 'code', 'les', 'china', 'nato', 'thos', 'properly', 'identification', 'ell', 'udra', 'floweth', 'luoyang', 'tlemcen', 'abdel', 'panaji', 'industrialization', 'euro', 'engineering', 'jebusites', 'hivites', 'peninsular', 'grenville', 'induced', 'iberian', 'facilities', 'stormont', 'withdrawal', 'kenya', 'fattah', 'nthos', 'phase', 'derived', 'member', 'ask', 'news', 'ambulation', 'planning', 'nordic', 'businesses', 'nominal', 'tunisia', 'miss', 'unhappiness', 'influenced', 'perizzites', 'autonomous', 'vande', 'landlocked', 'commonly', 'county', 'onwards', 'navigate', 'periods', 'pray', 'la', 'outdated', 'elites', 'municipality'], ['counties', 'schengen', 'prakrit', 'lanark', 'myanmar', 'communicate', 'townships', 'renfrew', 'weekday', 'characterised', 'russell', 'promoted', 'sisi', 'corresponds', 'coe', 'facto', 'republic', 'eur', 'dhili', 'writes', 'hindi', 'zhou', 'persians', 'guadarrama', 'combe', 'repopulating', 'liveth', 'domestic', 'oecd', 'visaya', 'chuse', 'governorate', 'hominin', 'december', 'verb', 'eurozone', 'el', 'walking', 'questions', 'contribution', 'amorites', 'parliamentary', 'vatican', 'code', 'les', 'china', 'nato', 'thos', 'properly', 'identification', 'ell', 'udra', 'floweth', 'luoyang', 'tlemcen', 'abdel', 'panaji', 'industrialization', 'euro', 'engineering', 'jebusites', 'hivites', 'peninsular', 'grenville', 'induced', 'iberian', 'facilities', 'stormont', 'withdrawal', 'kenya', 'fattah', 'nthos', 'phase', 'derived', 'member', 'ask', 'news', 'ambulation', 'planning', 'nordic', 'businesses', 'nominal', 'tunisia', 'miss', 'unhappiness', 'influenced', 'perizzites', 'autonomous', 'vande', 'landlocked', 'commonly', 'county', 'onwards', 'navigate', 'periods', 'pray', 'la', 'outdated', 'elites', 'municipality', 'comune', 'fragmentation', 'populous', 'leeds', 'odda', 'occupying', 'enquiries', 'billion', 'democracy', 'roy', 'segovia', 'prescott', 'ltd', 'manzanares', 'portuguese', 'lady', 'information', 'bates', 'talents', 'slovenia', 'dollars', 'tamar', 'woodhouse', 'ru', 'switzerland', 'walkers', 'alloy', 'lingaraj', 'metro', 'sware', 'inhabit', 'hosted', 'nt', 'organisation', 'plata', 'desh', 'jabbok', 'concejo', 'napoleonic', 'geopolitically', 'mamma', 'perceiving', 'defining', 'michal', 'languages', 'council', 'carpetani', 'flexed', 'ibero', 'approbation'], ['counties', 'schengen', 'prakrit', 'lanark', 'myanmar', 'communicate', 'townships', 'renfrew', 'weekday', 'characterised', 'russell', 'promoted', 'sisi', 'corresponds', 'coe', 'facto', 'republic', 'eur', 'dhili', 'writes', 'hindi', 'zhou', 'persians', 'guadarrama', 'combe', 'repopulating', 'liveth', 'domestic', 'oecd', 'visaya', 'chuse', 'governorate', 'hominin', 'december', 'verb', 'eurozone', 'el', 'walking', 'questions', 'contribution', 'amorites', 'parliamentary', 'vatican', 'code', 'les', 'china', 'nato', 'thos', 'properly', 'identification', 'ell', 'udra', 'floweth', 'luoyang', 'tlemcen', 'abdel', 'panaji', 'industrialization', 'euro', 'engineering', 'jebusites', 'hivites', 'peninsular', 'grenville', 'induced', 'iberian', 'facilities', 'stormont', 'withdrawal', 'kenya', 'fattah', 'nthos', 'phase', 'derived', 'member', 'ask', 'news', 'ambulation', 'planning', 'nordic', 'businesses', 'nominal', 'tunisia', 'miss', 'unhappiness', 'influenced', 'perizzites', 'autonomous', 'vande', 'landlocked', 'commonly', 'county', 'onwards', 'navigate', 'periods', 'pray', 'la', 'outdated', 'elites', 'municipality', 'comune', 'fragmentation', 'populous', 'leeds', 'odda', 'occupying', 'enquiries', 'billion', 'democracy', 'roy', 'segovia', 'prescott', 'ltd', 'manzanares', 'portuguese', 'lady', 'information', 'bates', 'talents', 'slovenia', 'dollars', 'tamar', 'woodhouse', 'ru', 'switzerland', 'walkers', 'alloy', 'lingaraj', 'metro', 'sware', 'inhabit', 'hosted', 'nt', 'organisation', 'plata', 'desh', 'jabbok', 'concejo', 'napoleonic', 'geopolitically', 'mamma', 'perceiving', 'defining', 'michal', 'languages', 'council', 'carpetani', 'flexed', 'ibero', 'approbation', 'depopulation', 'serving', 'berkeley', 'ramblers', 'ptolemaic', 'elliot', 'area', 'physicians', 'displeased', 'brics', 'phasis', 'tracing', 'enlightenment', 'renamed', 'santiago', 'dalrymple', 'efficient', 'mundari', 'plateau', 'allahabad', 'vietnam', 'warmest', 'drave', 'hanech', 'jane', 'occupation', 'adjure', 'per', 'fairfax', 'attributed', 'horeb', 'kilometres', 'puerto', 'benefits', 'staying', 'timidly', 'technology', 'eriksson', 'value', 'referendum', 'territory', 'harley', 'rice', 'usha', 'forebodings', 'reformation', 'sovereignity', 'flutter', 'mrs', 'vijay'], ['counties', 'schengen', 'prakrit', 'lanark', 'myanmar', 'communicate', 'townships', 'renfrew', 'weekday', 'characterised', 'russell', 'promoted', 'sisi', 'corresponds', 'coe', 'facto', 'republic', 'eur', 'dhili', 'writes', 'hindi', 'zhou', 'persians', 'guadarrama', 'combe', 'repopulating', 'liveth', 'domestic', 'oecd', 'visaya', 'chuse', 'governorate', 'hominin', 'december', 'verb', 'eurozone', 'el', 'walking', 'questions', 'contribution', 'amorites', 'parliamentary', 'vatican', 'code', 'les', 'china', 'nato', 'thos', 'properly', 'identification', 'ell', 'udra', 'floweth', 'luoyang', 'tlemcen', 'abdel', 'panaji', 'industrialization', 'euro', 'engineering', 'jebusites', 'hivites', 'peninsular', 'grenville', 'induced', 'iberian', 'facilities', 'stormont', 'withdrawal', 'kenya', 'fattah', 'nthos', 'phase', 'derived', 'member', 'ask', 'news', 'ambulation', 'planning', 'nordic', 'businesses', 'nominal', 'tunisia', 'miss', 'unhappiness', 'influenced', 'perizzites', 'autonomous', 'vande', 'landlocked', 'commonly', 'county', 'onwards', 'navigate', 'periods', 'pray', 'la', 'outdated', 'elites', 'municipality', 'comune', 'fragmentation', 'populous', 'leeds', 'odda', 'occupying', 'enquiries', 'billion', 'democracy', 'roy', 'segovia', 'prescott', 'ltd', 'manzanares', 'portuguese', 'lady', 'information', 'bates', 'talents', 'slovenia', 'dollars', 'tamar', 'woodhouse', 'ru', 'switzerland', 'walkers', 'alloy', 'lingaraj', 'metro', 'sware', 'inhabit', 'hosted', 'nt', 'organisation', 'plata', 'desh', 'jabbok', 'concejo', 'napoleonic', 'geopolitically', 'mamma', 'perceiving', 'defining', 'michal', 'languages', 'council', 'carpetani', 'flexed', 'ibero', 'approbation', 'depopulation', 'serving', 'berkeley', 'ramblers', 'ptolemaic', 'elliot', 'area', 'physicians', 'displeased', 'brics', 'phasis', 'tracing', 'enlightenment', 'renamed', 'santiago', 'dalrymple', 'efficient', 'mundari', 'plateau', 'allahabad', 'vietnam', 'warmest', 'drave', 'hanech', 'jane', 'occupation', 'adjure', 'per', 'fairfax', 'attributed', 'horeb', 'kilometres', 'puerto', 'benefits', 'staying', 'timidly', 'technology', 'eriksson', 'value', 'referendum', 'territory', 'harley', 'rice', 'usha', 'forebodings', 'reformation', 'sovereignity', 'flutter', 'mrs', 'vijay', 'drams', 'glengarry', 'willensnationcode', 'dundas', 'district', 'gdp', 'municipalities', 'elephantis', 'confidence', 'russians', 'oran', 'suburban', 'deserving', 'ferum', 'kadesh', 'u', 'transporting', 'withhold', 'brunswick', 'isabella', 'hypothetical', 'cairo', 'dependency', 'leonora', 'exarchate', 'opera', 'submitted', 'ancestors', 'favour', 'hiring', 'improve', 'concentrated', 'baalim', 'diaspora', 'altava', 'franks', 'locations', 'czech', 'delaford', 'goddard', 'declare', 'amalgamation', 'hittites', 'davaka', 'undergoing', 'romanization', 'schweizcode', 'rewarded', 'southwestern', 'saale'], ['counties', 'schengen', 'prakrit', 'lanark', 'myanmar', 'communicate', 'townships', 'renfrew', 'weekday', 'characterised', 'russell', 'promoted', 'sisi', 'corresponds', 'coe', 'facto', 'republic', 'eur', 'dhili', 'writes', 'hindi', 'zhou', 'persians', 'guadarrama', 'combe', 'repopulating', 'liveth', 'domestic', 'oecd', 'visaya', 'chuse', 'governorate', 'hominin', 'december', 'verb', 'eurozone', 'el', 'walking', 'questions', 'contribution', 'amorites', 'parliamentary', 'vatican', 'code', 'les', 'china', 'nato', 'thos', 'properly', 'identification', 'ell', 'udra', 'floweth', 'luoyang', 'tlemcen', 'abdel', 'panaji', 'industrialization', 'euro', 'engineering', 'jebusites', 'hivites', 'peninsular', 'grenville', 'induced', 'iberian', 'facilities', 'stormont', 'withdrawal', 'kenya', 'fattah', 'nthos', 'phase', 'derived', 'member', 'ask', 'news', 'ambulation', 'planning', 'nordic', 'businesses', 'nominal', 'tunisia', 'miss', 'unhappiness', 'influenced', 'perizzites', 'autonomous', 'vande', 'landlocked', 'commonly', 'county', 'onwards', 'navigate', 'periods', 'pray', 'la', 'outdated', 'elites', 'municipality', 'comune', 'fragmentation', 'populous', 'leeds', 'odda', 'occupying', 'enquiries', 'billion', 'democracy', 'roy', 'segovia', 'prescott', 'ltd', 'manzanares', 'portuguese', 'lady', 'information', 'bates', 'talents', 'slovenia', 'dollars', 'tamar', 'woodhouse', 'ru', 'switzerland', 'walkers', 'alloy', 'lingaraj', 'metro', 'sware', 'inhabit', 'hosted', 'nt', 'organisation', 'plata', 'desh', 'jabbok', 'concejo', 'napoleonic', 'geopolitically', 'mamma', 'perceiving', 'defining', 'michal', 'languages', 'council', 'carpetani', 'flexed', 'ibero', 'approbation', 'depopulation', 'serving', 'berkeley', 'ramblers', 'ptolemaic', 'elliot', 'area', 'physicians', 'displeased', 'brics', 'phasis', 'tracing', 'enlightenment', 'renamed', 'santiago', 'dalrymple', 'efficient', 'mundari', 'plateau', 'allahabad', 'vietnam', 'warmest', 'drave', 'hanech', 'jane', 'occupation', 'adjure', 'per', 'fairfax', 'attributed', 'horeb', 'kilometres', 'puerto', 'benefits', 'staying', 'timidly', 'technology', 'eriksson', 'value', 'referendum', 'territory', 'harley', 'rice', 'usha', 'forebodings', 'reformation', 'sovereignity', 'flutter', 'mrs', 'vijay', 'drams', 'glengarry', 'willensnationcode', 'dundas', 'district', 'gdp', 'municipalities', 'elephantis', 'confidence', 'russians', 'oran', 'suburban', 'deserving', 'ferum', 'kadesh', 'u', 'transporting', 'withhold', 'brunswick', 'isabella', 'hypothetical', 'cairo', 'dependency', 'leonora', 'exarchate', 'opera', 'submitted', 'ancestors', 'favour', 'hiring', 'improve', 'concentrated', 'baalim', 'diaspora', 'altava', 'franks', 'locations', 'czech', 'delaford', 'goddard', 'declare', 'amalgamation', 'hittites', 'davaka', 'undergoing', 'romanization', 'schweizcode', 'rewarded', 'southwestern', 'saale', 'metropolis', 'haora', 'displease', 'hirat', 'focal', 'culture', 'hoped', 'accounting', 'environmental', 'estate', 'offended', 'municipal', 'bustle', 'russkiyecode', 'humours', 'gratified', 'endeavour', 'artifacts', 'ammon', 'zion', 'dollar', 'currency', 'nine', 'bhasa', 'prolong', 'disposed', 'listen', 'recover', 'supposedly', 'urban', 'related', 'northeastern', 'blunder', 'jharkhand', 'bipedal', 'travel', 'rossiyanecode', 'monsoon', 'reduce', 'middleton', 'rejoiced', 'campbells', 'totally', 'underwent', 'enscombe', 'puppet', 'entreat', 'administration', 'martin', 'recollection'], ['counties', 'schengen', 'prakrit', 'lanark', 'myanmar', 'communicate', 'townships', 'renfrew', 'weekday', 'characterised', 'russell', 'promoted', 'sisi', 'corresponds', 'coe', 'facto', 'republic', 'eur', 'dhili', 'writes', 'hindi', 'zhou', 'persians', 'guadarrama', 'combe', 'repopulating', 'liveth', 'domestic', 'oecd', 'visaya', 'chuse', 'governorate', 'hominin', 'december', 'verb', 'eurozone', 'el', 'walking', 'questions', 'contribution', 'amorites', 'parliamentary', 'vatican', 'code', 'les', 'china', 'nato', 'thos', 'properly', 'identification', 'ell', 'udra', 'floweth', 'luoyang', 'tlemcen', 'abdel', 'panaji', 'industrialization', 'euro', 'engineering', 'jebusites', 'hivites', 'peninsular', 'grenville', 'induced', 'iberian', 'facilities', 'stormont', 'withdrawal', 'kenya', 'fattah', 'nthos', 'phase', 'derived', 'member', 'ask', 'news', 'ambulation', 'planning', 'nordic', 'businesses', 'nominal', 'tunisia', 'miss', 'unhappiness', 'influenced', 'perizzites', 'autonomous', 'vande', 'landlocked', 'commonly', 'county', 'onwards', 'navigate', 'periods', 'pray', 'la', 'outdated', 'elites', 'municipality', 'comune', 'fragmentation', 'populous', 'leeds', 'odda', 'occupying', 'enquiries', 'billion', 'democracy', 'roy', 'segovia', 'prescott', 'ltd', 'manzanares', 'portuguese', 'lady', 'information', 'bates', 'talents', 'slovenia', 'dollars', 'tamar', 'woodhouse', 'ru', 'switzerland', 'walkers', 'alloy', 'lingaraj', 'metro', 'sware', 'inhabit', 'hosted', 'nt', 'organisation', 'plata', 'desh', 'jabbok', 'concejo', 'napoleonic', 'geopolitically', 'mamma', 'perceiving', 'defining', 'michal', 'languages', 'council', 'carpetani', 'flexed', 'ibero', 'approbation', 'depopulation', 'serving', 'berkeley', 'ramblers', 'ptolemaic', 'elliot', 'area', 'physicians', 'displeased', 'brics', 'phasis', 'tracing', 'enlightenment', 'renamed', 'santiago', 'dalrymple', 'efficient', 'mundari', 'plateau', 'allahabad', 'vietnam', 'warmest', 'drave', 'hanech', 'jane', 'occupation', 'adjure', 'per', 'fairfax', 'attributed', 'horeb', 'kilometres', 'puerto', 'benefits', 'staying', 'timidly', 'technology', 'eriksson', 'value', 'referendum', 'territory', 'harley', 'rice', 'usha', 'forebodings', 'reformation', 'sovereignity', 'flutter', 'mrs', 'vijay', 'drams', 'glengarry', 'willensnationcode', 'dundas', 'district', 'gdp', 'municipalities', 'elephantis', 'confidence', 'russians', 'oran', 'suburban', 'deserving', 'ferum', 'kadesh', 'u', 'transporting', 'withhold', 'brunswick', 'isabella', 'hypothetical', 'cairo', 'dependency', 'leonora', 'exarchate', 'opera', 'submitted', 'ancestors', 'favour', 'hiring', 'improve', 'concentrated', 'baalim', 'diaspora', 'altava', 'franks', 'locations', 'czech', 'delaford', 'goddard', 'declare', 'amalgamation', 'hittites', 'davaka', 'undergoing', 'romanization', 'schweizcode', 'rewarded', 'southwestern', 'saale', 'metropolis', 'haora', 'displease', 'hirat', 'focal', 'culture', 'hoped', 'accounting', 'environmental', 'estate', 'offended', 'municipal', 'bustle', 'russkiyecode', 'humours', 'gratified', 'endeavour', 'artifacts', 'ammon', 'zion', 'dollar', 'currency', 'nine', 'bhasa', 'prolong', 'disposed', 'listen', 'recover', 'supposedly', 'urban', 'related', 'northeastern', 'blunder', 'jharkhand', 'bipedal', 'travel', 'rossiyanecode', 'monsoon', 'reduce', 'middleton', 'rejoiced', 'campbells', 'totally', 'underwent', 'enscombe', 'puppet', 'entreat', 'administration', 'martin', 'recollection', 'dhakka', 'sparsely', 'international', 'tomaras', 'sentest', 'range', 'gresham', 'suburbs', 'strangers', 'rts', 'bazaar', 'osce', 'minutes', 'pronunciation', 'liked', 'mahdia', 'mentioned', 'middletons', 'organization', 'dos', 'downstairs', 'cyclone', 'harriet', 'invite', 'safely', 'disagreement', 'risks', 'periphery', 'parishes', 'comparison', 'speak', 'musgroves', 'morrow', 'capta', 'somers', 'comfort', 'belial', 'measures', 'employment', 'theorized', 'riobamba', 'loyal', 'fortnight', 'politically', 'married', 'freed', 'encouragement', 'intimacy', 'worshipped', 'europe'], ['counties', 'schengen', 'prakrit', 'lanark', 'myanmar', 'communicate', 'townships', 'renfrew', 'weekday', 'characterised', 'russell', 'promoted', 'sisi', 'corresponds', 'coe', 'facto', 'republic', 'eur', 'dhili', 'writes', 'hindi', 'zhou', 'persians', 'guadarrama', 'combe', 'repopulating', 'liveth', 'domestic', 'oecd', 'visaya', 'chuse', 'governorate', 'hominin', 'december', 'verb', 'eurozone', 'el', 'walking', 'questions', 'contribution', 'amorites', 'parliamentary', 'vatican', 'code', 'les', 'china', 'nato', 'thos', 'properly', 'identification', 'ell', 'udra', 'floweth', 'luoyang', 'tlemcen', 'abdel', 'panaji', 'industrialization', 'euro', 'engineering', 'jebusites', 'hivites', 'peninsular', 'grenville', 'induced', 'iberian', 'facilities', 'stormont', 'withdrawal', 'kenya', 'fattah', 'nthos', 'phase', 'derived', 'member', 'ask', 'news', 'ambulation', 'planning', 'nordic', 'businesses', 'nominal', 'tunisia', 'miss', 'unhappiness', 'influenced', 'perizzites', 'autonomous', 'vande', 'landlocked', 'commonly', 'county', 'onwards', 'navigate', 'periods', 'pray', 'la', 'outdated', 'elites', 'municipality', 'comune', 'fragmentation', 'populous', 'leeds', 'odda', 'occupying', 'enquiries', 'billion', 'democracy', 'roy', 'segovia', 'prescott', 'ltd', 'manzanares', 'portuguese', 'lady', 'information', 'bates', 'talents', 'slovenia', 'dollars', 'tamar', 'woodhouse', 'ru', 'switzerland', 'walkers', 'alloy', 'lingaraj', 'metro', 'sware', 'inhabit', 'hosted', 'nt', 'organisation', 'plata', 'desh', 'jabbok', 'concejo', 'napoleonic', 'geopolitically', 'mamma', 'perceiving', 'defining', 'michal', 'languages', 'council', 'carpetani', 'flexed', 'ibero', 'approbation', 'depopulation', 'serving', 'berkeley', 'ramblers', 'ptolemaic', 'elliot', 'area', 'physicians', 'displeased', 'brics', 'phasis', 'tracing', 'enlightenment', 'renamed', 'santiago', 'dalrymple', 'efficient', 'mundari', 'plateau', 'allahabad', 'vietnam', 'warmest', 'drave', 'hanech', 'jane', 'occupation', 'adjure', 'per', 'fairfax', 'attributed', 'horeb', 'kilometres', 'puerto', 'benefits', 'staying', 'timidly', 'technology', 'eriksson', 'value', 'referendum', 'territory', 'harley', 'rice', 'usha', 'forebodings', 'reformation', 'sovereignity', 'flutter', 'mrs', 'vijay', 'drams', 'glengarry', 'willensnationcode', 'dundas', 'district', 'gdp', 'municipalities', 'elephantis', 'confidence', 'russians', 'oran', 'suburban', 'deserving', 'ferum', 'kadesh', 'u', 'transporting', 'withhold', 'brunswick', 'isabella', 'hypothetical', 'cairo', 'dependency', 'leonora', 'exarchate', 'opera', 'submitted', 'ancestors', 'favour', 'hiring', 'improve', 'concentrated', 'baalim', 'diaspora', 'altava', 'franks', 'locations', 'czech', 'delaford', 'goddard', 'declare', 'amalgamation', 'hittites', 'davaka', 'undergoing', 'romanization', 'schweizcode', 'rewarded', 'southwestern', 'saale', 'metropolis', 'haora', 'displease', 'hirat', 'focal', 'culture', 'hoped', 'accounting', 'environmental', 'estate', 'offended', 'municipal', 'bustle', 'russkiyecode', 'humours', 'gratified', 'endeavour', 'artifacts', 'ammon', 'zion', 'dollar', 'currency', 'nine', 'bhasa', 'prolong', 'disposed', 'listen', 'recover', 'supposedly', 'urban', 'related', 'northeastern', 'blunder', 'jharkhand', 'bipedal', 'travel', 'rossiyanecode', 'monsoon', 'reduce', 'middleton', 'rejoiced', 'campbells', 'totally', 'underwent', 'enscombe', 'puppet', 'entreat', 'administration', 'martin', 'recollection', 'dhakka', 'sparsely', 'international', 'tomaras', 'sentest', 'range', 'gresham', 'suburbs', 'strangers', 'rts', 'bazaar', 'osce', 'minutes', 'pronunciation', 'liked', 'mahdia', 'mentioned', 'middletons', 'organization', 'dos', 'downstairs', 'cyclone', 'harriet', 'invite', 'safely', 'disagreement', 'risks', 'periphery', 'parishes', 'comparison', 'speak', 'musgroves', 'morrow', 'capta', 'somers', 'comfort', 'belial', 'measures', 'employment', 'theorized', 'riobamba', 'loyal', 'fortnight', 'politically', 'married', 'freed', 'encouragement', 'intimacy', 'worshipped', 'europe', 'monopoly', 'bondage', 'democratically', 'inexpressibly', 'westernized', 'hour', 'respectably', 'tributaries', 'monetary', 'marry', 'civilly', 'supplication', 'particulars', 'similar', 'knightley', 'rus', 'quality', 'patan', 'krishna', 'kilometers', 'abbreviation', 'october', 'introduction', 'satisfied', 'dominate', 'beneficial', 'delighted', 'accord', 'dictate', 'conjectured', 'sierra', 'contributed', 'consisted', 'arboreal', 'knitting', 'colta', 'gladly', 'careth', 'bhubaneswar', 'allowed', 'inca', 'captivity', 'freshened', 'removal', 'laos', 'productive', 'algonquins', 'largest', 'novelty', 'arabians'], ['counties', 'schengen', 'prakrit', 'lanark', 'myanmar', 'communicate', 'townships', 'renfrew', 'weekday', 'characterised', 'russell', 'promoted', 'sisi', 'corresponds', 'coe', 'facto', 'republic', 'eur', 'dhili', 'writes', 'hindi', 'zhou', 'persians', 'guadarrama', 'combe', 'repopulating', 'liveth', 'domestic', 'oecd', 'visaya', 'chuse', 'governorate', 'hominin', 'december', 'verb', 'eurozone', 'el', 'walking', 'questions', 'contribution', 'amorites', 'parliamentary', 'vatican', 'code', 'les', 'china', 'nato', 'thos', 'properly', 'identification', 'ell', 'udra', 'floweth', 'luoyang', 'tlemcen', 'abdel', 'panaji', 'industrialization', 'euro', 'engineering', 'jebusites', 'hivites', 'peninsular', 'grenville', 'induced', 'iberian', 'facilities', 'stormont', 'withdrawal', 'kenya', 'fattah', 'nthos', 'phase', 'derived', 'member', 'ask', 'news', 'ambulation', 'planning', 'nordic', 'businesses', 'nominal', 'tunisia', 'miss', 'unhappiness', 'influenced', 'perizzites', 'autonomous', 'vande', 'landlocked', 'commonly', 'county', 'onwards', 'navigate', 'periods', 'pray', 'la', 'outdated', 'elites', 'municipality', 'comune', 'fragmentation', 'populous', 'leeds', 'odda', 'occupying', 'enquiries', 'billion', 'democracy', 'roy', 'segovia', 'prescott', 'ltd', 'manzanares', 'portuguese', 'lady', 'information', 'bates', 'talents', 'slovenia', 'dollars', 'tamar', 'woodhouse', 'ru', 'switzerland', 'walkers', 'alloy', 'lingaraj', 'metro', 'sware', 'inhabit', 'hosted', 'nt', 'organisation', 'plata', 'desh', 'jabbok', 'concejo', 'napoleonic', 'geopolitically', 'mamma', 'perceiving', 'defining', 'michal', 'languages', 'council', 'carpetani', 'flexed', 'ibero', 'approbation', 'depopulation', 'serving', 'berkeley', 'ramblers', 'ptolemaic', 'elliot', 'area', 'physicians', 'displeased', 'brics', 'phasis', 'tracing', 'enlightenment', 'renamed', 'santiago', 'dalrymple', 'efficient', 'mundari', 'plateau', 'allahabad', 'vietnam', 'warmest', 'drave', 'hanech', 'jane', 'occupation', 'adjure', 'per', 'fairfax', 'attributed', 'horeb', 'kilometres', 'puerto', 'benefits', 'staying', 'timidly', 'technology', 'eriksson', 'value', 'referendum', 'territory', 'harley', 'rice', 'usha', 'forebodings', 'reformation', 'sovereignity', 'flutter', 'mrs', 'vijay', 'drams', 'glengarry', 'willensnationcode', 'dundas', 'district', 'gdp', 'municipalities', 'elephantis', 'confidence', 'russians', 'oran', 'suburban', 'deserving', 'ferum', 'kadesh', 'u', 'transporting', 'withhold', 'brunswick', 'isabella', 'hypothetical', 'cairo', 'dependency', 'leonora', 'exarchate', 'opera', 'submitted', 'ancestors', 'favour', 'hiring', 'improve', 'concentrated', 'baalim', 'diaspora', 'altava', 'franks', 'locations', 'czech', 'delaford', 'goddard', 'declare', 'amalgamation', 'hittites', 'davaka', 'undergoing', 'romanization', 'schweizcode', 'rewarded', 'southwestern', 'saale', 'metropolis', 'haora', 'displease', 'hirat', 'focal', 'culture', 'hoped', 'accounting', 'environmental', 'estate', 'offended', 'municipal', 'bustle', 'russkiyecode', 'humours', 'gratified', 'endeavour', 'artifacts', 'ammon', 'zion', 'dollar', 'currency', 'nine', 'bhasa', 'prolong', 'disposed', 'listen', 'recover', 'supposedly', 'urban', 'related', 'northeastern', 'blunder', 'jharkhand', 'bipedal', 'travel', 'rossiyanecode', 'monsoon', 'reduce', 'middleton', 'rejoiced', 'campbells', 'totally', 'underwent', 'enscombe', 'puppet', 'entreat', 'administration', 'martin', 'recollection', 'dhakka', 'sparsely', 'international', 'tomaras', 'sentest', 'range', 'gresham', 'suburbs', 'strangers', 'rts', 'bazaar', 'osce', 'minutes', 'pronunciation', 'liked', 'mahdia', 'mentioned', 'middletons', 'organization', 'dos', 'downstairs', 'cyclone', 'harriet', 'invite', 'safely', 'disagreement', 'risks', 'periphery', 'parishes', 'comparison', 'speak', 'musgroves', 'morrow', 'capta', 'somers', 'comfort', 'belial', 'measures', 'employment', 'theorized', 'riobamba', 'loyal', 'fortnight', 'politically', 'married', 'freed', 'encouragement', 'intimacy', 'worshipped', 'europe', 'monopoly', 'bondage', 'democratically', 'inexpressibly', 'westernized', 'hour', 'respectably', 'tributaries', 'monetary', 'marry', 'civilly', 'supplication', 'particulars', 'similar', 'knightley', 'rus', 'quality', 'patan', 'krishna', 'kilometers', 'abbreviation', 'october', 'introduction', 'satisfied', 'dominate', 'beneficial', 'delighted', 'accord', 'dictate', 'conjectured', 'sierra', 'contributed', 'consisted', 'arboreal', 'knitting', 'colta', 'gladly', 'careth', 'bhubaneswar', 'allowed', 'inca', 'captivity', 'freshened', 'removal', 'laos', 'productive', 'algonquins', 'largest', 'novelty', 'arabians', 'serbian', 'officially', 'quotations', 'reino', 'letter', 'tanais', 'unit', 'bol', 'attach', 'polities', 'images', 'brought', 'alternate', 'nativity', 'mercosul', 'aravalli', 'infer', 'relieve', 'athenians', 'assembled', 'adopt', 'yoke', 'desolations', 'shrewsbury', 'shekels', 'usa', 'constitution', 'bibhasha', 'termed', 'urdu', 'damsel', 'discretion', 'goddess', 'differently', 'bij', 'types', 'speakers', 'subarnarekha', 'ginza', 'peninsula', 'homo', 'boundariesb', 'estado', 'daughters', 'reducing', 'punctually', 'chaise', 'weston', 'united', 'mostly'], ['counties', 'schengen', 'prakrit', 'lanark', 'myanmar', 'communicate', 'townships', 'renfrew', 'weekday', 'characterised', 'russell', 'promoted', 'sisi', 'corresponds', 'coe', 'facto', 'republic', 'eur', 'dhili', 'writes', 'hindi', 'zhou', 'persians', 'guadarrama', 'combe', 'repopulating', 'liveth', 'domestic', 'oecd', 'visaya', 'chuse', 'governorate', 'hominin', 'december', 'verb', 'eurozone', 'el', 'walking', 'questions', 'contribution', 'amorites', 'parliamentary', 'vatican', 'code', 'les', 'china', 'nato', 'thos', 'properly', 'identification', 'ell', 'udra', 'floweth', 'luoyang', 'tlemcen', 'abdel', 'panaji', 'industrialization', 'euro', 'engineering', 'jebusites', 'hivites', 'peninsular', 'grenville', 'induced', 'iberian', 'facilities', 'stormont', 'withdrawal', 'kenya', 'fattah', 'nthos', 'phase', 'derived', 'member', 'ask', 'news', 'ambulation', 'planning', 'nordic', 'businesses', 'nominal', 'tunisia', 'miss', 'unhappiness', 'influenced', 'perizzites', 'autonomous', 'vande', 'landlocked', 'commonly', 'county', 'onwards', 'navigate', 'periods', 'pray', 'la', 'outdated', 'elites', 'municipality', 'comune', 'fragmentation', 'populous', 'leeds', 'odda', 'occupying', 'enquiries', 'billion', 'democracy', 'roy', 'segovia', 'prescott', 'ltd', 'manzanares', 'portuguese', 'lady', 'information', 'bates', 'talents', 'slovenia', 'dollars', 'tamar', 'woodhouse', 'ru', 'switzerland', 'walkers', 'alloy', 'lingaraj', 'metro', 'sware', 'inhabit', 'hosted', 'nt', 'organisation', 'plata', 'desh', 'jabbok', 'concejo', 'napoleonic', 'geopolitically', 'mamma', 'perceiving', 'defining', 'michal', 'languages', 'council', 'carpetani', 'flexed', 'ibero', 'approbation', 'depopulation', 'serving', 'berkeley', 'ramblers', 'ptolemaic', 'elliot', 'area', 'physicians', 'displeased', 'brics', 'phasis', 'tracing', 'enlightenment', 'renamed', 'santiago', 'dalrymple', 'efficient', 'mundari', 'plateau', 'allahabad', 'vietnam', 'warmest', 'drave', 'hanech', 'jane', 'occupation', 'adjure', 'per', 'fairfax', 'attributed', 'horeb', 'kilometres', 'puerto', 'benefits', 'staying', 'timidly', 'technology', 'eriksson', 'value', 'referendum', 'territory', 'harley', 'rice', 'usha', 'forebodings', 'reformation', 'sovereignity', 'flutter', 'mrs', 'vijay', 'drams', 'glengarry', 'willensnationcode', 'dundas', 'district', 'gdp', 'municipalities', 'elephantis', 'confidence', 'russians', 'oran', 'suburban', 'deserving', 'ferum', 'kadesh', 'u', 'transporting', 'withhold', 'brunswick', 'isabella', 'hypothetical', 'cairo', 'dependency', 'leonora', 'exarchate', 'opera', 'submitted', 'ancestors', 'favour', 'hiring', 'improve', 'concentrated', 'baalim', 'diaspora', 'altava', 'franks', 'locations', 'czech', 'delaford', 'goddard', 'declare', 'amalgamation', 'hittites', 'davaka', 'undergoing', 'romanization', 'schweizcode', 'rewarded', 'southwestern', 'saale', 'metropolis', 'haora', 'displease', 'hirat', 'focal', 'culture', 'hoped', 'accounting', 'environmental', 'estate', 'offended', 'municipal', 'bustle', 'russkiyecode', 'humours', 'gratified', 'endeavour', 'artifacts', 'ammon', 'zion', 'dollar', 'currency', 'nine', 'bhasa', 'prolong', 'disposed', 'listen', 'recover', 'supposedly', 'urban', 'related', 'northeastern', 'blunder', 'jharkhand', 'bipedal', 'travel', 'rossiyanecode', 'monsoon', 'reduce', 'middleton', 'rejoiced', 'campbells', 'totally', 'underwent', 'enscombe', 'puppet', 'entreat', 'administration', 'martin', 'recollection', 'dhakka', 'sparsely', 'international', 'tomaras', 'sentest', 'range', 'gresham', 'suburbs', 'strangers', 'rts', 'bazaar', 'osce', 'minutes', 'pronunciation', 'liked', 'mahdia', 'mentioned', 'middletons', 'organization', 'dos', 'downstairs', 'cyclone', 'harriet', 'invite', 'safely', 'disagreement', 'risks', 'periphery', 'parishes', 'comparison', 'speak', 'musgroves', 'morrow', 'capta', 'somers', 'comfort', 'belial', 'measures', 'employment', 'theorized', 'riobamba', 'loyal', 'fortnight', 'politically', 'married', 'freed', 'encouragement', 'intimacy', 'worshipped', 'europe', 'monopoly', 'bondage', 'democratically', 'inexpressibly', 'westernized', 'hour', 'respectably', 'tributaries', 'monetary', 'marry', 'civilly', 'supplication', 'particulars', 'similar', 'knightley', 'rus', 'quality', 'patan', 'krishna', 'kilometers', 'abbreviation', 'october', 'introduction', 'satisfied', 'dominate', 'beneficial', 'delighted', 'accord', 'dictate', 'conjectured', 'sierra', 'contributed', 'consisted', 'arboreal', 'knitting', 'colta', 'gladly', 'careth', 'bhubaneswar', 'allowed', 'inca', 'captivity', 'freshened', 'removal', 'laos', 'productive', 'algonquins', 'largest', 'novelty', 'arabians', 'serbian', 'officially', 'quotations', 'reino', 'letter', 'tanais', 'unit', 'bol', 'attach', 'polities', 'images', 'brought', 'alternate', 'nativity', 'mercosul', 'aravalli', 'infer', 'relieve', 'athenians', 'assembled', 'adopt', 'yoke', 'desolations', 'shrewsbury', 'shekels', 'usa', 'constitution', 'bibhasha', 'termed', 'urdu', 'damsel', 'discretion', 'goddess', 'differently', 'bij', 'types', 'speakers', 'subarnarekha', 'ginza', 'peninsula', 'homo', 'boundariesb', 'estado', 'daughters', 'reducing', 'punctually', 'chaise', 'weston', 'united', 'mostly', 'spencer', 'repented', 'emma', 'thinkest', 'prowess', 'economic', 'abib', 'relation', 'montague', 'antarctic', 'hayter', 'widespread', 'historic', 'bus', 'brasil', 'edo', 'underpinned', 'hewers', 'passenger', 'officials', 'puri', 'diverse', 'finance', 'directly', 'olympic', 'morocco', 'miles', 'recommendations', 'convenient', 'farther', 'closer', 'fascist', 'og', 'immigration', 'tabernacle', 'attic', 'settlers', 'she', 'indicative', 'kellynch', 'association', 'cost', 'continue', 'apprehend', 'promised', 'recorded', 'hosts', 'watershed', 'hotels', 'neglecting']];\n",
            "CBoW : [['counties'], ['counties', 'schengen', 'prakrit', 'lanark', 'myanmar'], ['counties', 'schengen', 'prakrit', 'lanark', 'myanmar', 'communicate', 'townships', 'renfrew', 'weekday', 'characterised', 'russell', 'promoted', 'sisi', 'corresponds', 'coe', 'facto', 'republic', 'eur', 'dhili', 'writes', 'hindi', 'zhou', 'persians', 'guadarrama', 'combe', 'repopulating', 'liveth', 'domestic', 'oecd', 'visaya', 'chuse', 'governorate', 'hominin', 'december', 'verb', 'eurozone', 'el', 'walking', 'questions', 'contribution', 'amorites', 'parliamentary', 'vatican', 'code', 'les', 'china', 'nato', 'thos', 'properly', 'identification'], ['counties', 'schengen', 'prakrit', 'lanark', 'myanmar', 'communicate', 'townships', 'renfrew', 'weekday', 'characterised', 'russell', 'promoted', 'sisi', 'corresponds', 'coe', 'facto', 'republic', 'eur', 'dhili', 'writes', 'hindi', 'zhou', 'persians', 'guadarrama', 'combe', 'repopulating', 'liveth', 'domestic', 'oecd', 'visaya', 'chuse', 'governorate', 'hominin', 'december', 'verb', 'eurozone', 'el', 'walking', 'questions', 'contribution', 'amorites', 'parliamentary', 'vatican', 'code', 'les', 'china', 'nato', 'thos', 'properly', 'identification', 'ell', 'udra', 'floweth', 'luoyang', 'tlemcen', 'abdel', 'panaji', 'industrialization', 'euro', 'engineering', 'jebusites', 'hivites', 'peninsular', 'grenville', 'induced', 'iberian', 'facilities', 'stormont', 'withdrawal', 'kenya', 'fattah', 'nthos', 'phase', 'derived', 'member', 'ask', 'news', 'ambulation', 'planning', 'nordic', 'businesses', 'nominal', 'tunisia', 'miss', 'unhappiness', 'influenced', 'perizzites', 'autonomous', 'vande', 'landlocked', 'commonly', 'county', 'onwards', 'navigate', 'periods', 'pray', 'la', 'outdated', 'elites', 'municipality'], ['counties', 'schengen', 'prakrit', 'lanark', 'myanmar', 'communicate', 'townships', 'renfrew', 'weekday', 'characterised', 'russell', 'promoted', 'sisi', 'corresponds', 'coe', 'facto', 'republic', 'eur', 'dhili', 'writes', 'hindi', 'zhou', 'persians', 'guadarrama', 'combe', 'repopulating', 'liveth', 'domestic', 'oecd', 'visaya', 'chuse', 'governorate', 'hominin', 'december', 'verb', 'eurozone', 'el', 'walking', 'questions', 'contribution', 'amorites', 'parliamentary', 'vatican', 'code', 'les', 'china', 'nato', 'thos', 'properly', 'identification', 'ell', 'udra', 'floweth', 'luoyang', 'tlemcen', 'abdel', 'panaji', 'industrialization', 'euro', 'engineering', 'jebusites', 'hivites', 'peninsular', 'grenville', 'induced', 'iberian', 'facilities', 'stormont', 'withdrawal', 'kenya', 'fattah', 'nthos', 'phase', 'derived', 'member', 'ask', 'news', 'ambulation', 'planning', 'nordic', 'businesses', 'nominal', 'tunisia', 'miss', 'unhappiness', 'influenced', 'perizzites', 'autonomous', 'vande', 'landlocked', 'commonly', 'county', 'onwards', 'navigate', 'periods', 'pray', 'la', 'outdated', 'elites', 'municipality', 'comune', 'fragmentation', 'populous', 'leeds', 'odda', 'occupying', 'enquiries', 'billion', 'democracy', 'roy', 'segovia', 'prescott', 'ltd', 'manzanares', 'portuguese', 'lady', 'information', 'bates', 'talents', 'slovenia', 'dollars', 'tamar', 'woodhouse', 'ru', 'switzerland', 'walkers', 'alloy', 'lingaraj', 'metro', 'sware', 'inhabit', 'hosted', 'nt', 'organisation', 'plata', 'desh', 'jabbok', 'concejo', 'napoleonic', 'geopolitically', 'mamma', 'perceiving', 'defining', 'michal', 'languages', 'council', 'carpetani', 'flexed', 'ibero', 'approbation'], ['counties', 'schengen', 'prakrit', 'lanark', 'myanmar', 'communicate', 'townships', 'renfrew', 'weekday', 'characterised', 'russell', 'promoted', 'sisi', 'corresponds', 'coe', 'facto', 'republic', 'eur', 'dhili', 'writes', 'hindi', 'zhou', 'persians', 'guadarrama', 'combe', 'repopulating', 'liveth', 'domestic', 'oecd', 'visaya', 'chuse', 'governorate', 'hominin', 'december', 'verb', 'eurozone', 'el', 'walking', 'questions', 'contribution', 'amorites', 'parliamentary', 'vatican', 'code', 'les', 'china', 'nato', 'thos', 'properly', 'identification', 'ell', 'udra', 'floweth', 'luoyang', 'tlemcen', 'abdel', 'panaji', 'industrialization', 'euro', 'engineering', 'jebusites', 'hivites', 'peninsular', 'grenville', 'induced', 'iberian', 'facilities', 'stormont', 'withdrawal', 'kenya', 'fattah', 'nthos', 'phase', 'derived', 'member', 'ask', 'news', 'ambulation', 'planning', 'nordic', 'businesses', 'nominal', 'tunisia', 'miss', 'unhappiness', 'influenced', 'perizzites', 'autonomous', 'vande', 'landlocked', 'commonly', 'county', 'onwards', 'navigate', 'periods', 'pray', 'la', 'outdated', 'elites', 'municipality', 'comune', 'fragmentation', 'populous', 'leeds', 'odda', 'occupying', 'enquiries', 'billion', 'democracy', 'roy', 'segovia', 'prescott', 'ltd', 'manzanares', 'portuguese', 'lady', 'information', 'bates', 'talents', 'slovenia', 'dollars', 'tamar', 'woodhouse', 'ru', 'switzerland', 'walkers', 'alloy', 'lingaraj', 'metro', 'sware', 'inhabit', 'hosted', 'nt', 'organisation', 'plata', 'desh', 'jabbok', 'concejo', 'napoleonic', 'geopolitically', 'mamma', 'perceiving', 'defining', 'michal', 'languages', 'council', 'carpetani', 'flexed', 'ibero', 'approbation', 'depopulation', 'serving', 'berkeley', 'ramblers', 'ptolemaic', 'elliot', 'area', 'physicians', 'displeased', 'brics', 'phasis', 'tracing', 'enlightenment', 'renamed', 'santiago', 'dalrymple', 'efficient', 'mundari', 'plateau', 'allahabad', 'vietnam', 'warmest', 'drave', 'hanech', 'jane', 'occupation', 'adjure', 'per', 'fairfax', 'attributed', 'horeb', 'kilometres', 'puerto', 'benefits', 'staying', 'timidly', 'technology', 'eriksson', 'value', 'referendum', 'territory', 'harley', 'rice', 'usha', 'forebodings', 'reformation', 'sovereignity', 'flutter', 'mrs', 'vijay'], ['counties', 'schengen', 'prakrit', 'lanark', 'myanmar', 'communicate', 'townships', 'renfrew', 'weekday', 'characterised', 'russell', 'promoted', 'sisi', 'corresponds', 'coe', 'facto', 'republic', 'eur', 'dhili', 'writes', 'hindi', 'zhou', 'persians', 'guadarrama', 'combe', 'repopulating', 'liveth', 'domestic', 'oecd', 'visaya', 'chuse', 'governorate', 'hominin', 'december', 'verb', 'eurozone', 'el', 'walking', 'questions', 'contribution', 'amorites', 'parliamentary', 'vatican', 'code', 'les', 'china', 'nato', 'thos', 'properly', 'identification', 'ell', 'udra', 'floweth', 'luoyang', 'tlemcen', 'abdel', 'panaji', 'industrialization', 'euro', 'engineering', 'jebusites', 'hivites', 'peninsular', 'grenville', 'induced', 'iberian', 'facilities', 'stormont', 'withdrawal', 'kenya', 'fattah', 'nthos', 'phase', 'derived', 'member', 'ask', 'news', 'ambulation', 'planning', 'nordic', 'businesses', 'nominal', 'tunisia', 'miss', 'unhappiness', 'influenced', 'perizzites', 'autonomous', 'vande', 'landlocked', 'commonly', 'county', 'onwards', 'navigate', 'periods', 'pray', 'la', 'outdated', 'elites', 'municipality', 'comune', 'fragmentation', 'populous', 'leeds', 'odda', 'occupying', 'enquiries', 'billion', 'democracy', 'roy', 'segovia', 'prescott', 'ltd', 'manzanares', 'portuguese', 'lady', 'information', 'bates', 'talents', 'slovenia', 'dollars', 'tamar', 'woodhouse', 'ru', 'switzerland', 'walkers', 'alloy', 'lingaraj', 'metro', 'sware', 'inhabit', 'hosted', 'nt', 'organisation', 'plata', 'desh', 'jabbok', 'concejo', 'napoleonic', 'geopolitically', 'mamma', 'perceiving', 'defining', 'michal', 'languages', 'council', 'carpetani', 'flexed', 'ibero', 'approbation', 'depopulation', 'serving', 'berkeley', 'ramblers', 'ptolemaic', 'elliot', 'area', 'physicians', 'displeased', 'brics', 'phasis', 'tracing', 'enlightenment', 'renamed', 'santiago', 'dalrymple', 'efficient', 'mundari', 'plateau', 'allahabad', 'vietnam', 'warmest', 'drave', 'hanech', 'jane', 'occupation', 'adjure', 'per', 'fairfax', 'attributed', 'horeb', 'kilometres', 'puerto', 'benefits', 'staying', 'timidly', 'technology', 'eriksson', 'value', 'referendum', 'territory', 'harley', 'rice', 'usha', 'forebodings', 'reformation', 'sovereignity', 'flutter', 'mrs', 'vijay', 'drams', 'glengarry', 'willensnationcode', 'dundas', 'district', 'gdp', 'municipalities', 'elephantis', 'confidence', 'russians', 'oran', 'suburban', 'deserving', 'ferum', 'kadesh', 'u', 'transporting', 'withhold', 'brunswick', 'isabella', 'hypothetical', 'cairo', 'dependency', 'leonora', 'exarchate', 'opera', 'submitted', 'ancestors', 'favour', 'hiring', 'improve', 'concentrated', 'baalim', 'diaspora', 'altava', 'franks', 'locations', 'czech', 'delaford', 'goddard', 'declare', 'amalgamation', 'hittites', 'davaka', 'undergoing', 'romanization', 'schweizcode', 'rewarded', 'southwestern', 'saale'], ['counties', 'schengen', 'prakrit', 'lanark', 'myanmar', 'communicate', 'townships', 'renfrew', 'weekday', 'characterised', 'russell', 'promoted', 'sisi', 'corresponds', 'coe', 'facto', 'republic', 'eur', 'dhili', 'writes', 'hindi', 'zhou', 'persians', 'guadarrama', 'combe', 'repopulating', 'liveth', 'domestic', 'oecd', 'visaya', 'chuse', 'governorate', 'hominin', 'december', 'verb', 'eurozone', 'el', 'walking', 'questions', 'contribution', 'amorites', 'parliamentary', 'vatican', 'code', 'les', 'china', 'nato', 'thos', 'properly', 'identification', 'ell', 'udra', 'floweth', 'luoyang', 'tlemcen', 'abdel', 'panaji', 'industrialization', 'euro', 'engineering', 'jebusites', 'hivites', 'peninsular', 'grenville', 'induced', 'iberian', 'facilities', 'stormont', 'withdrawal', 'kenya', 'fattah', 'nthos', 'phase', 'derived', 'member', 'ask', 'news', 'ambulation', 'planning', 'nordic', 'businesses', 'nominal', 'tunisia', 'miss', 'unhappiness', 'influenced', 'perizzites', 'autonomous', 'vande', 'landlocked', 'commonly', 'county', 'onwards', 'navigate', 'periods', 'pray', 'la', 'outdated', 'elites', 'municipality', 'comune', 'fragmentation', 'populous', 'leeds', 'odda', 'occupying', 'enquiries', 'billion', 'democracy', 'roy', 'segovia', 'prescott', 'ltd', 'manzanares', 'portuguese', 'lady', 'information', 'bates', 'talents', 'slovenia', 'dollars', 'tamar', 'woodhouse', 'ru', 'switzerland', 'walkers', 'alloy', 'lingaraj', 'metro', 'sware', 'inhabit', 'hosted', 'nt', 'organisation', 'plata', 'desh', 'jabbok', 'concejo', 'napoleonic', 'geopolitically', 'mamma', 'perceiving', 'defining', 'michal', 'languages', 'council', 'carpetani', 'flexed', 'ibero', 'approbation', 'depopulation', 'serving', 'berkeley', 'ramblers', 'ptolemaic', 'elliot', 'area', 'physicians', 'displeased', 'brics', 'phasis', 'tracing', 'enlightenment', 'renamed', 'santiago', 'dalrymple', 'efficient', 'mundari', 'plateau', 'allahabad', 'vietnam', 'warmest', 'drave', 'hanech', 'jane', 'occupation', 'adjure', 'per', 'fairfax', 'attributed', 'horeb', 'kilometres', 'puerto', 'benefits', 'staying', 'timidly', 'technology', 'eriksson', 'value', 'referendum', 'territory', 'harley', 'rice', 'usha', 'forebodings', 'reformation', 'sovereignity', 'flutter', 'mrs', 'vijay', 'drams', 'glengarry', 'willensnationcode', 'dundas', 'district', 'gdp', 'municipalities', 'elephantis', 'confidence', 'russians', 'oran', 'suburban', 'deserving', 'ferum', 'kadesh', 'u', 'transporting', 'withhold', 'brunswick', 'isabella', 'hypothetical', 'cairo', 'dependency', 'leonora', 'exarchate', 'opera', 'submitted', 'ancestors', 'favour', 'hiring', 'improve', 'concentrated', 'baalim', 'diaspora', 'altava', 'franks', 'locations', 'czech', 'delaford', 'goddard', 'declare', 'amalgamation', 'hittites', 'davaka', 'undergoing', 'romanization', 'schweizcode', 'rewarded', 'southwestern', 'saale', 'metropolis', 'haora', 'displease', 'hirat', 'focal', 'culture', 'hoped', 'accounting', 'environmental', 'estate', 'offended', 'municipal', 'bustle', 'russkiyecode', 'humours', 'gratified', 'endeavour', 'artifacts', 'ammon', 'zion', 'dollar', 'currency', 'nine', 'bhasa', 'prolong', 'disposed', 'listen', 'recover', 'supposedly', 'urban', 'related', 'northeastern', 'blunder', 'jharkhand', 'bipedal', 'travel', 'rossiyanecode', 'monsoon', 'reduce', 'middleton', 'rejoiced', 'campbells', 'totally', 'underwent', 'enscombe', 'puppet', 'entreat', 'administration', 'martin', 'recollection'], ['counties', 'schengen', 'prakrit', 'lanark', 'myanmar', 'communicate', 'townships', 'renfrew', 'weekday', 'characterised', 'russell', 'promoted', 'sisi', 'corresponds', 'coe', 'facto', 'republic', 'eur', 'dhili', 'writes', 'hindi', 'zhou', 'persians', 'guadarrama', 'combe', 'repopulating', 'liveth', 'domestic', 'oecd', 'visaya', 'chuse', 'governorate', 'hominin', 'december', 'verb', 'eurozone', 'el', 'walking', 'questions', 'contribution', 'amorites', 'parliamentary', 'vatican', 'code', 'les', 'china', 'nato', 'thos', 'properly', 'identification', 'ell', 'udra', 'floweth', 'luoyang', 'tlemcen', 'abdel', 'panaji', 'industrialization', 'euro', 'engineering', 'jebusites', 'hivites', 'peninsular', 'grenville', 'induced', 'iberian', 'facilities', 'stormont', 'withdrawal', 'kenya', 'fattah', 'nthos', 'phase', 'derived', 'member', 'ask', 'news', 'ambulation', 'planning', 'nordic', 'businesses', 'nominal', 'tunisia', 'miss', 'unhappiness', 'influenced', 'perizzites', 'autonomous', 'vande', 'landlocked', 'commonly', 'county', 'onwards', 'navigate', 'periods', 'pray', 'la', 'outdated', 'elites', 'municipality', 'comune', 'fragmentation', 'populous', 'leeds', 'odda', 'occupying', 'enquiries', 'billion', 'democracy', 'roy', 'segovia', 'prescott', 'ltd', 'manzanares', 'portuguese', 'lady', 'information', 'bates', 'talents', 'slovenia', 'dollars', 'tamar', 'woodhouse', 'ru', 'switzerland', 'walkers', 'alloy', 'lingaraj', 'metro', 'sware', 'inhabit', 'hosted', 'nt', 'organisation', 'plata', 'desh', 'jabbok', 'concejo', 'napoleonic', 'geopolitically', 'mamma', 'perceiving', 'defining', 'michal', 'languages', 'council', 'carpetani', 'flexed', 'ibero', 'approbation', 'depopulation', 'serving', 'berkeley', 'ramblers', 'ptolemaic', 'elliot', 'area', 'physicians', 'displeased', 'brics', 'phasis', 'tracing', 'enlightenment', 'renamed', 'santiago', 'dalrymple', 'efficient', 'mundari', 'plateau', 'allahabad', 'vietnam', 'warmest', 'drave', 'hanech', 'jane', 'occupation', 'adjure', 'per', 'fairfax', 'attributed', 'horeb', 'kilometres', 'puerto', 'benefits', 'staying', 'timidly', 'technology', 'eriksson', 'value', 'referendum', 'territory', 'harley', 'rice', 'usha', 'forebodings', 'reformation', 'sovereignity', 'flutter', 'mrs', 'vijay', 'drams', 'glengarry', 'willensnationcode', 'dundas', 'district', 'gdp', 'municipalities', 'elephantis', 'confidence', 'russians', 'oran', 'suburban', 'deserving', 'ferum', 'kadesh', 'u', 'transporting', 'withhold', 'brunswick', 'isabella', 'hypothetical', 'cairo', 'dependency', 'leonora', 'exarchate', 'opera', 'submitted', 'ancestors', 'favour', 'hiring', 'improve', 'concentrated', 'baalim', 'diaspora', 'altava', 'franks', 'locations', 'czech', 'delaford', 'goddard', 'declare', 'amalgamation', 'hittites', 'davaka', 'undergoing', 'romanization', 'schweizcode', 'rewarded', 'southwestern', 'saale', 'metropolis', 'haora', 'displease', 'hirat', 'focal', 'culture', 'hoped', 'accounting', 'environmental', 'estate', 'offended', 'municipal', 'bustle', 'russkiyecode', 'humours', 'gratified', 'endeavour', 'artifacts', 'ammon', 'zion', 'dollar', 'currency', 'nine', 'bhasa', 'prolong', 'disposed', 'listen', 'recover', 'supposedly', 'urban', 'related', 'northeastern', 'blunder', 'jharkhand', 'bipedal', 'travel', 'rossiyanecode', 'monsoon', 'reduce', 'middleton', 'rejoiced', 'campbells', 'totally', 'underwent', 'enscombe', 'puppet', 'entreat', 'administration', 'martin', 'recollection', 'dhakka', 'sparsely', 'international', 'tomaras', 'sentest', 'range', 'gresham', 'suburbs', 'strangers', 'rts', 'bazaar', 'osce', 'minutes', 'pronunciation', 'liked', 'mahdia', 'mentioned', 'middletons', 'organization', 'dos', 'downstairs', 'cyclone', 'harriet', 'invite', 'safely', 'disagreement', 'risks', 'periphery', 'parishes', 'comparison', 'speak', 'musgroves', 'morrow', 'capta', 'somers', 'comfort', 'belial', 'measures', 'employment', 'theorized', 'riobamba', 'loyal', 'fortnight', 'politically', 'married', 'freed', 'encouragement', 'intimacy', 'worshipped', 'europe'], ['counties', 'schengen', 'prakrit', 'lanark', 'myanmar', 'communicate', 'townships', 'renfrew', 'weekday', 'characterised', 'russell', 'promoted', 'sisi', 'corresponds', 'coe', 'facto', 'republic', 'eur', 'dhili', 'writes', 'hindi', 'zhou', 'persians', 'guadarrama', 'combe', 'repopulating', 'liveth', 'domestic', 'oecd', 'visaya', 'chuse', 'governorate', 'hominin', 'december', 'verb', 'eurozone', 'el', 'walking', 'questions', 'contribution', 'amorites', 'parliamentary', 'vatican', 'code', 'les', 'china', 'nato', 'thos', 'properly', 'identification', 'ell', 'udra', 'floweth', 'luoyang', 'tlemcen', 'abdel', 'panaji', 'industrialization', 'euro', 'engineering', 'jebusites', 'hivites', 'peninsular', 'grenville', 'induced', 'iberian', 'facilities', 'stormont', 'withdrawal', 'kenya', 'fattah', 'nthos', 'phase', 'derived', 'member', 'ask', 'news', 'ambulation', 'planning', 'nordic', 'businesses', 'nominal', 'tunisia', 'miss', 'unhappiness', 'influenced', 'perizzites', 'autonomous', 'vande', 'landlocked', 'commonly', 'county', 'onwards', 'navigate', 'periods', 'pray', 'la', 'outdated', 'elites', 'municipality', 'comune', 'fragmentation', 'populous', 'leeds', 'odda', 'occupying', 'enquiries', 'billion', 'democracy', 'roy', 'segovia', 'prescott', 'ltd', 'manzanares', 'portuguese', 'lady', 'information', 'bates', 'talents', 'slovenia', 'dollars', 'tamar', 'woodhouse', 'ru', 'switzerland', 'walkers', 'alloy', 'lingaraj', 'metro', 'sware', 'inhabit', 'hosted', 'nt', 'organisation', 'plata', 'desh', 'jabbok', 'concejo', 'napoleonic', 'geopolitically', 'mamma', 'perceiving', 'defining', 'michal', 'languages', 'council', 'carpetani', 'flexed', 'ibero', 'approbation', 'depopulation', 'serving', 'berkeley', 'ramblers', 'ptolemaic', 'elliot', 'area', 'physicians', 'displeased', 'brics', 'phasis', 'tracing', 'enlightenment', 'renamed', 'santiago', 'dalrymple', 'efficient', 'mundari', 'plateau', 'allahabad', 'vietnam', 'warmest', 'drave', 'hanech', 'jane', 'occupation', 'adjure', 'per', 'fairfax', 'attributed', 'horeb', 'kilometres', 'puerto', 'benefits', 'staying', 'timidly', 'technology', 'eriksson', 'value', 'referendum', 'territory', 'harley', 'rice', 'usha', 'forebodings', 'reformation', 'sovereignity', 'flutter', 'mrs', 'vijay', 'drams', 'glengarry', 'willensnationcode', 'dundas', 'district', 'gdp', 'municipalities', 'elephantis', 'confidence', 'russians', 'oran', 'suburban', 'deserving', 'ferum', 'kadesh', 'u', 'transporting', 'withhold', 'brunswick', 'isabella', 'hypothetical', 'cairo', 'dependency', 'leonora', 'exarchate', 'opera', 'submitted', 'ancestors', 'favour', 'hiring', 'improve', 'concentrated', 'baalim', 'diaspora', 'altava', 'franks', 'locations', 'czech', 'delaford', 'goddard', 'declare', 'amalgamation', 'hittites', 'davaka', 'undergoing', 'romanization', 'schweizcode', 'rewarded', 'southwestern', 'saale', 'metropolis', 'haora', 'displease', 'hirat', 'focal', 'culture', 'hoped', 'accounting', 'environmental', 'estate', 'offended', 'municipal', 'bustle', 'russkiyecode', 'humours', 'gratified', 'endeavour', 'artifacts', 'ammon', 'zion', 'dollar', 'currency', 'nine', 'bhasa', 'prolong', 'disposed', 'listen', 'recover', 'supposedly', 'urban', 'related', 'northeastern', 'blunder', 'jharkhand', 'bipedal', 'travel', 'rossiyanecode', 'monsoon', 'reduce', 'middleton', 'rejoiced', 'campbells', 'totally', 'underwent', 'enscombe', 'puppet', 'entreat', 'administration', 'martin', 'recollection', 'dhakka', 'sparsely', 'international', 'tomaras', 'sentest', 'range', 'gresham', 'suburbs', 'strangers', 'rts', 'bazaar', 'osce', 'minutes', 'pronunciation', 'liked', 'mahdia', 'mentioned', 'middletons', 'organization', 'dos', 'downstairs', 'cyclone', 'harriet', 'invite', 'safely', 'disagreement', 'risks', 'periphery', 'parishes', 'comparison', 'speak', 'musgroves', 'morrow', 'capta', 'somers', 'comfort', 'belial', 'measures', 'employment', 'theorized', 'riobamba', 'loyal', 'fortnight', 'politically', 'married', 'freed', 'encouragement', 'intimacy', 'worshipped', 'europe', 'monopoly', 'bondage', 'democratically', 'inexpressibly', 'westernized', 'hour', 'respectably', 'tributaries', 'monetary', 'marry', 'civilly', 'supplication', 'particulars', 'similar', 'knightley', 'rus', 'quality', 'patan', 'krishna', 'kilometers', 'abbreviation', 'october', 'introduction', 'satisfied', 'dominate', 'beneficial', 'delighted', 'accord', 'dictate', 'conjectured', 'sierra', 'contributed', 'consisted', 'arboreal', 'knitting', 'colta', 'gladly', 'careth', 'bhubaneswar', 'allowed', 'inca', 'captivity', 'freshened', 'removal', 'laos', 'productive', 'algonquins', 'largest', 'novelty', 'arabians'], ['counties', 'schengen', 'prakrit', 'lanark', 'myanmar', 'communicate', 'townships', 'renfrew', 'weekday', 'characterised', 'russell', 'promoted', 'sisi', 'corresponds', 'coe', 'facto', 'republic', 'eur', 'dhili', 'writes', 'hindi', 'zhou', 'persians', 'guadarrama', 'combe', 'repopulating', 'liveth', 'domestic', 'oecd', 'visaya', 'chuse', 'governorate', 'hominin', 'december', 'verb', 'eurozone', 'el', 'walking', 'questions', 'contribution', 'amorites', 'parliamentary', 'vatican', 'code', 'les', 'china', 'nato', 'thos', 'properly', 'identification', 'ell', 'udra', 'floweth', 'luoyang', 'tlemcen', 'abdel', 'panaji', 'industrialization', 'euro', 'engineering', 'jebusites', 'hivites', 'peninsular', 'grenville', 'induced', 'iberian', 'facilities', 'stormont', 'withdrawal', 'kenya', 'fattah', 'nthos', 'phase', 'derived', 'member', 'ask', 'news', 'ambulation', 'planning', 'nordic', 'businesses', 'nominal', 'tunisia', 'miss', 'unhappiness', 'influenced', 'perizzites', 'autonomous', 'vande', 'landlocked', 'commonly', 'county', 'onwards', 'navigate', 'periods', 'pray', 'la', 'outdated', 'elites', 'municipality', 'comune', 'fragmentation', 'populous', 'leeds', 'odda', 'occupying', 'enquiries', 'billion', 'democracy', 'roy', 'segovia', 'prescott', 'ltd', 'manzanares', 'portuguese', 'lady', 'information', 'bates', 'talents', 'slovenia', 'dollars', 'tamar', 'woodhouse', 'ru', 'switzerland', 'walkers', 'alloy', 'lingaraj', 'metro', 'sware', 'inhabit', 'hosted', 'nt', 'organisation', 'plata', 'desh', 'jabbok', 'concejo', 'napoleonic', 'geopolitically', 'mamma', 'perceiving', 'defining', 'michal', 'languages', 'council', 'carpetani', 'flexed', 'ibero', 'approbation', 'depopulation', 'serving', 'berkeley', 'ramblers', 'ptolemaic', 'elliot', 'area', 'physicians', 'displeased', 'brics', 'phasis', 'tracing', 'enlightenment', 'renamed', 'santiago', 'dalrymple', 'efficient', 'mundari', 'plateau', 'allahabad', 'vietnam', 'warmest', 'drave', 'hanech', 'jane', 'occupation', 'adjure', 'per', 'fairfax', 'attributed', 'horeb', 'kilometres', 'puerto', 'benefits', 'staying', 'timidly', 'technology', 'eriksson', 'value', 'referendum', 'territory', 'harley', 'rice', 'usha', 'forebodings', 'reformation', 'sovereignity', 'flutter', 'mrs', 'vijay', 'drams', 'glengarry', 'willensnationcode', 'dundas', 'district', 'gdp', 'municipalities', 'elephantis', 'confidence', 'russians', 'oran', 'suburban', 'deserving', 'ferum', 'kadesh', 'u', 'transporting', 'withhold', 'brunswick', 'isabella', 'hypothetical', 'cairo', 'dependency', 'leonora', 'exarchate', 'opera', 'submitted', 'ancestors', 'favour', 'hiring', 'improve', 'concentrated', 'baalim', 'diaspora', 'altava', 'franks', 'locations', 'czech', 'delaford', 'goddard', 'declare', 'amalgamation', 'hittites', 'davaka', 'undergoing', 'romanization', 'schweizcode', 'rewarded', 'southwestern', 'saale', 'metropolis', 'haora', 'displease', 'hirat', 'focal', 'culture', 'hoped', 'accounting', 'environmental', 'estate', 'offended', 'municipal', 'bustle', 'russkiyecode', 'humours', 'gratified', 'endeavour', 'artifacts', 'ammon', 'zion', 'dollar', 'currency', 'nine', 'bhasa', 'prolong', 'disposed', 'listen', 'recover', 'supposedly', 'urban', 'related', 'northeastern', 'blunder', 'jharkhand', 'bipedal', 'travel', 'rossiyanecode', 'monsoon', 'reduce', 'middleton', 'rejoiced', 'campbells', 'totally', 'underwent', 'enscombe', 'puppet', 'entreat', 'administration', 'martin', 'recollection', 'dhakka', 'sparsely', 'international', 'tomaras', 'sentest', 'range', 'gresham', 'suburbs', 'strangers', 'rts', 'bazaar', 'osce', 'minutes', 'pronunciation', 'liked', 'mahdia', 'mentioned', 'middletons', 'organization', 'dos', 'downstairs', 'cyclone', 'harriet', 'invite', 'safely', 'disagreement', 'risks', 'periphery', 'parishes', 'comparison', 'speak', 'musgroves', 'morrow', 'capta', 'somers', 'comfort', 'belial', 'measures', 'employment', 'theorized', 'riobamba', 'loyal', 'fortnight', 'politically', 'married', 'freed', 'encouragement', 'intimacy', 'worshipped', 'europe', 'monopoly', 'bondage', 'democratically', 'inexpressibly', 'westernized', 'hour', 'respectably', 'tributaries', 'monetary', 'marry', 'civilly', 'supplication', 'particulars', 'similar', 'knightley', 'rus', 'quality', 'patan', 'krishna', 'kilometers', 'abbreviation', 'october', 'introduction', 'satisfied', 'dominate', 'beneficial', 'delighted', 'accord', 'dictate', 'conjectured', 'sierra', 'contributed', 'consisted', 'arboreal', 'knitting', 'colta', 'gladly', 'careth', 'bhubaneswar', 'allowed', 'inca', 'captivity', 'freshened', 'removal', 'laos', 'productive', 'algonquins', 'largest', 'novelty', 'arabians', 'serbian', 'officially', 'quotations', 'reino', 'letter', 'tanais', 'unit', 'bol', 'attach', 'polities', 'images', 'brought', 'alternate', 'nativity', 'mercosul', 'aravalli', 'infer', 'relieve', 'athenians', 'assembled', 'adopt', 'yoke', 'desolations', 'shrewsbury', 'shekels', 'usa', 'constitution', 'bibhasha', 'termed', 'urdu', 'damsel', 'discretion', 'goddess', 'differently', 'bij', 'types', 'speakers', 'subarnarekha', 'ginza', 'peninsula', 'homo', 'boundariesb', 'estado', 'daughters', 'reducing', 'punctually', 'chaise', 'weston', 'united', 'mostly'], ['counties', 'schengen', 'prakrit', 'lanark', 'myanmar', 'communicate', 'townships', 'renfrew', 'weekday', 'characterised', 'russell', 'promoted', 'sisi', 'corresponds', 'coe', 'facto', 'republic', 'eur', 'dhili', 'writes', 'hindi', 'zhou', 'persians', 'guadarrama', 'combe', 'repopulating', 'liveth', 'domestic', 'oecd', 'visaya', 'chuse', 'governorate', 'hominin', 'december', 'verb', 'eurozone', 'el', 'walking', 'questions', 'contribution', 'amorites', 'parliamentary', 'vatican', 'code', 'les', 'china', 'nato', 'thos', 'properly', 'identification', 'ell', 'udra', 'floweth', 'luoyang', 'tlemcen', 'abdel', 'panaji', 'industrialization', 'euro', 'engineering', 'jebusites', 'hivites', 'peninsular', 'grenville', 'induced', 'iberian', 'facilities', 'stormont', 'withdrawal', 'kenya', 'fattah', 'nthos', 'phase', 'derived', 'member', 'ask', 'news', 'ambulation', 'planning', 'nordic', 'businesses', 'nominal', 'tunisia', 'miss', 'unhappiness', 'influenced', 'perizzites', 'autonomous', 'vande', 'landlocked', 'commonly', 'county', 'onwards', 'navigate', 'periods', 'pray', 'la', 'outdated', 'elites', 'municipality', 'comune', 'fragmentation', 'populous', 'leeds', 'odda', 'occupying', 'enquiries', 'billion', 'democracy', 'roy', 'segovia', 'prescott', 'ltd', 'manzanares', 'portuguese', 'lady', 'information', 'bates', 'talents', 'slovenia', 'dollars', 'tamar', 'woodhouse', 'ru', 'switzerland', 'walkers', 'alloy', 'lingaraj', 'metro', 'sware', 'inhabit', 'hosted', 'nt', 'organisation', 'plata', 'desh', 'jabbok', 'concejo', 'napoleonic', 'geopolitically', 'mamma', 'perceiving', 'defining', 'michal', 'languages', 'council', 'carpetani', 'flexed', 'ibero', 'approbation', 'depopulation', 'serving', 'berkeley', 'ramblers', 'ptolemaic', 'elliot', 'area', 'physicians', 'displeased', 'brics', 'phasis', 'tracing', 'enlightenment', 'renamed', 'santiago', 'dalrymple', 'efficient', 'mundari', 'plateau', 'allahabad', 'vietnam', 'warmest', 'drave', 'hanech', 'jane', 'occupation', 'adjure', 'per', 'fairfax', 'attributed', 'horeb', 'kilometres', 'puerto', 'benefits', 'staying', 'timidly', 'technology', 'eriksson', 'value', 'referendum', 'territory', 'harley', 'rice', 'usha', 'forebodings', 'reformation', 'sovereignity', 'flutter', 'mrs', 'vijay', 'drams', 'glengarry', 'willensnationcode', 'dundas', 'district', 'gdp', 'municipalities', 'elephantis', 'confidence', 'russians', 'oran', 'suburban', 'deserving', 'ferum', 'kadesh', 'u', 'transporting', 'withhold', 'brunswick', 'isabella', 'hypothetical', 'cairo', 'dependency', 'leonora', 'exarchate', 'opera', 'submitted', 'ancestors', 'favour', 'hiring', 'improve', 'concentrated', 'baalim', 'diaspora', 'altava', 'franks', 'locations', 'czech', 'delaford', 'goddard', 'declare', 'amalgamation', 'hittites', 'davaka', 'undergoing', 'romanization', 'schweizcode', 'rewarded', 'southwestern', 'saale', 'metropolis', 'haora', 'displease', 'hirat', 'focal', 'culture', 'hoped', 'accounting', 'environmental', 'estate', 'offended', 'municipal', 'bustle', 'russkiyecode', 'humours', 'gratified', 'endeavour', 'artifacts', 'ammon', 'zion', 'dollar', 'currency', 'nine', 'bhasa', 'prolong', 'disposed', 'listen', 'recover', 'supposedly', 'urban', 'related', 'northeastern', 'blunder', 'jharkhand', 'bipedal', 'travel', 'rossiyanecode', 'monsoon', 'reduce', 'middleton', 'rejoiced', 'campbells', 'totally', 'underwent', 'enscombe', 'puppet', 'entreat', 'administration', 'martin', 'recollection', 'dhakka', 'sparsely', 'international', 'tomaras', 'sentest', 'range', 'gresham', 'suburbs', 'strangers', 'rts', 'bazaar', 'osce', 'minutes', 'pronunciation', 'liked', 'mahdia', 'mentioned', 'middletons', 'organization', 'dos', 'downstairs', 'cyclone', 'harriet', 'invite', 'safely', 'disagreement', 'risks', 'periphery', 'parishes', 'comparison', 'speak', 'musgroves', 'morrow', 'capta', 'somers', 'comfort', 'belial', 'measures', 'employment', 'theorized', 'riobamba', 'loyal', 'fortnight', 'politically', 'married', 'freed', 'encouragement', 'intimacy', 'worshipped', 'europe', 'monopoly', 'bondage', 'democratically', 'inexpressibly', 'westernized', 'hour', 'respectably', 'tributaries', 'monetary', 'marry', 'civilly', 'supplication', 'particulars', 'similar', 'knightley', 'rus', 'quality', 'patan', 'krishna', 'kilometers', 'abbreviation', 'october', 'introduction', 'satisfied', 'dominate', 'beneficial', 'delighted', 'accord', 'dictate', 'conjectured', 'sierra', 'contributed', 'consisted', 'arboreal', 'knitting', 'colta', 'gladly', 'careth', 'bhubaneswar', 'allowed', 'inca', 'captivity', 'freshened', 'removal', 'laos', 'productive', 'algonquins', 'largest', 'novelty', 'arabians', 'serbian', 'officially', 'quotations', 'reino', 'letter', 'tanais', 'unit', 'bol', 'attach', 'polities', 'images', 'brought', 'alternate', 'nativity', 'mercosul', 'aravalli', 'infer', 'relieve', 'athenians', 'assembled', 'adopt', 'yoke', 'desolations', 'shrewsbury', 'shekels', 'usa', 'constitution', 'bibhasha', 'termed', 'urdu', 'damsel', 'discretion', 'goddess', 'differently', 'bij', 'types', 'speakers', 'subarnarekha', 'ginza', 'peninsula', 'homo', 'boundariesb', 'estado', 'daughters', 'reducing', 'punctually', 'chaise', 'weston', 'united', 'mostly', 'spencer', 'repented', 'emma', 'thinkest', 'prowess', 'economic', 'abib', 'relation', 'montague', 'antarctic', 'hayter', 'widespread', 'historic', 'bus', 'brasil', 'edo', 'underpinned', 'hewers', 'passenger', 'officials', 'puri', 'diverse', 'finance', 'directly', 'olympic', 'morocco', 'miles', 'recommendations', 'convenient', 'farther', 'closer', 'fascist', 'og', 'immigration', 'tabernacle', 'attic', 'settlers', 'she', 'indicative', 'kellynch', 'association', 'cost', 'continue', 'apprehend', 'promised', 'recorded', 'hosts', 'watershed', 'hotels', 'neglecting']]\n"
          ]
        }
      ],
      "source": [
        "Sgram_args = []\n",
        "CBoW_args = []\n",
        "\n",
        "for i in range(V):\n",
        "  Sgram_args.append(np.dot(SGram_embeddings[i], S_exp))\n",
        "  CBoW_args.append(np.dot(CBoW_embeddings[i], C_exp))\n",
        "\n",
        "SGram_prob_dist = softmax(np.array(Sgram_args))\n",
        "# SGram_similar_word_id = int(np.argmax(SGram_prob_dist))\n",
        "# SGram_pred_word = id2word[SGram_similar_word_id]\n",
        "SGram_prob_dist_indexed = list(enumerate(SGram_prob_dist))\n",
        "SGram_prob_dist_sorted = sorted(SGram_prob_dist_indexed, key=itemgetter(1), reverse=True)\n",
        "\n",
        "# similar_word_id = int(np.argmax(prob_dist))\n",
        "SGram_pred_word = []\n",
        "for k in top_k:\n",
        "    SGram_similar_word_id = [tup[0] for tup in SGram_prob_dist_sorted[:k]]\n",
        "    pred_word = []\n",
        "    for id in SGram_similar_word_id:\n",
        "        pred_word.append(id2word[id])\n",
        "    SGram_pred_word.append(pred_word)\n",
        "\n",
        "\n",
        "\n",
        "CBoW_prob_dist = softmax(np.array(CBoW_args))\n",
        "CBoW_prob_dist_indexed = list(enumerate(CBoW_prob_dist))\n",
        "CBoW_prob_dist_sorted = sorted(CBoW_prob_dist_indexed, key=itemgetter(1), reverse=True)\n",
        "\n",
        "CBoW_pred_word = []\n",
        "for k in top_k:\n",
        "    CBoW_similar_word_id = [tup[0] for tup in CBoW_prob_dist_sorted[:k]]\n",
        "    pred_word = []\n",
        "    for id in CBoW_similar_word_id:\n",
        "        pred_word.append(id2word[id])\n",
        "    CBoW_pred_word.append(pred_word)\n",
        "\n",
        "\n",
        "print(f\"SkipGram : {SGram_pred_word};\\nCBoW : {CBoW_pred_word}\")"
      ]
    },
    {
      "cell_type": "code",
      "source": [],
      "metadata": {
        "id": "uI6mmJwZysep"
      },
      "execution_count": null,
      "outputs": []
    }
  ],
  "metadata": {
    "colab": {
      "provenance": []
    },
    "gpuClass": "standard",
    "kernelspec": {
      "display_name": "Python 3",
      "name": "python3"
    },
    "language_info": {
      "codemirror_mode": {
        "name": "ipython",
        "version": 3
      },
      "file_extension": ".py",
      "mimetype": "text/x-python",
      "name": "python",
      "nbconvert_exporter": "python",
      "pygments_lexer": "ipython3",
      "version": "3.9.13"
    }
  },
  "nbformat": 4,
  "nbformat_minor": 0
}