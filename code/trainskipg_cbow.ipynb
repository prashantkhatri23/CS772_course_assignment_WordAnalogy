{
  "metadata": {
    "kernelspec": {
      "language": "python",
      "display_name": "Python 3",
      "name": "python3"
    },
    "language_info": {
      "name": "python",
      "version": "3.7.12",
      "mimetype": "text/x-python",
      "codemirror_mode": {
        "name": "ipython",
        "version": 3
      },
      "pygments_lexer": "ipython3",
      "nbconvert_exporter": "python",
      "file_extension": ".py"
    },
    "colab": {
      "provenance": []
    }
  },
  "nbformat_minor": 0,
  "nbformat": 4,
  "cells": [
    {
      "cell_type": "markdown",
      "source": [
        "# Downloading Gutenberg Corpus"
      ],
      "metadata": {
        "id": "QQvLd6lnVfQa"
      }
    },
    {
      "cell_type": "code",
      "source": [
        "!pip install gdown --quiet\n",
        "\n",
        "#download analogy sentences dataset - 50 with val words\n",
        "!gdown 17T75JSOSK07S9M28TGQmOA5wAhJFzXa4"
      ],
      "metadata": {
        "id": "QzvEFN8JYKKm",
        "outputId": "17deb699-ef22-4fea-f9bc-51757f2abe46",
        "execution": {
          "iopub.status.busy": "2023-03-19T05:13:48.110625Z",
          "iopub.execute_input": "2023-03-19T05:13:48.111682Z",
          "iopub.status.idle": "2023-03-19T05:14:03.632018Z",
          "shell.execute_reply.started": "2023-03-19T05:13:48.111634Z",
          "shell.execute_reply": "2023-03-19T05:14:03.630812Z"
        },
        "trusted": true
      },
      "execution_count": null,
      "outputs": [
        {
          "name": "stdout",
          "text": "\u001b[33mWARNING: Running pip as the 'root' user can result in broken permissions and conflicting behaviour with the system package manager. It is recommended to use a virtual environment instead: https://pip.pypa.io/warnings/venv\u001b[0m\u001b[33m\n\u001b[0mDownloading...\nFrom: https://drive.google.com/uc?id=17T75JSOSK07S9M28TGQmOA5wAhJFzXa4\nTo: /kaggle/working/Analogy_sentences_50.txt\n100%|███████████████████████████████████████| 2.35M/2.35M [00:00<00:00, 172MB/s]\n",
          "output_type": "stream"
        }
      ]
    },
    {
      "cell_type": "code",
      "source": [
        "import nltk\n",
        "import numpy as np\n",
        "import torch\n",
        "nltk.download('gutenberg')\n",
        "nltk.download('punkt')\n",
        "nltk.download('stopwords')"
      ],
      "metadata": {
        "id": "trFpYFrOVapN",
        "outputId": "a4fb082a-ec9d-4f0f-f497-64d9addf7535",
        "execution": {
          "iopub.status.busy": "2023-03-19T05:14:03.634761Z",
          "iopub.execute_input": "2023-03-19T05:14:03.635171Z",
          "iopub.status.idle": "2023-03-19T05:14:07.444774Z",
          "shell.execute_reply.started": "2023-03-19T05:14:03.635128Z",
          "shell.execute_reply": "2023-03-19T05:14:07.443701Z"
        },
        "trusted": true
      },
      "execution_count": null,
      "outputs": [
        {
          "name": "stdout",
          "text": "[nltk_data] Downloading package gutenberg to /usr/share/nltk_data...\n[nltk_data]   Package gutenberg is already up-to-date!\n[nltk_data] Downloading package punkt to /usr/share/nltk_data...\n[nltk_data]   Package punkt is already up-to-date!\n[nltk_data] Downloading package stopwords to /usr/share/nltk_data...\n[nltk_data]   Package stopwords is already up-to-date!\n",
          "output_type": "stream"
        },
        {
          "execution_count": 2,
          "output_type": "execute_result",
          "data": {
            "text/plain": "True"
          },
          "metadata": {}
        }
      ]
    },
    {
      "cell_type": "code",
      "source": [
        "from pickle import load, dump"
      ],
      "metadata": {
        "id": "VZNK4gG7sn8x",
        "execution": {
          "iopub.status.busy": "2023-03-19T05:14:07.446328Z",
          "iopub.execute_input": "2023-03-19T05:14:07.447682Z",
          "iopub.status.idle": "2023-03-19T05:14:07.453042Z",
          "shell.execute_reply.started": "2023-03-19T05:14:07.447640Z",
          "shell.execute_reply": "2023-03-19T05:14:07.451926Z"
        },
        "trusted": true
      },
      "execution_count": null,
      "outputs": []
    },
    {
      "cell_type": "code",
      "source": [
        "import os\n",
        "import shutil"
      ],
      "metadata": {
        "id": "Jzad4NMEbUbL",
        "execution": {
          "iopub.status.busy": "2023-03-19T05:14:07.456232Z",
          "iopub.execute_input": "2023-03-19T05:14:07.457785Z",
          "iopub.status.idle": "2023-03-19T05:14:07.464914Z",
          "shell.execute_reply.started": "2023-03-19T05:14:07.457755Z",
          "shell.execute_reply": "2023-03-19T05:14:07.463506Z"
        },
        "trusted": true
      },
      "execution_count": null,
      "outputs": []
    },
    {
      "cell_type": "code",
      "source": [
        "src_dir = '/kaggle/working/books'\n",
        "des_dir ='/usr/share/nltk_data/corpora/gutenberg'\n"
      ],
      "metadata": {
        "id": "IXp2_oowbWh9",
        "execution": {
          "iopub.status.busy": "2023-03-19T05:14:07.467561Z",
          "iopub.execute_input": "2023-03-19T05:14:07.468452Z",
          "iopub.status.idle": "2023-03-19T05:14:07.474647Z",
          "shell.execute_reply.started": "2023-03-19T05:14:07.468414Z",
          "shell.execute_reply": "2023-03-19T05:14:07.473614Z"
        },
        "trusted": true
      },
      "execution_count": null,
      "outputs": []
    },
    {
      "cell_type": "code",
      "source": [
        "shutil.copyfile(\"/kaggle/working/Analogy_sentences_50.txt\",os.path.join(des_dir, \"analogy_50.txt\"))"
      ],
      "metadata": {
        "id": "4XMs2JLrg5JW",
        "outputId": "08be04a6-39d9-499e-a2d9-2ebf4ec8d3fd",
        "execution": {
          "iopub.status.busy": "2023-03-19T05:14:07.476474Z",
          "iopub.execute_input": "2023-03-19T05:14:07.476846Z",
          "iopub.status.idle": "2023-03-19T05:14:07.491783Z",
          "shell.execute_reply.started": "2023-03-19T05:14:07.476811Z",
          "shell.execute_reply": "2023-03-19T05:14:07.490639Z"
        },
        "trusted": true
      },
      "execution_count": null,
      "outputs": [
        {
          "execution_count": 6,
          "output_type": "execute_result",
          "data": {
            "text/plain": "'/usr/share/nltk_data/corpora/gutenberg/analogy_50.txt'"
          },
          "metadata": {}
        }
      ]
    },
    {
      "cell_type": "code",
      "source": [
        "print(len(os.listdir(des_dir)))"
      ],
      "metadata": {
        "id": "iYCBiOF3cgQy",
        "outputId": "8ce2a1be-a1ff-4b8d-cad7-10c7f2b9378d",
        "execution": {
          "iopub.status.busy": "2023-03-19T05:14:07.493693Z",
          "iopub.execute_input": "2023-03-19T05:14:07.494218Z",
          "iopub.status.idle": "2023-03-19T05:14:07.502145Z",
          "shell.execute_reply.started": "2023-03-19T05:14:07.494182Z",
          "shell.execute_reply": "2023-03-19T05:14:07.500966Z"
        },
        "trusted": true
      },
      "execution_count": null,
      "outputs": [
        {
          "name": "stdout",
          "text": "20\n",
          "output_type": "stream"
        }
      ]
    },
    {
      "cell_type": "markdown",
      "source": [
        "# Gutenberg corpus Train Sample Preparation"
      ],
      "metadata": {
        "id": "0O_ajB6ySI86"
      }
    },
    {
      "cell_type": "code",
      "source": [
        "from nltk.corpus import gutenberg, stopwords\n",
        "from nltk.tokenize import RegexpTokenizer\n",
        "from tqdm import tqdm"
      ],
      "metadata": {
        "id": "4F5JPc8r_62a",
        "execution": {
          "iopub.status.busy": "2023-03-19T05:14:07.503744Z",
          "iopub.execute_input": "2023-03-19T05:14:07.504746Z",
          "iopub.status.idle": "2023-03-19T05:14:07.514949Z",
          "shell.execute_reply.started": "2023-03-19T05:14:07.504710Z",
          "shell.execute_reply": "2023-03-19T05:14:07.513845Z"
        },
        "trusted": true
      },
      "execution_count": null,
      "outputs": []
    },
    {
      "cell_type": "markdown",
      "source": [
        "## SkipGram"
      ],
      "metadata": {
        "id": "bl8anOTbj60I"
      }
    },
    {
      "cell_type": "code",
      "source": [
        "!pip install ordered_set"
      ],
      "metadata": {
        "execution": {
          "iopub.status.busy": "2023-03-19T05:14:07.516487Z",
          "iopub.execute_input": "2023-03-19T05:14:07.517195Z",
          "iopub.status.idle": "2023-03-19T05:14:17.519892Z",
          "shell.execute_reply.started": "2023-03-19T05:14:07.517159Z",
          "shell.execute_reply": "2023-03-19T05:14:17.518672Z"
        },
        "trusted": true,
        "id": "69n6ItzU6Hn2",
        "outputId": "a4946f00-0a40-484a-eb0c-705b49112cdb"
      },
      "execution_count": null,
      "outputs": [
        {
          "name": "stdout",
          "text": "Collecting ordered_set\n  Downloading ordered_set-4.1.0-py3-none-any.whl (7.6 kB)\nInstalling collected packages: ordered_set\nSuccessfully installed ordered_set-4.1.0\n\u001b[33mWARNING: Running pip as the 'root' user can result in broken permissions and conflicting behaviour with the system package manager. It is recommended to use a virtual environment instead: https://pip.pypa.io/warnings/venv\u001b[0m\u001b[33m\n\u001b[0m",
          "output_type": "stream"
        }
      ]
    },
    {
      "cell_type": "code",
      "source": [
        "from ordered_set import OrderedSet"
      ],
      "metadata": {
        "execution": {
          "iopub.status.busy": "2023-03-19T05:14:17.527382Z",
          "iopub.execute_input": "2023-03-19T05:14:17.529697Z",
          "iopub.status.idle": "2023-03-19T05:14:17.542961Z",
          "shell.execute_reply.started": "2023-03-19T05:14:17.529653Z",
          "shell.execute_reply": "2023-03-19T05:14:17.541850Z"
        },
        "trusted": true,
        "id": "46eYvVmq6Hn3"
      },
      "execution_count": null,
      "outputs": []
    },
    {
      "cell_type": "code",
      "source": [
        "guten_file_list = sorted([i for i in os.listdir(des_dir) if '.txt' in i])\n",
        "print(len(guten_file_list))\n",
        "print(guten_file_list)"
      ],
      "metadata": {
        "id": "2G9Q0Kq7Zr2W",
        "outputId": "4db5e668-dbfe-43a7-eed0-a37d1e8deda9",
        "execution": {
          "iopub.status.busy": "2023-03-19T05:14:17.547748Z",
          "iopub.execute_input": "2023-03-19T05:14:17.550347Z",
          "iopub.status.idle": "2023-03-19T05:14:17.560115Z",
          "shell.execute_reply.started": "2023-03-19T05:14:17.550309Z",
          "shell.execute_reply": "2023-03-19T05:14:17.559034Z"
        },
        "trusted": true
      },
      "execution_count": null,
      "outputs": [
        {
          "name": "stdout",
          "text": "19\n['analogy_50.txt', 'austen-emma.txt', 'austen-persuasion.txt', 'austen-sense.txt', 'bible-kjv.txt', 'blake-poems.txt', 'bryant-stories.txt', 'burgess-busterbrown.txt', 'carroll-alice.txt', 'chesterton-ball.txt', 'chesterton-brown.txt', 'chesterton-thursday.txt', 'edgeworth-parents.txt', 'melville-moby_dick.txt', 'milton-paradise.txt', 'shakespeare-caesar.txt', 'shakespeare-hamlet.txt', 'shakespeare-macbeth.txt', 'whitman-leaves.txt']\n",
          "output_type": "stream"
        }
      ]
    },
    {
      "cell_type": "code",
      "source": [
        "# tokenizer = RegexpTokenizer(r'\\w+')\n",
        "stop_words = set(stopwords.words('english'))\n",
        "stopwords_in_validation = ['most', 'his', 'she', 'her', 'he']\n",
        "for sw in stopwords_in_validation:\n",
        "    stop_words.remove(sw)\n",
        "\n",
        "def mapping(tokens):\n",
        "    word_to_id = {}\n",
        "    id_to_word = {}\n",
        "\n",
        "    for i, token in enumerate(tokens):\n",
        "        word_to_id[token] = i\n",
        "        id_to_word[i] = token\n",
        "\n",
        "    return word_to_id, id_to_word\n",
        "\n",
        "def get_train_data(file_list, window, skipgram=True):\n",
        "  vocab = []\n",
        "  X = []\n",
        "  Y = []\n",
        "\n",
        "  for single_file in tqdm(file_list):\n",
        "    sentences = gutenberg.sents(single_file)\n",
        "    for sentence in sentences:\n",
        "      clean_sentence = [word.lower() for word in sentence if word.isascii() and word.isalpha() and word.lower() not in stop_words]\n",
        "      vocab.extend(clean_sentence)\n",
        "      x = []\n",
        "      for idx in range(len(clean_sentence)-2*window-1):\n",
        "        y = []\n",
        "        sample = clean_sentence[idx : idx + 2*window+1]\n",
        "        x = sample[window]\n",
        "        for num in range(2*window+1):\n",
        "          if num != window:\n",
        "            y.append(sample[num])\n",
        "\n",
        "        X.append(x)\n",
        "        Y.append([y])\n",
        "\n",
        "  #clean dataset\n",
        "  #remove duplicate ordered pairs\n",
        "#   dataset = tuple(zip(X, Y))\n",
        "#   final_dataset = list(set(dataset))\n",
        "\n",
        "#   X = [data[0] for data in final_dataset]\n",
        "#   Y = [data[1] for data in final_dataset]\n",
        "\n",
        "  #unique vocab words - need to maintain the order\n",
        "  final_vocab = list(OrderedSet(vocab))\n",
        "  word_to_id, id_to_word = mapping(final_vocab)\n",
        "\n",
        "  if skipgram:\n",
        "    return X, Y, word_to_id, id_to_word\n",
        "  else:\n",
        "    return Y, X, word_to_id, id_to_word"
      ],
      "metadata": {
        "id": "mq5llrPeWv8_",
        "execution": {
          "iopub.status.busy": "2023-03-19T05:14:17.564738Z",
          "iopub.execute_input": "2023-03-19T05:14:17.566962Z",
          "iopub.status.idle": "2023-03-19T05:14:17.584988Z",
          "shell.execute_reply.started": "2023-03-19T05:14:17.566927Z",
          "shell.execute_reply": "2023-03-19T05:14:17.583884Z"
        },
        "trusted": true
      },
      "execution_count": null,
      "outputs": []
    },
    {
      "cell_type": "code",
      "source": [
        "window = 5\n",
        "\n",
        "X, Y, word_to_id, id_to_word = get_train_data(guten_file_list, window, skipgram=True)"
      ],
      "metadata": {
        "id": "Uotjk30kWcnd",
        "outputId": "8b9671b7-5eac-42e1-9d88-fe95c4ae7b0e",
        "execution": {
          "iopub.status.busy": "2023-03-19T05:14:17.589752Z",
          "iopub.execute_input": "2023-03-19T05:14:17.592298Z",
          "iopub.status.idle": "2023-03-19T05:14:28.366540Z",
          "shell.execute_reply.started": "2023-03-19T05:14:17.592263Z",
          "shell.execute_reply": "2023-03-19T05:14:28.365499Z"
        },
        "trusted": true
      },
      "execution_count": null,
      "outputs": [
        {
          "name": "stderr",
          "text": "100%|██████████| 19/19 [00:09<00:00,  1.90it/s]\n",
          "output_type": "stream"
        }
      ]
    },
    {
      "cell_type": "code",
      "source": [
        "#saved pickled files\n",
        "with open(r'/kaggle/input/w2id-id2w/new_id2w.pkl', 'rb') as f:\n",
        "    id_to_word = load(f)\n",
        "\n",
        "with open(r'/kaggle/input/w2id-id2w/new_w2id.pkl', 'rb') as f:\n",
        "    word_to_id = load(f)"
      ],
      "metadata": {
        "execution": {
          "iopub.status.busy": "2023-03-19T05:14:28.368045Z",
          "iopub.execute_input": "2023-03-19T05:14:28.368396Z",
          "iopub.status.idle": "2023-03-19T05:14:28.427210Z",
          "shell.execute_reply.started": "2023-03-19T05:14:28.368359Z",
          "shell.execute_reply": "2023-03-19T05:14:28.426257Z"
        },
        "trusted": true,
        "id": "XdzEPeEo6Hn6"
      },
      "execution_count": null,
      "outputs": []
    },
    {
      "cell_type": "code",
      "source": [
        "len(X), len(Y), len(word_to_id)"
      ],
      "metadata": {
        "id": "sLnxgSasZsS3",
        "outputId": "181b4d21-ddd0-40f0-ed17-07ed09cabf69",
        "execution": {
          "iopub.status.busy": "2023-03-19T05:14:28.428581Z",
          "iopub.execute_input": "2023-03-19T05:14:28.428978Z",
          "iopub.status.idle": "2023-03-19T05:14:28.439918Z",
          "shell.execute_reply.started": "2023-03-19T05:14:28.428933Z",
          "shell.execute_reply": "2023-03-19T05:14:28.438959Z"
        },
        "trusted": true
      },
      "execution_count": null,
      "outputs": [
        {
          "execution_count": 15,
          "output_type": "execute_result",
          "data": {
            "text/plain": "(429040, 429040, 51608)"
          },
          "metadata": {}
        }
      ]
    },
    {
      "cell_type": "code",
      "source": [
        "# with open(r'new_w2id.pkl', 'wb') as f:\n",
        "#   dump(word_to_id, f)"
      ],
      "metadata": {
        "id": "jNGMYY_jsrv2",
        "execution": {
          "iopub.status.busy": "2023-03-19T05:15:39.629470Z",
          "iopub.execute_input": "2023-03-19T05:15:39.630176Z",
          "iopub.status.idle": "2023-03-19T05:15:39.635420Z",
          "shell.execute_reply.started": "2023-03-19T05:15:39.630136Z",
          "shell.execute_reply": "2023-03-19T05:15:39.634192Z"
        },
        "trusted": true,
        "outputId": "835c9251-e3ef-4407-955c-0a547fc304bd"
      },
      "execution_count": null,
      "outputs": [
        {
          "name": "stdout",
          "text": "553\n",
          "output_type": "stream"
        }
      ]
    },
    {
      "cell_type": "code",
      "source": [
        "# with open(r'new_id2w.pkl', 'wb') as f:\n",
        "#   dump(id_to_word, f)"
      ],
      "metadata": {
        "id": "HfuMfTNys6qr",
        "trusted": true
      },
      "execution_count": null,
      "outputs": []
    },
    {
      "cell_type": "code",
      "source": [
        "def one_hot_batch_encoding(batch, word_to_id, x_comes=True):\n",
        "    B = torch.zeros((len(batch), len(word_to_id)))           #B_dim = bXV; batch_dim = [batch_size, 0]\n",
        "    if x_comes:\n",
        "        for i, w in enumerate(batch):\n",
        "            B[i, word_to_id[w]] = 1.0\n",
        "\n",
        "    else:\n",
        "        for i, words in enumerate(batch):\n",
        "            for w in words[0]:\n",
        "                B[i, word_to_id[w]] = 1.0/len(words[0])\n",
        "\n",
        "    return B.to('cuda')\n"
      ],
      "metadata": {
        "id": "CTbzg7oiW6Nm",
        "execution": {
          "iopub.status.busy": "2023-03-19T05:17:58.041491Z",
          "iopub.execute_input": "2023-03-19T05:17:58.042202Z",
          "iopub.status.idle": "2023-03-19T05:17:58.049518Z",
          "shell.execute_reply.started": "2023-03-19T05:17:58.042164Z",
          "shell.execute_reply": "2023-03-19T05:17:58.048382Z"
        },
        "trusted": true
      },
      "execution_count": null,
      "outputs": []
    },
    {
      "cell_type": "code",
      "source": [
        "class DataLoader:\n",
        "  def __init__(self, word_to_id, id_to_word, X, Y, one_hot_encoding, batch_size):\n",
        "    self.word_to_id = word_to_id\n",
        "    self.id_to_word = id_to_word\n",
        "    self.X = X\n",
        "    self.Y = Y\n",
        "    self.batch_size = batch_size\n",
        "    self.batch_idx = 0\n",
        "    self.max_length = len(X)\n",
        "    self.one_hot_encoding = one_hot_encoding\n",
        "  def __iter__(self):\n",
        "    return self\n",
        "  def __next__(self):\n",
        "    curr_batch_idx = self.batch_idx\n",
        "    self.batch_idx = self.batch_idx + self.batch_size\n",
        "    if self.batch_idx < self.max_length:\n",
        "      return self.one_hot_encoding(X[curr_batch_idx:self.batch_idx], self.word_to_id), self.one_hot_encoding(Y[curr_batch_idx:self.batch_idx], self.word_to_id, x_comes=False)\n",
        "    self.batch_idx = 0\n",
        "    raise StopIteration\n",
        "  def __len__(self):\n",
        "    return len(self.X)//self.batch_size"
      ],
      "metadata": {
        "id": "Mep2NO3WNgoa",
        "execution": {
          "iopub.status.busy": "2023-03-19T05:18:13.470412Z",
          "iopub.execute_input": "2023-03-19T05:18:13.471022Z",
          "iopub.status.idle": "2023-03-19T05:18:13.479179Z",
          "shell.execute_reply.started": "2023-03-19T05:18:13.470982Z",
          "shell.execute_reply": "2023-03-19T05:18:13.478099Z"
        },
        "trusted": true
      },
      "execution_count": null,
      "outputs": []
    },
    {
      "cell_type": "code",
      "source": [
        "# loader = DataLoader(word_to_id, id_to_word, X, Y, one_hot_batch_encoding, batch_size = 1024)\n",
        "loader = DataLoader(word_to_id, id_to_word, X, Y, one_hot_batch_encoding, batch_size = 1000)"
      ],
      "metadata": {
        "id": "q4ujEG82a8qX",
        "execution": {
          "iopub.status.busy": "2023-03-19T05:18:17.957416Z",
          "iopub.execute_input": "2023-03-19T05:18:17.957802Z",
          "iopub.status.idle": "2023-03-19T05:18:17.963011Z",
          "shell.execute_reply.started": "2023-03-19T05:18:17.957767Z",
          "shell.execute_reply": "2023-03-19T05:18:17.961677Z"
        },
        "trusted": true
      },
      "execution_count": null,
      "outputs": []
    },
    {
      "cell_type": "code",
      "source": [
        "def softmax(batch, epsilon = 1e-5):\n",
        "\n",
        "  num = batch - torch.amax(batch, dim = 1, keepdim=True)\n",
        "  num = torch.exp(num)\n",
        "  den = torch.sum(num, axis=1).reshape((-1,1)) + epsilon\n",
        "  return num/den\n",
        "\n",
        "def cross_entropy(y_pred, y_true, epsilon = 1e-5):\n",
        "  return -torch.mean(torch.sum(y_true * torch.log(y_pred + epsilon),axis=1))\n",
        "\n",
        "def tss(y_pred, y_true):\n",
        "  return 0.5*torch.sum((y_pred - y_true)**2)\n",
        "\n",
        "class word2vec:\n",
        "\n",
        "  def __init__(self, vocab_size, embedding_size, output_activation, loss_fn):\n",
        "    self.vocab_size = vocab_size\n",
        "    self.embedding_size = embedding_size\n",
        "    he_in = np.sqrt(6/vocab_size)\n",
        "    he_hidden = np.sqrt(6/embedding_size)\n",
        "    self.network = {\n",
        "        # \"w1\" : torch.randn(self.vocab_size, self.embedding_size).to(\"cuda\"),\n",
        "        # \"w2\" : torch.randn(self.embedding_size, self.vocab_size).to(\"cuda\")\n",
        "        \"w1\" : (2*he_in*torch.rand(self.vocab_size, self.embedding_size) - he_in).to(\"cuda\"),\n",
        "        \"w2\" : (2*he_hidden*torch.rand(self.embedding_size, self.vocab_size) - he_hidden).to(\"cuda\")\n",
        "    }\n",
        "    self.output_activation = output_activation\n",
        "    self.loss_fn = loss_fn\n",
        "\n",
        "    self.mW1 = 0\n",
        "    self.mV1 = 0\n",
        "    self.mW2 = 0\n",
        "    self.mV2 = 0\n",
        "\n",
        "  def forward(self, X):\n",
        "    cache = {}\n",
        "    cache[\"a1\"] = X @ self.network[\"w1\"]\n",
        "    cache[\"a2\"] = cache[\"a1\"] @ self.network[\"w2\"]\n",
        "    cache[\"z\"] = self.output_activation(cache[\"a2\"])\n",
        "    return cache\n",
        "\n",
        "  def predict(self, X):\n",
        "    return self.output_activation((X@self.network[\"w1\"])@self.network[\"w2\"])\n",
        "\n",
        "  def backward(self, cache, x, y, alpha, epoch, beta1 = 0.9, beta2 = 0.99, epsilon=1e-5):\n",
        "      # cache  = self.forward(x)\n",
        "      M = x.shape[0]\n",
        "      obs = cache[\"z\"]\n",
        "      da2 = obs - y\n",
        "      dw2 = (cache[\"a1\"].T @ da2)/M      #softmax derivative added\n",
        "      da1 = da2 @ self.network[\"w2\"].T\n",
        "      dw1 = (x.T @ da1)/M\n",
        "\n",
        "      #ADAM optimization step for w1\n",
        "      self.mW1 = beta1*self.mW1 + (1-beta1)*dw1\n",
        "      self.mV1 = beta2*self.mV1 + (1-beta2)*(dw1**2)\n",
        "      mW1_hat = self.mW1/(1-beta1**epoch)\n",
        "      mV1_hat = self.mV1/(1-beta2**epoch)\n",
        "      dw1 = mW1_hat/(torch.sqrt(mV1_hat) + epsilon)\n",
        "\n",
        "      #ADAM optimization step for w2\n",
        "      self.mW2 = beta1*self.mW2 + (1-beta1)*dw2         #momentum with 1st moment\n",
        "      self.mV2 = beta2*self.mV2 + (1-beta2)*(dw2**2)    #momentum with second moment\n",
        "      mW2_hat = self.mW2/(1-beta1**epoch)               #bias correction\n",
        "      mV2_hat = self.mV2/(1-beta2**epoch)\n",
        "      dw2 = mW2_hat/(torch.sqrt(mV2_hat) + epsilon)     #final computation -> RMSProp\n",
        "\n",
        "      assert(dw2.shape == self.network[\"w2\"].shape)\n",
        "      assert(dw1.shape == self.network[\"w1\"].shape)\n",
        "      self.network[\"w1\"] -= alpha * dw1            #over M batches\n",
        "      self.network[\"w2\"] -= alpha * dw2\n",
        "\n",
        "      #calculate loss after adjusting weights\n",
        "      cache_after_train = self.forward(x)\n",
        "      loss = self.loss_fn(cache_after_train[\"z\"], y)\n",
        "      # if torch.isnan(loss):\n",
        "      #   print(x.T, dw1, da1, self.network['w1'],self.network['w2'],cache[\"z\"])\n",
        "      return loss"
      ],
      "metadata": {
        "id": "oZV4Np8E60Q8",
        "execution": {
          "iopub.status.busy": "2023-03-19T05:18:36.377083Z",
          "iopub.execute_input": "2023-03-19T05:18:36.377517Z",
          "iopub.status.idle": "2023-03-19T05:18:36.396345Z",
          "shell.execute_reply.started": "2023-03-19T05:18:36.377481Z",
          "shell.execute_reply": "2023-03-19T05:18:36.395253Z"
        },
        "trusted": true
      },
      "execution_count": null,
      "outputs": []
    },
    {
      "cell_type": "code",
      "source": [
        "model = word2vec(len(word_to_id), embedding_size = 50, output_activation = softmax, loss_fn = cross_entropy)"
      ],
      "metadata": {
        "id": "Mwfad0FNxq3z",
        "execution": {
          "iopub.status.busy": "2023-03-19T05:19:14.657887Z",
          "iopub.execute_input": "2023-03-19T05:19:14.658274Z",
          "iopub.status.idle": "2023-03-19T05:19:18.108838Z",
          "shell.execute_reply.started": "2023-03-19T05:19:14.658239Z",
          "shell.execute_reply": "2023-03-19T05:19:18.107593Z"
        },
        "trusted": true
      },
      "execution_count": null,
      "outputs": []
    },
    {
      "cell_type": "code",
      "source": [
        "epochs = 100\n",
        "\n",
        "lavg = []\n",
        "\n",
        "beta1 = 0.9\n",
        "beta2 = 0.999\n",
        "alpha = 1e-3\n",
        "\n",
        "for epoch in range(epochs):\n",
        "  with tqdm(total=len(loader)) as progress_bar:\n",
        "    L = []\n",
        "    for x,y in loader:\n",
        "      x = x.to(\"cuda\")\n",
        "      y = y.to(\"cuda\")\n",
        "      cache = model.forward(x)\n",
        "      loss = model.backward(cache, x, y, alpha = alpha, beta1=beta1, beta2=beta2, epoch=epoch+1)\n",
        "      if torch.isnan(loss):\n",
        "        break\n",
        "      L.append(loss.cpu().item())\n",
        "      progress_bar.update(1)\n",
        "      progress_bar.set_description(f\"Loss : {loss}\")\n",
        "      progress_bar.refresh()\n",
        "    lavg.append(np.mean(L))\n",
        "    if len(lavg)>=2 and lavg[-1]>lavg[-2]:\n",
        "      print(\"Loss rising. Stopped!\")\n",
        "      break\n",
        "  print(f\"Epoch : {epoch}\")"
      ],
      "metadata": {
        "id": "7-Y4xDJYag2u",
        "outputId": "1a7edf69-8827-4dd7-b4e3-00d3224cc679",
        "execution": {
          "iopub.status.busy": "2023-03-19T05:20:53.997909Z",
          "iopub.execute_input": "2023-03-19T05:20:53.998976Z",
          "iopub.status.idle": "2023-03-19T10:38:19.985191Z",
          "shell.execute_reply.started": "2023-03-19T05:20:53.998928Z",
          "shell.execute_reply": "2023-03-19T10:38:19.984101Z"
        },
        "trusted": true
      },
      "execution_count": null,
      "outputs": [
        {
          "name": "stderr",
          "text": "Loss : 9.689728736877441:  79%|███████▊  | 337/429 [02:27<00:40,  2.29it/s]\n",
          "output_type": "stream"
        },
        {
          "name": "stdout",
          "text": "Epoch : 0\n",
          "output_type": "stream"
        },
        {
          "name": "stderr",
          "text": "Loss : 9.326870918273926: 100%|██████████| 429/429 [03:07<00:00,  2.28it/s] \n",
          "output_type": "stream"
        },
        {
          "name": "stdout",
          "text": "Epoch : 1\n",
          "output_type": "stream"
        },
        {
          "name": "stderr",
          "text": "Loss : 9.179558753967285: 100%|██████████| 429/429 [03:10<00:00,  2.26it/s] \n",
          "output_type": "stream"
        },
        {
          "name": "stdout",
          "text": "Epoch : 2\n",
          "output_type": "stream"
        },
        {
          "name": "stderr",
          "text": "Loss : 9.092963218688965: 100%|██████████| 429/429 [03:09<00:00,  2.26it/s] \n",
          "output_type": "stream"
        },
        {
          "name": "stdout",
          "text": "Epoch : 3\n",
          "output_type": "stream"
        },
        {
          "name": "stderr",
          "text": "Loss : 9.033586502075195: 100%|██████████| 429/429 [03:09<00:00,  2.27it/s] \n",
          "output_type": "stream"
        },
        {
          "name": "stdout",
          "text": "Epoch : 4\n",
          "output_type": "stream"
        },
        {
          "name": "stderr",
          "text": "Loss : 8.989238739013672: 100%|██████████| 429/429 [03:08<00:00,  2.27it/s] \n",
          "output_type": "stream"
        },
        {
          "name": "stdout",
          "text": "Epoch : 5\n",
          "output_type": "stream"
        },
        {
          "name": "stderr",
          "text": "Loss : 8.954252243041992: 100%|██████████| 429/429 [03:09<00:00,  2.26it/s] \n",
          "output_type": "stream"
        },
        {
          "name": "stdout",
          "text": "Epoch : 6\n",
          "output_type": "stream"
        },
        {
          "name": "stderr",
          "text": "Loss : 8.925578117370605: 100%|██████████| 429/429 [03:09<00:00,  2.26it/s] \n",
          "output_type": "stream"
        },
        {
          "name": "stdout",
          "text": "Epoch : 7\n",
          "output_type": "stream"
        },
        {
          "name": "stderr",
          "text": "Loss : 8.901426315307617: 100%|██████████| 429/429 [03:09<00:00,  2.27it/s] \n",
          "output_type": "stream"
        },
        {
          "name": "stdout",
          "text": "Epoch : 8\n",
          "output_type": "stream"
        },
        {
          "name": "stderr",
          "text": "Loss : 8.880668640136719: 100%|██████████| 429/429 [03:10<00:00,  2.26it/s] \n",
          "output_type": "stream"
        },
        {
          "name": "stdout",
          "text": "Epoch : 9\n",
          "output_type": "stream"
        },
        {
          "name": "stderr",
          "text": "Loss : 8.862550735473633: 100%|██████████| 429/429 [03:10<00:00,  2.25it/s] \n",
          "output_type": "stream"
        },
        {
          "name": "stdout",
          "text": "Epoch : 10\n",
          "output_type": "stream"
        },
        {
          "name": "stderr",
          "text": "Loss : 8.84654712677002: 100%|██████████| 429/429 [03:10<00:00,  2.26it/s]  \n",
          "output_type": "stream"
        },
        {
          "name": "stdout",
          "text": "Epoch : 11\n",
          "output_type": "stream"
        },
        {
          "name": "stderr",
          "text": "Loss : 8.832266807556152: 100%|██████████| 429/429 [03:10<00:00,  2.25it/s] \n",
          "output_type": "stream"
        },
        {
          "name": "stdout",
          "text": "Epoch : 12\n",
          "output_type": "stream"
        },
        {
          "name": "stderr",
          "text": "Loss : 8.819409370422363: 100%|██████████| 429/429 [03:10<00:00,  2.26it/s] \n",
          "output_type": "stream"
        },
        {
          "name": "stdout",
          "text": "Epoch : 13\n",
          "output_type": "stream"
        },
        {
          "name": "stderr",
          "text": "Loss : 8.807743072509766: 100%|██████████| 429/429 [03:10<00:00,  2.25it/s] \n",
          "output_type": "stream"
        },
        {
          "name": "stdout",
          "text": "Epoch : 14\n",
          "output_type": "stream"
        },
        {
          "name": "stderr",
          "text": "Loss : 8.797077178955078: 100%|██████████| 429/429 [03:10<00:00,  2.25it/s] \n",
          "output_type": "stream"
        },
        {
          "name": "stdout",
          "text": "Epoch : 15\n",
          "output_type": "stream"
        },
        {
          "name": "stderr",
          "text": "Loss : 8.787261962890625: 100%|██████████| 429/429 [03:10<00:00,  2.25it/s] \n",
          "output_type": "stream"
        },
        {
          "name": "stdout",
          "text": "Epoch : 16\n",
          "output_type": "stream"
        },
        {
          "name": "stderr",
          "text": "Loss : 8.77817153930664: 100%|██████████| 429/429 [03:10<00:00,  2.25it/s]  \n",
          "output_type": "stream"
        },
        {
          "name": "stdout",
          "text": "Epoch : 17\n",
          "output_type": "stream"
        },
        {
          "name": "stderr",
          "text": "Loss : 8.769701957702637: 100%|██████████| 429/429 [03:10<00:00,  2.25it/s] \n",
          "output_type": "stream"
        },
        {
          "name": "stdout",
          "text": "Epoch : 18\n",
          "output_type": "stream"
        },
        {
          "name": "stderr",
          "text": "Loss : 8.761764526367188: 100%|██████████| 429/429 [03:10<00:00,  2.25it/s] \n",
          "output_type": "stream"
        },
        {
          "name": "stdout",
          "text": "Epoch : 19\n",
          "output_type": "stream"
        },
        {
          "name": "stderr",
          "text": "Loss : 8.754284858703613: 100%|██████████| 429/429 [03:10<00:00,  2.25it/s] \n",
          "output_type": "stream"
        },
        {
          "name": "stdout",
          "text": "Epoch : 20\n",
          "output_type": "stream"
        },
        {
          "name": "stderr",
          "text": "Loss : 8.747198104858398: 100%|██████████| 429/429 [03:10<00:00,  2.25it/s] \n",
          "output_type": "stream"
        },
        {
          "name": "stdout",
          "text": "Epoch : 21\n",
          "output_type": "stream"
        },
        {
          "name": "stderr",
          "text": "Loss : 8.740448951721191: 100%|██████████| 429/429 [03:10<00:00,  2.25it/s] \n",
          "output_type": "stream"
        },
        {
          "name": "stdout",
          "text": "Epoch : 22\n",
          "output_type": "stream"
        },
        {
          "name": "stderr",
          "text": "Loss : 8.733986854553223: 100%|██████████| 429/429 [03:10<00:00,  2.25it/s] \n",
          "output_type": "stream"
        },
        {
          "name": "stdout",
          "text": "Epoch : 23\n",
          "output_type": "stream"
        },
        {
          "name": "stderr",
          "text": "Loss : 8.727766036987305: 100%|██████████| 429/429 [03:10<00:00,  2.25it/s] \n",
          "output_type": "stream"
        },
        {
          "name": "stdout",
          "text": "Epoch : 24\n",
          "output_type": "stream"
        },
        {
          "name": "stderr",
          "text": "Loss : 8.721750259399414: 100%|██████████| 429/429 [03:10<00:00,  2.25it/s] \n",
          "output_type": "stream"
        },
        {
          "name": "stdout",
          "text": "Epoch : 25\n",
          "output_type": "stream"
        },
        {
          "name": "stderr",
          "text": "Loss : 8.715909004211426: 100%|██████████| 429/429 [03:10<00:00,  2.25it/s] \n",
          "output_type": "stream"
        },
        {
          "name": "stdout",
          "text": "Epoch : 26\n",
          "output_type": "stream"
        },
        {
          "name": "stderr",
          "text": "Loss : 8.710214614868164: 100%|██████████| 429/429 [03:10<00:00,  2.25it/s] \n",
          "output_type": "stream"
        },
        {
          "name": "stdout",
          "text": "Epoch : 27\n",
          "output_type": "stream"
        },
        {
          "name": "stderr",
          "text": "Loss : 8.704648971557617: 100%|██████████| 429/429 [03:10<00:00,  2.25it/s] \n",
          "output_type": "stream"
        },
        {
          "name": "stdout",
          "text": "Epoch : 28\n",
          "output_type": "stream"
        },
        {
          "name": "stderr",
          "text": "Loss : 8.699197769165039: 100%|██████████| 429/429 [03:10<00:00,  2.25it/s] \n",
          "output_type": "stream"
        },
        {
          "name": "stdout",
          "text": "Epoch : 29\n",
          "output_type": "stream"
        },
        {
          "name": "stderr",
          "text": "Loss : 8.69385814666748: 100%|██████████| 429/429 [03:10<00:00,  2.25it/s]  \n",
          "output_type": "stream"
        },
        {
          "name": "stdout",
          "text": "Epoch : 30\n",
          "output_type": "stream"
        },
        {
          "name": "stderr",
          "text": "Loss : 8.68862247467041: 100%|██████████| 429/429 [03:11<00:00,  2.24it/s]  \n",
          "output_type": "stream"
        },
        {
          "name": "stdout",
          "text": "Epoch : 31\n",
          "output_type": "stream"
        },
        {
          "name": "stderr",
          "text": "Loss : 8.683493614196777: 100%|██████████| 429/429 [03:11<00:00,  2.24it/s] \n",
          "output_type": "stream"
        },
        {
          "name": "stdout",
          "text": "Epoch : 32\n",
          "output_type": "stream"
        },
        {
          "name": "stderr",
          "text": "Loss : 8.678465843200684: 100%|██████████| 429/429 [03:11<00:00,  2.24it/s] \n",
          "output_type": "stream"
        },
        {
          "name": "stdout",
          "text": "Epoch : 33\n",
          "output_type": "stream"
        },
        {
          "name": "stderr",
          "text": "Loss : 8.673537254333496: 100%|██████████| 429/429 [03:11<00:00,  2.24it/s] \n",
          "output_type": "stream"
        },
        {
          "name": "stdout",
          "text": "Epoch : 34\n",
          "output_type": "stream"
        },
        {
          "name": "stderr",
          "text": "Loss : 8.668699264526367: 100%|██████████| 429/429 [03:11<00:00,  2.24it/s] \n",
          "output_type": "stream"
        },
        {
          "name": "stdout",
          "text": "Epoch : 35\n",
          "output_type": "stream"
        },
        {
          "name": "stderr",
          "text": "Loss : 8.663938522338867: 100%|██████████| 429/429 [03:10<00:00,  2.25it/s] \n",
          "output_type": "stream"
        },
        {
          "name": "stdout",
          "text": "Epoch : 36\n",
          "output_type": "stream"
        },
        {
          "name": "stderr",
          "text": "Loss : 8.65924072265625: 100%|██████████| 429/429 [03:11<00:00,  2.25it/s]  \n",
          "output_type": "stream"
        },
        {
          "name": "stdout",
          "text": "Epoch : 37\n",
          "output_type": "stream"
        },
        {
          "name": "stderr",
          "text": "Loss : 8.65458869934082: 100%|██████████| 429/429 [03:10<00:00,  2.25it/s]  \n",
          "output_type": "stream"
        },
        {
          "name": "stdout",
          "text": "Epoch : 38\n",
          "output_type": "stream"
        },
        {
          "name": "stderr",
          "text": "Loss : 8.64996337890625: 100%|██████████| 429/429 [03:11<00:00,  2.25it/s]  \n",
          "output_type": "stream"
        },
        {
          "name": "stdout",
          "text": "Epoch : 39\n",
          "output_type": "stream"
        },
        {
          "name": "stderr",
          "text": "Loss : 8.645346641540527: 100%|██████████| 429/429 [03:11<00:00,  2.24it/s] \n",
          "output_type": "stream"
        },
        {
          "name": "stdout",
          "text": "Epoch : 40\n",
          "output_type": "stream"
        },
        {
          "name": "stderr",
          "text": "Loss : 8.640727996826172: 100%|██████████| 429/429 [03:11<00:00,  2.25it/s] \n",
          "output_type": "stream"
        },
        {
          "name": "stdout",
          "text": "Epoch : 41\n",
          "output_type": "stream"
        },
        {
          "name": "stderr",
          "text": "Loss : 8.636090278625488: 100%|██████████| 429/429 [03:10<00:00,  2.25it/s] \n",
          "output_type": "stream"
        },
        {
          "name": "stdout",
          "text": "Epoch : 42\n",
          "output_type": "stream"
        },
        {
          "name": "stderr",
          "text": "Loss : 8.631427764892578: 100%|██████████| 429/429 [03:10<00:00,  2.25it/s] \n",
          "output_type": "stream"
        },
        {
          "name": "stdout",
          "text": "Epoch : 43\n",
          "output_type": "stream"
        },
        {
          "name": "stderr",
          "text": "Loss : 8.626731872558594: 100%|██████████| 429/429 [03:10<00:00,  2.25it/s] \n",
          "output_type": "stream"
        },
        {
          "name": "stdout",
          "text": "Epoch : 44\n",
          "output_type": "stream"
        },
        {
          "name": "stderr",
          "text": "Loss : 8.62199878692627: 100%|██████████| 429/429 [03:11<00:00,  2.25it/s]  \n",
          "output_type": "stream"
        },
        {
          "name": "stdout",
          "text": "Epoch : 45\n",
          "output_type": "stream"
        },
        {
          "name": "stderr",
          "text": "Loss : 8.617223739624023: 100%|██████████| 429/429 [03:11<00:00,  2.24it/s] \n",
          "output_type": "stream"
        },
        {
          "name": "stdout",
          "text": "Epoch : 46\n",
          "output_type": "stream"
        },
        {
          "name": "stderr",
          "text": "Loss : 8.612407684326172: 100%|██████████| 429/429 [03:11<00:00,  2.24it/s] \n",
          "output_type": "stream"
        },
        {
          "name": "stdout",
          "text": "Epoch : 47\n",
          "output_type": "stream"
        },
        {
          "name": "stderr",
          "text": "Loss : 8.607547760009766: 100%|██████████| 429/429 [03:10<00:00,  2.25it/s] \n",
          "output_type": "stream"
        },
        {
          "name": "stdout",
          "text": "Epoch : 48\n",
          "output_type": "stream"
        },
        {
          "name": "stderr",
          "text": "Loss : 8.602643013000488: 100%|██████████| 429/429 [03:10<00:00,  2.25it/s] \n",
          "output_type": "stream"
        },
        {
          "name": "stdout",
          "text": "Epoch : 49\n",
          "output_type": "stream"
        },
        {
          "name": "stderr",
          "text": "Loss : 8.597697257995605: 100%|██████████| 429/429 [03:12<00:00,  2.23it/s] \n",
          "output_type": "stream"
        },
        {
          "name": "stdout",
          "text": "Epoch : 50\n",
          "output_type": "stream"
        },
        {
          "name": "stderr",
          "text": "Loss : 8.592708587646484: 100%|██████████| 429/429 [03:11<00:00,  2.24it/s] \n",
          "output_type": "stream"
        },
        {
          "name": "stdout",
          "text": "Epoch : 51\n",
          "output_type": "stream"
        },
        {
          "name": "stderr",
          "text": "Loss : 8.587679862976074: 100%|██████████| 429/429 [03:11<00:00,  2.24it/s] \n",
          "output_type": "stream"
        },
        {
          "name": "stdout",
          "text": "Epoch : 52\n",
          "output_type": "stream"
        },
        {
          "name": "stderr",
          "text": "Loss : 8.582611083984375: 100%|██████████| 429/429 [03:12<00:00,  2.23it/s] \n",
          "output_type": "stream"
        },
        {
          "name": "stdout",
          "text": "Epoch : 53\n",
          "output_type": "stream"
        },
        {
          "name": "stderr",
          "text": "Loss : 8.577503204345703: 100%|██████████| 429/429 [03:12<00:00,  2.23it/s] \n",
          "output_type": "stream"
        },
        {
          "name": "stdout",
          "text": "Epoch : 54\n",
          "output_type": "stream"
        },
        {
          "name": "stderr",
          "text": "Loss : 8.572360038757324: 100%|██████████| 429/429 [03:12<00:00,  2.23it/s] \n",
          "output_type": "stream"
        },
        {
          "name": "stdout",
          "text": "Epoch : 55\n",
          "output_type": "stream"
        },
        {
          "name": "stderr",
          "text": "Loss : 8.567177772521973: 100%|██████████| 429/429 [03:12<00:00,  2.23it/s] \n",
          "output_type": "stream"
        },
        {
          "name": "stdout",
          "text": "Epoch : 56\n",
          "output_type": "stream"
        },
        {
          "name": "stderr",
          "text": "Loss : 8.561963081359863: 100%|██████████| 429/429 [03:11<00:00,  2.24it/s] \n",
          "output_type": "stream"
        },
        {
          "name": "stdout",
          "text": "Epoch : 57\n",
          "output_type": "stream"
        },
        {
          "name": "stderr",
          "text": "Loss : 8.55671501159668: 100%|██████████| 429/429 [03:12<00:00,  2.23it/s]  \n",
          "output_type": "stream"
        },
        {
          "name": "stdout",
          "text": "Epoch : 58\n",
          "output_type": "stream"
        },
        {
          "name": "stderr",
          "text": "Loss : 8.551433563232422: 100%|██████████| 429/429 [03:12<00:00,  2.23it/s] \n",
          "output_type": "stream"
        },
        {
          "name": "stdout",
          "text": "Epoch : 59\n",
          "output_type": "stream"
        },
        {
          "name": "stderr",
          "text": "Loss : 8.546122550964355: 100%|██████████| 429/429 [03:13<00:00,  2.22it/s] \n",
          "output_type": "stream"
        },
        {
          "name": "stdout",
          "text": "Epoch : 60\n",
          "output_type": "stream"
        },
        {
          "name": "stderr",
          "text": "Loss : 8.540780067443848: 100%|██████████| 429/429 [03:12<00:00,  2.23it/s] \n",
          "output_type": "stream"
        },
        {
          "name": "stdout",
          "text": "Epoch : 61\n",
          "output_type": "stream"
        },
        {
          "name": "stderr",
          "text": "Loss : 8.535407066345215: 100%|██████████| 429/429 [03:13<00:00,  2.22it/s] \n",
          "output_type": "stream"
        },
        {
          "name": "stdout",
          "text": "Epoch : 62\n",
          "output_type": "stream"
        },
        {
          "name": "stderr",
          "text": "Loss : 8.530003547668457: 100%|██████████| 429/429 [03:12<00:00,  2.22it/s] \n",
          "output_type": "stream"
        },
        {
          "name": "stdout",
          "text": "Epoch : 63\n",
          "output_type": "stream"
        },
        {
          "name": "stderr",
          "text": "Loss : 8.524569511413574: 100%|██████████| 429/429 [03:11<00:00,  2.24it/s] \n",
          "output_type": "stream"
        },
        {
          "name": "stdout",
          "text": "Epoch : 64\n",
          "output_type": "stream"
        },
        {
          "name": "stderr",
          "text": "Loss : 8.519105911254883: 100%|██████████| 429/429 [03:10<00:00,  2.25it/s] \n",
          "output_type": "stream"
        },
        {
          "name": "stdout",
          "text": "Epoch : 65\n",
          "output_type": "stream"
        },
        {
          "name": "stderr",
          "text": "Loss : 8.513608932495117: 100%|██████████| 429/429 [03:10<00:00,  2.25it/s] \n",
          "output_type": "stream"
        },
        {
          "name": "stdout",
          "text": "Epoch : 66\n",
          "output_type": "stream"
        },
        {
          "name": "stderr",
          "text": "Loss : 8.508081436157227: 100%|██████████| 429/429 [03:10<00:00,  2.25it/s] \n",
          "output_type": "stream"
        },
        {
          "name": "stdout",
          "text": "Epoch : 67\n",
          "output_type": "stream"
        },
        {
          "name": "stderr",
          "text": "Loss : 8.502517700195312: 100%|██████████| 429/429 [03:11<00:00,  2.24it/s] \n",
          "output_type": "stream"
        },
        {
          "name": "stdout",
          "text": "Epoch : 68\n",
          "output_type": "stream"
        },
        {
          "name": "stderr",
          "text": "Loss : 8.496922492980957: 100%|██████████| 429/429 [03:11<00:00,  2.25it/s] \n",
          "output_type": "stream"
        },
        {
          "name": "stdout",
          "text": "Epoch : 69\n",
          "output_type": "stream"
        },
        {
          "name": "stderr",
          "text": "Loss : 8.491291999816895: 100%|██████████| 429/429 [03:10<00:00,  2.25it/s] \n",
          "output_type": "stream"
        },
        {
          "name": "stdout",
          "text": "Epoch : 70\n",
          "output_type": "stream"
        },
        {
          "name": "stderr",
          "text": "Loss : 8.485625267028809: 100%|██████████| 429/429 [03:10<00:00,  2.25it/s] \n",
          "output_type": "stream"
        },
        {
          "name": "stdout",
          "text": "Epoch : 71\n",
          "output_type": "stream"
        },
        {
          "name": "stderr",
          "text": "Loss : 8.479923248291016: 100%|██████████| 429/429 [03:10<00:00,  2.25it/s] \n",
          "output_type": "stream"
        },
        {
          "name": "stdout",
          "text": "Epoch : 72\n",
          "output_type": "stream"
        },
        {
          "name": "stderr",
          "text": "Loss : 8.474184036254883: 100%|██████████| 429/429 [03:11<00:00,  2.25it/s] \n",
          "output_type": "stream"
        },
        {
          "name": "stdout",
          "text": "Epoch : 73\n",
          "output_type": "stream"
        },
        {
          "name": "stderr",
          "text": "Loss : 8.46841049194336: 100%|██████████| 429/429 [03:11<00:00,  2.24it/s]  \n",
          "output_type": "stream"
        },
        {
          "name": "stdout",
          "text": "Epoch : 74\n",
          "output_type": "stream"
        },
        {
          "name": "stderr",
          "text": "Loss : 8.462597846984863: 100%|██████████| 429/429 [03:12<00:00,  2.23it/s] \n",
          "output_type": "stream"
        },
        {
          "name": "stdout",
          "text": "Epoch : 75\n",
          "output_type": "stream"
        },
        {
          "name": "stderr",
          "text": "Loss : 8.456748008728027: 100%|██████████| 429/429 [03:10<00:00,  2.25it/s] \n",
          "output_type": "stream"
        },
        {
          "name": "stdout",
          "text": "Epoch : 76\n",
          "output_type": "stream"
        },
        {
          "name": "stderr",
          "text": "Loss : 8.450861930847168: 100%|██████████| 429/429 [03:11<00:00,  2.24it/s] \n",
          "output_type": "stream"
        },
        {
          "name": "stdout",
          "text": "Epoch : 77\n",
          "output_type": "stream"
        },
        {
          "name": "stderr",
          "text": "Loss : 8.444937705993652: 100%|██████████| 429/429 [03:11<00:00,  2.24it/s] \n",
          "output_type": "stream"
        },
        {
          "name": "stdout",
          "text": "Epoch : 78\n",
          "output_type": "stream"
        },
        {
          "name": "stderr",
          "text": "Loss : 8.438977241516113: 100%|██████████| 429/429 [03:11<00:00,  2.24it/s] \n",
          "output_type": "stream"
        },
        {
          "name": "stdout",
          "text": "Epoch : 79\n",
          "output_type": "stream"
        },
        {
          "name": "stderr",
          "text": "Loss : 8.432976722717285: 100%|██████████| 429/429 [03:10<00:00,  2.25it/s] \n",
          "output_type": "stream"
        },
        {
          "name": "stdout",
          "text": "Epoch : 80\n",
          "output_type": "stream"
        },
        {
          "name": "stderr",
          "text": "Loss : 8.426939964294434: 100%|██████████| 429/429 [03:11<00:00,  2.24it/s] \n",
          "output_type": "stream"
        },
        {
          "name": "stdout",
          "text": "Epoch : 81\n",
          "output_type": "stream"
        },
        {
          "name": "stderr",
          "text": "Loss : 8.420866012573242: 100%|██████████| 429/429 [03:11<00:00,  2.25it/s] \n",
          "output_type": "stream"
        },
        {
          "name": "stdout",
          "text": "Epoch : 82\n",
          "output_type": "stream"
        },
        {
          "name": "stderr",
          "text": "Loss : 8.414753913879395: 100%|██████████| 429/429 [03:10<00:00,  2.25it/s] \n",
          "output_type": "stream"
        },
        {
          "name": "stdout",
          "text": "Epoch : 83\n",
          "output_type": "stream"
        },
        {
          "name": "stderr",
          "text": "Loss : 8.408604621887207: 100%|██████████| 429/429 [03:11<00:00,  2.24it/s] \n",
          "output_type": "stream"
        },
        {
          "name": "stdout",
          "text": "Epoch : 84\n",
          "output_type": "stream"
        },
        {
          "name": "stderr",
          "text": "Loss : 8.402419090270996: 100%|██████████| 429/429 [03:10<00:00,  2.25it/s] \n",
          "output_type": "stream"
        },
        {
          "name": "stdout",
          "text": "Epoch : 85\n",
          "output_type": "stream"
        },
        {
          "name": "stderr",
          "text": "Loss : 8.396197319030762: 100%|██████████| 429/429 [03:11<00:00,  2.24it/s] \n",
          "output_type": "stream"
        },
        {
          "name": "stdout",
          "text": "Epoch : 86\n",
          "output_type": "stream"
        },
        {
          "name": "stderr",
          "text": "Loss : 8.389942169189453: 100%|██████████| 429/429 [03:11<00:00,  2.24it/s] \n",
          "output_type": "stream"
        },
        {
          "name": "stdout",
          "text": "Epoch : 87\n",
          "output_type": "stream"
        },
        {
          "name": "stderr",
          "text": "Loss : 8.383652687072754: 100%|██████████| 429/429 [03:10<00:00,  2.25it/s] \n",
          "output_type": "stream"
        },
        {
          "name": "stdout",
          "text": "Epoch : 88\n",
          "output_type": "stream"
        },
        {
          "name": "stderr",
          "text": "Loss : 8.377330780029297: 100%|██████████| 429/429 [03:10<00:00,  2.26it/s] \n",
          "output_type": "stream"
        },
        {
          "name": "stdout",
          "text": "Epoch : 89\n",
          "output_type": "stream"
        },
        {
          "name": "stderr",
          "text": "Loss : 8.370976448059082: 100%|██████████| 429/429 [03:10<00:00,  2.25it/s] \n",
          "output_type": "stream"
        },
        {
          "name": "stdout",
          "text": "Epoch : 90\n",
          "output_type": "stream"
        },
        {
          "name": "stderr",
          "text": "Loss : 8.364592552185059: 100%|██████████| 429/429 [03:10<00:00,  2.26it/s] \n",
          "output_type": "stream"
        },
        {
          "name": "stdout",
          "text": "Epoch : 91\n",
          "output_type": "stream"
        },
        {
          "name": "stderr",
          "text": "Loss : 8.358180046081543: 100%|██████████| 429/429 [03:10<00:00,  2.25it/s] \n",
          "output_type": "stream"
        },
        {
          "name": "stdout",
          "text": "Epoch : 92\n",
          "output_type": "stream"
        },
        {
          "name": "stderr",
          "text": "Loss : 8.351738929748535: 100%|██████████| 429/429 [03:09<00:00,  2.26it/s] \n",
          "output_type": "stream"
        },
        {
          "name": "stdout",
          "text": "Epoch : 93\n",
          "output_type": "stream"
        },
        {
          "name": "stderr",
          "text": "Loss : 8.345272064208984: 100%|██████████| 429/429 [03:10<00:00,  2.26it/s] \n",
          "output_type": "stream"
        },
        {
          "name": "stdout",
          "text": "Epoch : 94\n",
          "output_type": "stream"
        },
        {
          "name": "stderr",
          "text": "Loss : 8.338777542114258: 100%|██████████| 429/429 [03:09<00:00,  2.27it/s] \n",
          "output_type": "stream"
        },
        {
          "name": "stdout",
          "text": "Epoch : 95\n",
          "output_type": "stream"
        },
        {
          "name": "stderr",
          "text": "Loss : 8.332259178161621: 100%|██████████| 429/429 [03:09<00:00,  2.26it/s] \n",
          "output_type": "stream"
        },
        {
          "name": "stdout",
          "text": "Epoch : 96\n",
          "output_type": "stream"
        },
        {
          "name": "stderr",
          "text": "Loss : 8.325714111328125: 100%|██████████| 429/429 [03:09<00:00,  2.26it/s] \n",
          "output_type": "stream"
        },
        {
          "name": "stdout",
          "text": "Epoch : 97\n",
          "output_type": "stream"
        },
        {
          "name": "stderr",
          "text": "Loss : 8.31914234161377: 100%|██████████| 429/429 [03:10<00:00,  2.25it/s]  \n",
          "output_type": "stream"
        },
        {
          "name": "stdout",
          "text": "Epoch : 98\n",
          "output_type": "stream"
        },
        {
          "name": "stderr",
          "text": "Loss : 8.312542915344238: 100%|██████████| 429/429 [03:10<00:00,  2.26it/s] ",
          "output_type": "stream"
        },
        {
          "name": "stdout",
          "text": "Epoch : 99\n",
          "output_type": "stream"
        },
        {
          "name": "stderr",
          "text": "\n",
          "output_type": "stream"
        }
      ]
    },
    {
      "cell_type": "code",
      "source": [
        "print(lavg)"
      ],
      "metadata": {
        "id": "fP49a7N26Xuo",
        "outputId": "71963ad6-75a3-4b05-beb8-720531b6ab68",
        "execution": {
          "iopub.status.busy": "2023-03-19T10:38:19.987458Z",
          "iopub.execute_input": "2023-03-19T10:38:19.988237Z",
          "iopub.status.idle": "2023-03-19T10:38:19.994739Z",
          "shell.execute_reply.started": "2023-03-19T10:38:19.988198Z",
          "shell.execute_reply": "2023-03-19T10:38:19.993670Z"
        },
        "trusted": true
      },
      "execution_count": null,
      "outputs": [
        {
          "name": "stdout",
          "text": "[9.553101050040135, 8.827281841864952, 8.521595112371555, 8.376583262756988, 8.286243036354616, 8.222836726751083, 8.175031566397571, 8.137167051399782, 8.106066255858451, 8.079804324881458, 8.057145383252408, 8.037254941491257, 8.019542380646392, 8.003571618131268, 7.989008408882123, 7.9755887818503215, 7.963099450776071, 7.951365231911897, 7.940241222337131, 7.929606747793985, 7.919361873662277, 7.909423512456578, 7.899723057424549, 7.890203965015901, 7.880819295114015, 7.8715303505495156, 7.862304824215549, 7.853115992112593, 7.843941958634169, 7.834765823293122, 7.825575545117571, 7.816364326121368, 7.807130949202673, 7.797879635870873, 7.788619437139907, 7.77936390229872, 7.770129316058748, 7.7609329179172475, 7.751790763614895, 7.742715970063821, 7.73371782502928, 7.724801670421254, 7.715969025671899, 7.707218275759326, 7.698545441483006, 7.689945137584126, 7.681411070701404, 7.672936446183211, 7.664514512726755, 7.656138885827054, 7.6478037923088165, 7.639504161470142, 7.631235821819527, 7.622995252097959, 7.614779809138158, 7.606587567807355, 7.598417357687072, 7.59026843740112, 7.582140636888695, 7.574034578594572, 7.565951357354651, 7.557892743802015, 7.549861049874401, 7.5418588942859, 7.533888954660553, 7.52595414537372, 7.518057251865769, 7.510200859505535, 7.502387251331534, 7.494618109056166, 7.486894391911291, 7.479216372216498, 7.471583717630738, 7.463995743464757, 7.456451672774095, 7.448950771963124, 7.441492409695001, 7.434076292531474, 7.426702083685459, 7.419369863185572, 7.412079784419987, 7.40483234979056, 7.397628139504742, 7.390467715985848, 7.383351773926706, 7.376280971340366, 7.369256015146251, 7.362277454429573, 7.355345920527176, 7.348462022545732, 7.341626308458946, 7.33483914617614, 7.328101149250021, 7.321412796740765, 7.314774528805748, 7.3081868767460465, 7.30165019513288, 7.29516486076764, 7.28873108928298, 7.282349121876252]\n",
          "output_type": "stream"
        }
      ]
    },
    {
      "cell_type": "code",
      "source": [
        "SkipGram = model.network\n",
        "SkipGram['w1'] = model.network['w1'].cpu().detach().numpy()\n",
        "SkipGram['w2'] = model.network['w2'].cpu().detach().numpy()\n",
        "\n",
        "with open('SkipGram.pkl', 'wb') as f:\n",
        "  dump(SkipGram, f)"
      ],
      "metadata": {
        "id": "g9o-mlpS4OzR",
        "execution": {
          "iopub.status.busy": "2023-03-19T10:38:19.996386Z",
          "iopub.execute_input": "2023-03-19T10:38:19.997903Z",
          "iopub.status.idle": "2023-03-19T10:38:20.051596Z",
          "shell.execute_reply.started": "2023-03-19T10:38:19.997806Z",
          "shell.execute_reply": "2023-03-19T10:38:20.050652Z"
        },
        "trusted": true
      },
      "execution_count": null,
      "outputs": []
    },
    {
      "cell_type": "code",
      "source": [
        "import matplotlib.pyplot as plt\n",
        "\n",
        "plt.plot(lavg)"
      ],
      "metadata": {
        "id": "DBMQ46tFnO4b",
        "outputId": "e83d2eb2-3170-4865-c7a2-b28795d45bdd",
        "execution": {
          "iopub.status.busy": "2023-03-19T10:38:20.054226Z",
          "iopub.execute_input": "2023-03-19T10:38:20.054691Z",
          "iopub.status.idle": "2023-03-19T10:38:20.269562Z",
          "shell.execute_reply.started": "2023-03-19T10:38:20.054651Z",
          "shell.execute_reply": "2023-03-19T10:38:20.268589Z"
        },
        "trusted": true
      },
      "execution_count": null,
      "outputs": [
        {
          "execution_count": 26,
          "output_type": "execute_result",
          "data": {
            "text/plain": "[<matplotlib.lines.Line2D at 0x7f8a685d3ad0>]"
          },
          "metadata": {}
        },
        {
          "output_type": "display_data",
          "data": {
            "text/plain": "<Figure size 640x480 with 1 Axes>",
            "image/png": "[encoded data removed]"
          },
          "metadata": {}
        }
      ]
    },
    {
      "cell_type": "code",
      "source": [
        "plt.savefig('Skipgram_loss.jpg')"
      ],
      "metadata": {
        "execution": {
          "iopub.status.busy": "2023-03-19T10:38:20.272669Z",
          "iopub.execute_input": "2023-03-19T10:38:20.272940Z",
          "iopub.status.idle": "2023-03-19T10:38:20.295339Z",
          "shell.execute_reply.started": "2023-03-19T10:38:20.272914Z",
          "shell.execute_reply": "2023-03-19T10:38:20.294457Z"
        },
        "trusted": true,
        "id": "9rGX9sbP6HoL",
        "outputId": "9f01b78b-f087-4e72-971a-71d6c68a397b"
      },
      "execution_count": null,
      "outputs": [
        {
          "output_type": "display_data",
          "data": {
            "text/plain": "<Figure size 640x480 with 0 Axes>"
          },
          "metadata": {}
        }
      ]
    },
    {
      "cell_type": "markdown",
      "source": [
        "## CBOW"
      ],
      "metadata": {
        "id": "mv0fty77j1yy"
      }
    },
    {
      "cell_type": "code",
      "source": [
        "def one_hot_batch_encoding_cbow(batch, word_to_id, x_comes=True):\n",
        "  B = torch.zeros((len(batch), len(word_to_id)))           #B_dim = bXV; batch_dim = [batch_size, 0]\n",
        "\n",
        "  if x_comes==False:\n",
        "    for i,w in enumerate(batch):\n",
        "      B[i, word_to_id[w]] = 1\n",
        "  else:\n",
        "    for i,words in enumerate(batch):\n",
        "#       print('words=', words)\n",
        "      for w in words:\n",
        "        B[i, word_to_id[w]] = 1/len(words)\n",
        "\n",
        "  return B.to('cuda')"
      ],
      "metadata": {
        "id": "rPSfBVRWkVT6",
        "execution": {
          "iopub.status.busy": "2023-03-18T19:43:46.959208Z",
          "iopub.execute_input": "2023-03-18T19:43:46.959827Z",
          "iopub.status.idle": "2023-03-18T19:43:46.966837Z",
          "shell.execute_reply.started": "2023-03-18T19:43:46.959789Z",
          "shell.execute_reply": "2023-03-18T19:43:46.965448Z"
        },
        "trusted": true
      },
      "execution_count": null,
      "outputs": []
    },
    {
      "cell_type": "code",
      "source": [
        "cbow_loader = DataLoader(word_to_id, id_to_word, Y, X, one_hot_batch_encoding, batch_size = 1000)\n",
        "\n",
        "# model_cbow = word2vec(len(word_to_id), embedding_size = 100, output_activation = softmax, loss_fn = cross_entropy)"
      ],
      "metadata": {
        "id": "3q4DL2_Uj1hG",
        "execution": {
          "iopub.status.busy": "2023-03-19T10:38:20.296520Z",
          "iopub.execute_input": "2023-03-19T10:38:20.296959Z",
          "iopub.status.idle": "2023-03-19T10:38:20.303121Z",
          "shell.execute_reply.started": "2023-03-19T10:38:20.296923Z",
          "shell.execute_reply": "2023-03-19T10:38:20.301870Z"
        },
        "trusted": true
      },
      "execution_count": null,
      "outputs": []
    },
    {
      "cell_type": "code",
      "source": [
        "model_cbow = word2vec(len(word_to_id), embedding_size = 50, output_activation = softmax, loss_fn = cross_entropy)"
      ],
      "metadata": {
        "id": "mxcLaqy0k1MT",
        "execution": {
          "iopub.status.busy": "2023-03-19T10:38:20.304320Z",
          "iopub.execute_input": "2023-03-19T10:38:20.304948Z",
          "iopub.status.idle": "2023-03-19T10:38:20.371578Z",
          "shell.execute_reply.started": "2023-03-19T10:38:20.304911Z",
          "shell.execute_reply": "2023-03-19T10:38:20.370578Z"
        },
        "trusted": true
      },
      "execution_count": null,
      "outputs": []
    },
    {
      "cell_type": "code",
      "source": [
        "epochs = 100\n",
        "\n",
        "beta1 = 0.9\n",
        "beta2 = 0.999\n",
        "alpha = 1e-3\n",
        "lavg_cbow = []\n",
        "\n",
        "for epoch in range(epochs):\n",
        "  with tqdm(total=len(cbow_loader)) as progress_bar:\n",
        "    L = []\n",
        "    for x,y in cbow_loader:\n",
        "      x = x.to(\"cuda\")\n",
        "      y = y.to(\"cuda\")\n",
        "      cache = model_cbow.forward(x)\n",
        "      loss = model_cbow.backward(cache, x, y, alpha = alpha, beta1 = beta1, beta2 = beta2, epoch = epoch+1)\n",
        "      if torch.isnan(loss):\n",
        "        exit()\n",
        "      L.append(loss.cpu().item())\n",
        "\n",
        "      progress_bar.update(1)\n",
        "      progress_bar.set_description(f\"Loss : {loss}\")\n",
        "      progress_bar.refresh()\n",
        "  lavg_cbow.append(np.mean(L))\n",
        "  #adding stopping condition if loss over epoch goes up\n",
        "  if len(lavg_cbow)>=2 and lavg_cbow[-1]>lavg_cbow[-2]:\n",
        "      print(\"Loss rising. Stopped!\")\n",
        "      exit()\n",
        "\n",
        "  print(f\"Epoch : {epoch}\")"
      ],
      "metadata": {
        "id": "HcaErecylCoP",
        "outputId": "e0503606-f211-4fb0-cd69-59d27e874a46",
        "execution": {
          "iopub.status.busy": "2023-03-19T10:38:20.372972Z",
          "iopub.execute_input": "2023-03-19T10:38:20.373427Z",
          "iopub.status.idle": "2023-03-19T15:57:27.468903Z",
          "shell.execute_reply.started": "2023-03-19T10:38:20.373382Z",
          "shell.execute_reply": "2023-03-19T15:57:27.467882Z"
        },
        "trusted": true
      },
      "execution_count": null,
      "outputs": [
        {
          "name": "stderr",
          "text": "Loss : 9.694146156311035: 100%|██████████| 429/429 [03:08<00:00,  2.27it/s] \n",
          "output_type": "stream"
        },
        {
          "name": "stdout",
          "text": "Epoch : 0\n",
          "output_type": "stream"
        },
        {
          "name": "stderr",
          "text": "Loss : 9.325822830200195: 100%|██████████| 429/429 [03:09<00:00,  2.26it/s] \n",
          "output_type": "stream"
        },
        {
          "name": "stdout",
          "text": "Epoch : 1\n",
          "output_type": "stream"
        },
        {
          "name": "stderr",
          "text": "Loss : 9.17835521697998: 100%|██████████| 429/429 [03:11<00:00,  2.25it/s]  \n",
          "output_type": "stream"
        },
        {
          "name": "stdout",
          "text": "Epoch : 2\n",
          "output_type": "stream"
        },
        {
          "name": "stderr",
          "text": "Loss : 9.092100143432617: 100%|██████████| 429/429 [03:09<00:00,  2.26it/s] \n",
          "output_type": "stream"
        },
        {
          "name": "stdout",
          "text": "Epoch : 3\n",
          "output_type": "stream"
        },
        {
          "name": "stderr",
          "text": "Loss : 9.032907485961914: 100%|██████████| 429/429 [03:10<00:00,  2.26it/s] \n",
          "output_type": "stream"
        },
        {
          "name": "stdout",
          "text": "Epoch : 4\n",
          "output_type": "stream"
        },
        {
          "name": "stderr",
          "text": "Loss : 8.98856258392334: 100%|██████████| 429/429 [03:10<00:00,  2.25it/s]  \n",
          "output_type": "stream"
        },
        {
          "name": "stdout",
          "text": "Epoch : 5\n",
          "output_type": "stream"
        },
        {
          "name": "stderr",
          "text": "Loss : 8.953463554382324: 100%|██████████| 429/429 [03:10<00:00,  2.25it/s] \n",
          "output_type": "stream"
        },
        {
          "name": "stdout",
          "text": "Epoch : 6\n",
          "output_type": "stream"
        },
        {
          "name": "stderr",
          "text": "Loss : 8.9246187210083: 100%|██████████| 429/429 [03:10<00:00,  2.26it/s]   \n",
          "output_type": "stream"
        },
        {
          "name": "stdout",
          "text": "Epoch : 7\n",
          "output_type": "stream"
        },
        {
          "name": "stderr",
          "text": "Loss : 8.900275230407715: 100%|██████████| 429/429 [03:09<00:00,  2.26it/s] \n",
          "output_type": "stream"
        },
        {
          "name": "stdout",
          "text": "Epoch : 8\n",
          "output_type": "stream"
        },
        {
          "name": "stderr",
          "text": "Loss : 8.87932014465332: 100%|██████████| 429/429 [03:10<00:00,  2.25it/s]  \n",
          "output_type": "stream"
        },
        {
          "name": "stdout",
          "text": "Epoch : 9\n",
          "output_type": "stream"
        },
        {
          "name": "stderr",
          "text": "Loss : 8.861011505126953: 100%|██████████| 429/429 [03:10<00:00,  2.25it/s] \n",
          "output_type": "stream"
        },
        {
          "name": "stdout",
          "text": "Epoch : 10\n",
          "output_type": "stream"
        },
        {
          "name": "stderr",
          "text": "Loss : 8.844820976257324: 100%|██████████| 429/429 [03:10<00:00,  2.25it/s] \n",
          "output_type": "stream"
        },
        {
          "name": "stdout",
          "text": "Epoch : 11\n",
          "output_type": "stream"
        },
        {
          "name": "stderr",
          "text": "Loss : 8.83035659790039: 100%|██████████| 429/429 [03:10<00:00,  2.25it/s]  \n",
          "output_type": "stream"
        },
        {
          "name": "stdout",
          "text": "Epoch : 12\n",
          "output_type": "stream"
        },
        {
          "name": "stderr",
          "text": "Loss : 8.8173189163208: 100%|██████████| 429/429 [03:10<00:00,  2.26it/s]   \n",
          "output_type": "stream"
        },
        {
          "name": "stdout",
          "text": "Epoch : 13\n",
          "output_type": "stream"
        },
        {
          "name": "stderr",
          "text": "Loss : 8.805471420288086: 100%|██████████| 429/429 [03:10<00:00,  2.25it/s] \n",
          "output_type": "stream"
        },
        {
          "name": "stdout",
          "text": "Epoch : 14\n",
          "output_type": "stream"
        },
        {
          "name": "stderr",
          "text": "Loss : 8.794621467590332: 100%|██████████| 429/429 [03:11<00:00,  2.24it/s] \n",
          "output_type": "stream"
        },
        {
          "name": "stdout",
          "text": "Epoch : 15\n",
          "output_type": "stream"
        },
        {
          "name": "stderr",
          "text": "Loss : 8.784618377685547: 100%|██████████| 429/429 [03:10<00:00,  2.25it/s] \n",
          "output_type": "stream"
        },
        {
          "name": "stdout",
          "text": "Epoch : 16\n",
          "output_type": "stream"
        },
        {
          "name": "stderr",
          "text": "Loss : 8.775336265563965: 100%|██████████| 429/429 [03:11<00:00,  2.24it/s] \n",
          "output_type": "stream"
        },
        {
          "name": "stdout",
          "text": "Epoch : 17\n",
          "output_type": "stream"
        },
        {
          "name": "stderr",
          "text": "Loss : 8.76667308807373: 100%|██████████| 429/429 [03:10<00:00,  2.25it/s]  \n",
          "output_type": "stream"
        },
        {
          "name": "stdout",
          "text": "Epoch : 18\n",
          "output_type": "stream"
        },
        {
          "name": "stderr",
          "text": "Loss : 8.758541107177734: 100%|██████████| 429/429 [03:10<00:00,  2.25it/s] \n",
          "output_type": "stream"
        },
        {
          "name": "stdout",
          "text": "Epoch : 19\n",
          "output_type": "stream"
        },
        {
          "name": "stderr",
          "text": "Loss : 8.750871658325195: 100%|██████████| 429/429 [03:13<00:00,  2.22it/s] \n",
          "output_type": "stream"
        },
        {
          "name": "stdout",
          "text": "Epoch : 20\n",
          "output_type": "stream"
        },
        {
          "name": "stderr",
          "text": "Loss : 8.743603706359863: 100%|██████████| 429/429 [03:11<00:00,  2.25it/s] \n",
          "output_type": "stream"
        },
        {
          "name": "stdout",
          "text": "Epoch : 21\n",
          "output_type": "stream"
        },
        {
          "name": "stderr",
          "text": "Loss : 8.73669147491455: 100%|██████████| 429/429 [03:11<00:00,  2.24it/s]  \n",
          "output_type": "stream"
        },
        {
          "name": "stdout",
          "text": "Epoch : 22\n",
          "output_type": "stream"
        },
        {
          "name": "stderr",
          "text": "Loss : 8.73009204864502: 100%|██████████| 429/429 [03:10<00:00,  2.25it/s]  \n",
          "output_type": "stream"
        },
        {
          "name": "stdout",
          "text": "Epoch : 23\n",
          "output_type": "stream"
        },
        {
          "name": "stderr",
          "text": "Loss : 8.723775863647461: 100%|██████████| 429/429 [03:10<00:00,  2.26it/s] \n",
          "output_type": "stream"
        },
        {
          "name": "stdout",
          "text": "Epoch : 24\n",
          "output_type": "stream"
        },
        {
          "name": "stderr",
          "text": "Loss : 8.717717170715332: 100%|██████████| 429/429 [03:10<00:00,  2.25it/s] \n",
          "output_type": "stream"
        },
        {
          "name": "stdout",
          "text": "Epoch : 25\n",
          "output_type": "stream"
        },
        {
          "name": "stderr",
          "text": "Loss : 8.711894989013672: 100%|██████████| 429/429 [03:10<00:00,  2.26it/s] \n",
          "output_type": "stream"
        },
        {
          "name": "stdout",
          "text": "Epoch : 26\n",
          "output_type": "stream"
        },
        {
          "name": "stderr",
          "text": "Loss : 8.706293106079102: 100%|██████████| 429/429 [03:10<00:00,  2.25it/s] \n",
          "output_type": "stream"
        },
        {
          "name": "stdout",
          "text": "Epoch : 27\n",
          "output_type": "stream"
        },
        {
          "name": "stderr",
          "text": "Loss : 8.700897216796875: 100%|██████████| 429/429 [03:10<00:00,  2.25it/s] \n",
          "output_type": "stream"
        },
        {
          "name": "stdout",
          "text": "Epoch : 28\n",
          "output_type": "stream"
        },
        {
          "name": "stderr",
          "text": "Loss : 8.695684432983398: 100%|██████████| 429/429 [03:10<00:00,  2.25it/s] \n",
          "output_type": "stream"
        },
        {
          "name": "stdout",
          "text": "Epoch : 29\n",
          "output_type": "stream"
        },
        {
          "name": "stderr",
          "text": "Loss : 8.690641403198242: 100%|██████████| 429/429 [03:10<00:00,  2.25it/s] \n",
          "output_type": "stream"
        },
        {
          "name": "stdout",
          "text": "Epoch : 30\n",
          "output_type": "stream"
        },
        {
          "name": "stderr",
          "text": "Loss : 8.685744285583496: 100%|██████████| 429/429 [03:10<00:00,  2.25it/s] \n",
          "output_type": "stream"
        },
        {
          "name": "stdout",
          "text": "Epoch : 31\n",
          "output_type": "stream"
        },
        {
          "name": "stderr",
          "text": "Loss : 8.68096923828125: 100%|██████████| 429/429 [03:10<00:00,  2.25it/s]  \n",
          "output_type": "stream"
        },
        {
          "name": "stdout",
          "text": "Epoch : 32\n",
          "output_type": "stream"
        },
        {
          "name": "stderr",
          "text": "Loss : 8.676292419433594: 100%|██████████| 429/429 [03:10<00:00,  2.25it/s] \n",
          "output_type": "stream"
        },
        {
          "name": "stdout",
          "text": "Epoch : 33\n",
          "output_type": "stream"
        },
        {
          "name": "stderr",
          "text": "Loss : 8.671686172485352: 100%|██████████| 429/429 [03:11<00:00,  2.24it/s] \n",
          "output_type": "stream"
        },
        {
          "name": "stdout",
          "text": "Epoch : 34\n",
          "output_type": "stream"
        },
        {
          "name": "stderr",
          "text": "Loss : 8.667125701904297: 100%|██████████| 429/429 [03:10<00:00,  2.25it/s] \n",
          "output_type": "stream"
        },
        {
          "name": "stdout",
          "text": "Epoch : 35\n",
          "output_type": "stream"
        },
        {
          "name": "stderr",
          "text": "Loss : 8.662590026855469: 100%|██████████| 429/429 [03:10<00:00,  2.25it/s] \n",
          "output_type": "stream"
        },
        {
          "name": "stdout",
          "text": "Epoch : 36\n",
          "output_type": "stream"
        },
        {
          "name": "stderr",
          "text": "Loss : 8.658061981201172: 100%|██████████| 429/429 [03:11<00:00,  2.24it/s] \n",
          "output_type": "stream"
        },
        {
          "name": "stdout",
          "text": "Epoch : 37\n",
          "output_type": "stream"
        },
        {
          "name": "stderr",
          "text": "Loss : 8.653523445129395: 100%|██████████| 429/429 [03:10<00:00,  2.25it/s] \n",
          "output_type": "stream"
        },
        {
          "name": "stdout",
          "text": "Epoch : 38\n",
          "output_type": "stream"
        },
        {
          "name": "stderr",
          "text": "Loss : 8.64896297454834: 100%|██████████| 429/429 [03:10<00:00,  2.25it/s]  \n",
          "output_type": "stream"
        },
        {
          "name": "stdout",
          "text": "Epoch : 39\n",
          "output_type": "stream"
        },
        {
          "name": "stderr",
          "text": "Loss : 8.644369125366211: 100%|██████████| 429/429 [03:11<00:00,  2.24it/s] \n",
          "output_type": "stream"
        },
        {
          "name": "stdout",
          "text": "Epoch : 40\n",
          "output_type": "stream"
        },
        {
          "name": "stderr",
          "text": "Loss : 8.63973617553711: 100%|██████████| 429/429 [03:11<00:00,  2.24it/s]  \n",
          "output_type": "stream"
        },
        {
          "name": "stdout",
          "text": "Epoch : 41\n",
          "output_type": "stream"
        },
        {
          "name": "stderr",
          "text": "Loss : 8.635055541992188: 100%|██████████| 429/429 [03:10<00:00,  2.25it/s] \n",
          "output_type": "stream"
        },
        {
          "name": "stdout",
          "text": "Epoch : 42\n",
          "output_type": "stream"
        },
        {
          "name": "stderr",
          "text": "Loss : 8.630321502685547: 100%|██████████| 429/429 [03:10<00:00,  2.25it/s] \n",
          "output_type": "stream"
        },
        {
          "name": "stdout",
          "text": "Epoch : 43\n",
          "output_type": "stream"
        },
        {
          "name": "stderr",
          "text": "Loss : 8.62553596496582: 100%|██████████| 429/429 [03:10<00:00,  2.25it/s]  \n",
          "output_type": "stream"
        },
        {
          "name": "stdout",
          "text": "Epoch : 44\n",
          "output_type": "stream"
        },
        {
          "name": "stderr",
          "text": "Loss : 8.620691299438477: 100%|██████████| 429/429 [03:11<00:00,  2.24it/s] \n",
          "output_type": "stream"
        },
        {
          "name": "stdout",
          "text": "Epoch : 45\n",
          "output_type": "stream"
        },
        {
          "name": "stderr",
          "text": "Loss : 8.615789413452148: 100%|██████████| 429/429 [03:11<00:00,  2.24it/s] \n",
          "output_type": "stream"
        },
        {
          "name": "stdout",
          "text": "Epoch : 46\n",
          "output_type": "stream"
        },
        {
          "name": "stderr",
          "text": "Loss : 8.610830307006836: 100%|██████████| 429/429 [03:11<00:00,  2.25it/s] \n",
          "output_type": "stream"
        },
        {
          "name": "stdout",
          "text": "Epoch : 47\n",
          "output_type": "stream"
        },
        {
          "name": "stderr",
          "text": "Loss : 8.605813026428223: 100%|██████████| 429/429 [03:11<00:00,  2.24it/s] \n",
          "output_type": "stream"
        },
        {
          "name": "stdout",
          "text": "Epoch : 48\n",
          "output_type": "stream"
        },
        {
          "name": "stderr",
          "text": "Loss : 8.600738525390625: 100%|██████████| 429/429 [03:12<00:00,  2.23it/s] \n",
          "output_type": "stream"
        },
        {
          "name": "stdout",
          "text": "Epoch : 49\n",
          "output_type": "stream"
        },
        {
          "name": "stderr",
          "text": "Loss : 8.595610618591309: 100%|██████████| 429/429 [03:11<00:00,  2.24it/s] \n",
          "output_type": "stream"
        },
        {
          "name": "stdout",
          "text": "Epoch : 50\n",
          "output_type": "stream"
        },
        {
          "name": "stderr",
          "text": "Loss : 8.59043025970459: 100%|██████████| 429/429 [03:10<00:00,  2.25it/s]  \n",
          "output_type": "stream"
        },
        {
          "name": "stdout",
          "text": "Epoch : 51\n",
          "output_type": "stream"
        },
        {
          "name": "stderr",
          "text": "Loss : 8.585195541381836: 100%|██████████| 429/429 [03:10<00:00,  2.25it/s] \n",
          "output_type": "stream"
        },
        {
          "name": "stdout",
          "text": "Epoch : 52\n",
          "output_type": "stream"
        },
        {
          "name": "stderr",
          "text": "Loss : 8.579915046691895: 100%|██████████| 429/429 [03:11<00:00,  2.24it/s] \n",
          "output_type": "stream"
        },
        {
          "name": "stdout",
          "text": "Epoch : 53\n",
          "output_type": "stream"
        },
        {
          "name": "stderr",
          "text": "Loss : 8.574589729309082: 100%|██████████| 429/429 [03:12<00:00,  2.22it/s] \n",
          "output_type": "stream"
        },
        {
          "name": "stdout",
          "text": "Epoch : 54\n",
          "output_type": "stream"
        },
        {
          "name": "stderr",
          "text": "Loss : 8.569219589233398: 100%|██████████| 429/429 [03:11<00:00,  2.24it/s] \n",
          "output_type": "stream"
        },
        {
          "name": "stdout",
          "text": "Epoch : 55\n",
          "output_type": "stream"
        },
        {
          "name": "stderr",
          "text": "Loss : 8.563809394836426: 100%|██████████| 429/429 [03:11<00:00,  2.24it/s] \n",
          "output_type": "stream"
        },
        {
          "name": "stdout",
          "text": "Epoch : 56\n",
          "output_type": "stream"
        },
        {
          "name": "stderr",
          "text": "Loss : 8.558362007141113: 100%|██████████| 429/429 [03:11<00:00,  2.24it/s] \n",
          "output_type": "stream"
        },
        {
          "name": "stdout",
          "text": "Epoch : 57\n",
          "output_type": "stream"
        },
        {
          "name": "stderr",
          "text": "Loss : 8.552879333496094: 100%|██████████| 429/429 [03:12<00:00,  2.23it/s] \n",
          "output_type": "stream"
        },
        {
          "name": "stdout",
          "text": "Epoch : 58\n",
          "output_type": "stream"
        },
        {
          "name": "stderr",
          "text": "Loss : 8.54736328125: 100%|██████████| 429/429 [03:12<00:00,  2.23it/s]     \n",
          "output_type": "stream"
        },
        {
          "name": "stdout",
          "text": "Epoch : 59\n",
          "output_type": "stream"
        },
        {
          "name": "stderr",
          "text": "Loss : 8.541815757751465: 100%|██████████| 429/429 [03:12<00:00,  2.23it/s] \n",
          "output_type": "stream"
        },
        {
          "name": "stdout",
          "text": "Epoch : 60\n",
          "output_type": "stream"
        },
        {
          "name": "stderr",
          "text": "Loss : 8.536237716674805: 100%|██████████| 429/429 [03:12<00:00,  2.23it/s] \n",
          "output_type": "stream"
        },
        {
          "name": "stdout",
          "text": "Epoch : 61\n",
          "output_type": "stream"
        },
        {
          "name": "stderr",
          "text": "Loss : 8.530630111694336: 100%|██████████| 429/429 [03:12<00:00,  2.23it/s] \n",
          "output_type": "stream"
        },
        {
          "name": "stdout",
          "text": "Epoch : 62\n",
          "output_type": "stream"
        },
        {
          "name": "stderr",
          "text": "Loss : 8.524994850158691: 100%|██████████| 429/429 [03:13<00:00,  2.21it/s] \n",
          "output_type": "stream"
        },
        {
          "name": "stdout",
          "text": "Epoch : 63\n",
          "output_type": "stream"
        },
        {
          "name": "stderr",
          "text": "Loss : 8.519328117370605: 100%|██████████| 429/429 [03:12<00:00,  2.23it/s] \n",
          "output_type": "stream"
        },
        {
          "name": "stdout",
          "text": "Epoch : 64\n",
          "output_type": "stream"
        },
        {
          "name": "stderr",
          "text": "Loss : 8.513635635375977: 100%|██████████| 429/429 [03:11<00:00,  2.24it/s] \n",
          "output_type": "stream"
        },
        {
          "name": "stdout",
          "text": "Epoch : 65\n",
          "output_type": "stream"
        },
        {
          "name": "stderr",
          "text": "Loss : 8.507912635803223: 100%|██████████| 429/429 [03:11<00:00,  2.24it/s] \n",
          "output_type": "stream"
        },
        {
          "name": "stdout",
          "text": "Epoch : 66\n",
          "output_type": "stream"
        },
        {
          "name": "stderr",
          "text": "Loss : 8.502161026000977: 100%|██████████| 429/429 [03:11<00:00,  2.24it/s] \n",
          "output_type": "stream"
        },
        {
          "name": "stdout",
          "text": "Epoch : 67\n",
          "output_type": "stream"
        },
        {
          "name": "stderr",
          "text": "Loss : 8.496378898620605: 100%|██████████| 429/429 [03:12<00:00,  2.23it/s] \n",
          "output_type": "stream"
        },
        {
          "name": "stdout",
          "text": "Epoch : 68\n",
          "output_type": "stream"
        },
        {
          "name": "stderr",
          "text": "Loss : 8.490571022033691: 100%|██████████| 429/429 [03:12<00:00,  2.23it/s] \n",
          "output_type": "stream"
        },
        {
          "name": "stdout",
          "text": "Epoch : 69\n",
          "output_type": "stream"
        },
        {
          "name": "stderr",
          "text": "Loss : 8.484731674194336: 100%|██████████| 429/429 [03:13<00:00,  2.22it/s] \n",
          "output_type": "stream"
        },
        {
          "name": "stdout",
          "text": "Epoch : 70\n",
          "output_type": "stream"
        },
        {
          "name": "stderr",
          "text": "Loss : 8.478864669799805: 100%|██████████| 429/429 [03:12<00:00,  2.22it/s] \n",
          "output_type": "stream"
        },
        {
          "name": "stdout",
          "text": "Epoch : 71\n",
          "output_type": "stream"
        },
        {
          "name": "stderr",
          "text": "Loss : 8.472967147827148: 100%|██████████| 429/429 [03:11<00:00,  2.24it/s] \n",
          "output_type": "stream"
        },
        {
          "name": "stdout",
          "text": "Epoch : 72\n",
          "output_type": "stream"
        },
        {
          "name": "stderr",
          "text": "Loss : 8.467039108276367: 100%|██████████| 429/429 [03:11<00:00,  2.24it/s] \n",
          "output_type": "stream"
        },
        {
          "name": "stdout",
          "text": "Epoch : 73\n",
          "output_type": "stream"
        },
        {
          "name": "stderr",
          "text": "Loss : 8.461081504821777: 100%|██████████| 429/429 [03:12<00:00,  2.23it/s] \n",
          "output_type": "stream"
        },
        {
          "name": "stdout",
          "text": "Epoch : 74\n",
          "output_type": "stream"
        },
        {
          "name": "stderr",
          "text": "Loss : 8.455093383789062: 100%|██████████| 429/429 [03:11<00:00,  2.24it/s] \n",
          "output_type": "stream"
        },
        {
          "name": "stdout",
          "text": "Epoch : 75\n",
          "output_type": "stream"
        },
        {
          "name": "stderr",
          "text": "Loss : 8.449073791503906: 100%|██████████| 429/429 [03:11<00:00,  2.24it/s] \n",
          "output_type": "stream"
        },
        {
          "name": "stdout",
          "text": "Epoch : 76\n",
          "output_type": "stream"
        },
        {
          "name": "stderr",
          "text": "Loss : 8.443023681640625: 100%|██████████| 429/429 [03:11<00:00,  2.24it/s] \n",
          "output_type": "stream"
        },
        {
          "name": "stdout",
          "text": "Epoch : 77\n",
          "output_type": "stream"
        },
        {
          "name": "stderr",
          "text": "Loss : 8.436942100524902: 100%|██████████| 429/429 [03:11<00:00,  2.24it/s] \n",
          "output_type": "stream"
        },
        {
          "name": "stdout",
          "text": "Epoch : 78\n",
          "output_type": "stream"
        },
        {
          "name": "stderr",
          "text": "Loss : 8.430830001831055: 100%|██████████| 429/429 [03:11<00:00,  2.24it/s] \n",
          "output_type": "stream"
        },
        {
          "name": "stdout",
          "text": "Epoch : 79\n",
          "output_type": "stream"
        },
        {
          "name": "stderr",
          "text": "Loss : 8.42468547821045: 100%|██████████| 429/429 [03:11<00:00,  2.24it/s]  \n",
          "output_type": "stream"
        },
        {
          "name": "stdout",
          "text": "Epoch : 80\n",
          "output_type": "stream"
        },
        {
          "name": "stderr",
          "text": "Loss : 8.418510437011719: 100%|██████████| 429/429 [03:11<00:00,  2.24it/s] \n",
          "output_type": "stream"
        },
        {
          "name": "stdout",
          "text": "Epoch : 81\n",
          "output_type": "stream"
        },
        {
          "name": "stderr",
          "text": "Loss : 8.412304878234863: 100%|██████████| 429/429 [03:11<00:00,  2.24it/s] \n",
          "output_type": "stream"
        },
        {
          "name": "stdout",
          "text": "Epoch : 82\n",
          "output_type": "stream"
        },
        {
          "name": "stderr",
          "text": "Loss : 8.4060697555542: 100%|██████████| 429/429 [03:11<00:00,  2.24it/s]   \n",
          "output_type": "stream"
        },
        {
          "name": "stdout",
          "text": "Epoch : 83\n",
          "output_type": "stream"
        },
        {
          "name": "stderr",
          "text": "Loss : 8.399805068969727: 100%|██████████| 429/429 [03:11<00:00,  2.24it/s] \n",
          "output_type": "stream"
        },
        {
          "name": "stdout",
          "text": "Epoch : 84\n",
          "output_type": "stream"
        },
        {
          "name": "stderr",
          "text": "Loss : 8.393511772155762: 100%|██████████| 429/429 [03:11<00:00,  2.24it/s] \n",
          "output_type": "stream"
        },
        {
          "name": "stdout",
          "text": "Epoch : 85\n",
          "output_type": "stream"
        },
        {
          "name": "stderr",
          "text": "Loss : 8.387191772460938: 100%|██████████| 429/429 [03:13<00:00,  2.21it/s] \n",
          "output_type": "stream"
        },
        {
          "name": "stdout",
          "text": "Epoch : 86\n",
          "output_type": "stream"
        },
        {
          "name": "stderr",
          "text": "Loss : 8.380844116210938: 100%|██████████| 429/429 [03:15<00:00,  2.19it/s] \n",
          "output_type": "stream"
        },
        {
          "name": "stdout",
          "text": "Epoch : 87\n",
          "output_type": "stream"
        },
        {
          "name": "stderr",
          "text": "Loss : 8.374470710754395: 100%|██████████| 429/429 [03:15<00:00,  2.20it/s] \n",
          "output_type": "stream"
        },
        {
          "name": "stdout",
          "text": "Epoch : 88\n",
          "output_type": "stream"
        },
        {
          "name": "stderr",
          "text": "Loss : 8.368073463439941: 100%|██████████| 429/429 [03:13<00:00,  2.21it/s] \n",
          "output_type": "stream"
        },
        {
          "name": "stdout",
          "text": "Epoch : 89\n",
          "output_type": "stream"
        },
        {
          "name": "stderr",
          "text": "Loss : 8.361653327941895: 100%|██████████| 429/429 [03:12<00:00,  2.23it/s] \n",
          "output_type": "stream"
        },
        {
          "name": "stdout",
          "text": "Epoch : 90\n",
          "output_type": "stream"
        },
        {
          "name": "stderr",
          "text": "Loss : 8.355210304260254: 100%|██████████| 429/429 [03:12<00:00,  2.23it/s] \n",
          "output_type": "stream"
        },
        {
          "name": "stdout",
          "text": "Epoch : 91\n",
          "output_type": "stream"
        },
        {
          "name": "stderr",
          "text": "Loss : 8.348746299743652: 100%|██████████| 429/429 [03:12<00:00,  2.23it/s] \n",
          "output_type": "stream"
        },
        {
          "name": "stdout",
          "text": "Epoch : 92\n",
          "output_type": "stream"
        },
        {
          "name": "stderr",
          "text": "Loss : 8.34226131439209: 100%|██████████| 429/429 [03:12<00:00,  2.23it/s]  \n",
          "output_type": "stream"
        },
        {
          "name": "stdout",
          "text": "Epoch : 93\n",
          "output_type": "stream"
        },
        {
          "name": "stderr",
          "text": "Loss : 8.335756301879883: 100%|██████████| 429/429 [03:12<00:00,  2.23it/s] \n",
          "output_type": "stream"
        },
        {
          "name": "stdout",
          "text": "Epoch : 94\n",
          "output_type": "stream"
        },
        {
          "name": "stderr",
          "text": "Loss : 8.329230308532715: 100%|██████████| 429/429 [03:11<00:00,  2.23it/s] \n",
          "output_type": "stream"
        },
        {
          "name": "stdout",
          "text": "Epoch : 95\n",
          "output_type": "stream"
        },
        {
          "name": "stderr",
          "text": "Loss : 8.322684288024902: 100%|██████████| 429/429 [03:11<00:00,  2.24it/s] \n",
          "output_type": "stream"
        },
        {
          "name": "stdout",
          "text": "Epoch : 96\n",
          "output_type": "stream"
        },
        {
          "name": "stderr",
          "text": "Loss : 8.316117286682129: 100%|██████████| 429/429 [03:12<00:00,  2.23it/s] \n",
          "output_type": "stream"
        },
        {
          "name": "stdout",
          "text": "Epoch : 97\n",
          "output_type": "stream"
        },
        {
          "name": "stderr",
          "text": "Loss : 8.309531211853027: 100%|██████████| 429/429 [03:12<00:00,  2.23it/s] \n",
          "output_type": "stream"
        },
        {
          "name": "stdout",
          "text": "Epoch : 98\n",
          "output_type": "stream"
        },
        {
          "name": "stderr",
          "text": "Loss : 8.302923202514648: 100%|██████████| 429/429 [03:11<00:00,  2.24it/s] ",
          "output_type": "stream"
        },
        {
          "name": "stdout",
          "text": "Epoch : 99\n",
          "output_type": "stream"
        },
        {
          "name": "stderr",
          "text": "\n",
          "output_type": "stream"
        }
      ]
    },
    {
      "cell_type": "code",
      "source": [
        "CBoW = model_cbow.network\n",
        "CBoW['w1'] = model_cbow.network['w1'].cpu().detach().numpy()\n",
        "CBoW['w2'] = model_cbow.network['w2'].cpu().detach().numpy()\n",
        "\n",
        "with open('CBoW.pkl', 'wb') as f:\n",
        "  dump(CBoW, f)"
      ],
      "metadata": {
        "id": "bwN7ruQE5e7Q",
        "execution": {
          "iopub.status.busy": "2023-03-19T15:57:27.470671Z",
          "iopub.execute_input": "2023-03-19T15:57:27.471564Z",
          "iopub.status.idle": "2023-03-19T15:57:27.508297Z",
          "shell.execute_reply.started": "2023-03-19T15:57:27.471513Z",
          "shell.execute_reply": "2023-03-19T15:57:27.507283Z"
        },
        "trusted": true
      },
      "execution_count": null,
      "outputs": []
    },
    {
      "cell_type": "code",
      "source": [
        "print(lavg_cbow)\n",
        "plt.plot(lavg_cbow)"
      ],
      "metadata": {
        "id": "kEju5lDD9VfK",
        "outputId": "7119384f-fe69-4354-a139-80710d156b33",
        "execution": {
          "iopub.status.busy": "2023-03-19T15:57:27.511677Z",
          "iopub.execute_input": "2023-03-19T15:57:27.512021Z",
          "iopub.status.idle": "2023-03-19T15:57:27.712554Z",
          "shell.execute_reply.started": "2023-03-19T15:57:27.511992Z",
          "shell.execute_reply": "2023-03-19T15:57:27.711623Z"
        },
        "trusted": true
      },
      "execution_count": null,
      "outputs": [
        {
          "name": "stdout",
          "text": "[9.665359623782285, 8.830298098095092, 8.521400572814585, 8.376198006120873, 8.286151415818221, 8.22297110924354, 8.17522266472414, 8.137269106778232, 8.105980099497975, 8.079469228402163, 8.056524795807881, 8.036324322084726, 8.018282061134462, 8.00196252836214, 7.987030300504956, 7.973219523618827, 7.960315250850224, 7.94814116693599, 7.936551675374136, 7.925426403125683, 7.9146664125936015, 7.904190735939221, 7.893934103158804, 7.88384527482075, 7.87388547261556, 7.86402656981995, 7.854249576310734, 7.844542819025356, 7.834900691514805, 7.82532202447211, 7.815809295449779, 7.806367257258275, 7.797001760878485, 7.787718809567965, 7.778523791920055, 7.7694206771317065, 7.760411824935522, 7.7514975265467365, 7.7426759324151595, 7.73394350460915, 7.725295020150138, 7.71672409675616, 7.708223709693322, 7.699786514113277, 7.691405069577944, 7.683072112379096, 7.674780805627782, 7.666524924876251, 7.658298810323079, 7.6500974157195545, 7.641916508441205, 7.633752534995268, 7.625602566556775, 7.617464751352519, 7.609338069017673, 7.601222569570119, 7.593119560143887, 7.585031367126323, 7.57696112052544, 7.568912266017674, 7.560888568282405, 7.552893146212562, 7.544928609630166, 7.536997314933297, 7.529101004967322, 7.521241390343868, 7.513420108314994, 7.505638736111301, 7.497898672010515, 7.490201139783526, 7.482546936381947, 7.474936499740139, 7.467369947678003, 7.459847223508608, 7.45236804157426, 7.444932201803425, 7.437539395196732, 7.430189691779219, 7.422883058205629, 7.415619814590419, 7.40840026882145, 7.4012248988473885, 7.394094000329504, 7.38700818237447, 7.3799678773591015, 7.372973653264257, 7.366025898006413, 7.359125192904528, 7.352271912536977, 7.345466394802352, 7.338708868671408, 7.331999688715368, 7.325339068343867, 7.31872738213528, 7.31216486128338, 7.30565180589547, 7.299188359356148, 7.292774638373813, 7.28641079522513, 7.280096825464066]\n",
          "output_type": "stream"
        },
        {
          "execution_count": 32,
          "output_type": "execute_result",
          "data": {
            "text/plain": "[<matplotlib.lines.Line2D at 0x7f8a693e1110>]"
          },
          "metadata": {}
        },
        {
          "output_type": "display_data",
          "data": {
            "text/plain": "<Figure size 640x480 with 1 Axes>",
            "image/png": "[encoded data removed]"
          },
          "metadata": {}
        }
      ]
    },
    {
      "cell_type": "code",
      "source": [
        "plt.savefig('CBoW_loss.jpg')"
      ],
      "metadata": {
        "execution": {
          "iopub.status.busy": "2023-03-19T15:57:27.715912Z",
          "iopub.execute_input": "2023-03-19T15:57:27.716205Z",
          "iopub.status.idle": "2023-03-19T15:57:27.739870Z",
          "shell.execute_reply.started": "2023-03-19T15:57:27.716178Z",
          "shell.execute_reply": "2023-03-19T15:57:27.738567Z"
        },
        "trusted": true,
        "id": "W2ZLCy2d6HoS",
        "outputId": "b07b34bf-8b51-423c-a4fe-e1490053fd6f"
      },
      "execution_count": null,
      "outputs": [
        {
          "output_type": "display_data",
          "data": {
            "text/plain": "<Figure size 640x480 with 0 Axes>"
          },
          "metadata": {}
        }
      ]
    },
    {
      "cell_type": "markdown",
      "source": [
        "## Testing"
      ],
      "metadata": {
        "id": "FCG_juDvMLXD"
      }
    },
    {
      "cell_type": "code",
      "source": [
        "matrix = model.network['w1']\n",
        "\n",
        "word1 = \"dull\"\n",
        "word2 = 'intelligent'\n",
        "word3 = 'clever'\n",
        "\n",
        "e1 = one_hot_batch_encoding([word1], word_to_id) @ matrix\n",
        "e2 = one_hot_batch_encoding([word2], word_to_id) @ matrix\n",
        "e3 = one_hot_batch_encoding([word3], word_to_id) @ matrix\n",
        "e1@e2.T, e2@e3.T, e1@e3.T"
      ],
      "metadata": {
        "id": "gIR6LZZbMNnz"
      },
      "execution_count": null,
      "outputs": []
    },
    {
      "cell_type": "code",
      "source": [],
      "metadata": {
        "id": "Go0FmN8l6HoU"
      },
      "execution_count": null,
      "outputs": []
    }
  ]
}